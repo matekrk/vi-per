{
 "cells": [
  {
   "cell_type": "code",
   "execution_count": 94,
   "metadata": {},
   "outputs": [
    {
     "name": "stdout",
     "output_type": "stream",
     "text": [
      "The autoreload extension is already loaded. To reload it, use:\n",
      "  %reload_ext autoreload\n"
     ]
    }
   ],
   "source": [
    "import sys\n",
    "\n",
    "import torch\n",
    "\n",
    "sys.path.append(\"..\")\n",
    "\n",
    "from src._00_funcs import evaluate_method\n",
    "from src._01_data_generation import generate_data \n",
    "from src._02_method import LogisticVI, LogisticMCMC\n",
    "\n",
    "%load_ext autoreload\n",
    "%autoreload 2"
   ]
  },
  {
   "cell_type": "code",
   "execution_count": 81,
   "metadata": {},
   "outputs": [
    {
     "name": "stderr",
     "output_type": "stream",
     "text": [
      "/home/michael/.conda/envs/env/lib/python3.11/site-packages/torch/distributions/wishart.py:271: UserWarning: Singular sample detected.\n",
      "  warnings.warn(\"Singular sample detected.\")\n"
     ]
    }
   ],
   "source": [
    "# generate data\n",
    "dat = generate_data(500, 5, dgp=2)\n",
    "\n",
    "f0 = LogisticVI(dat, method=0)\n",
    "f0.fit()\n",
    "\n",
    "f1 = LogisticVI(dat, method=1)\n",
    "f1.fit()\n",
    "\n",
    "f2 = LogisticVI(dat, method=2)\n",
    "f2.fit()\n",
    "\n",
    "f3 = LogisticVI(dat, method=3)\n",
    "f3.fit()\n",
    "\n",
    "f4 = LogisticVI(dat, method=4)\n",
    "f4.fit()\n",
    "\n",
    "f5 = LogisticVI(dat, method=5)\n",
    "f5.fit()"
   ]
  },
  {
   "cell_type": "code",
   "execution_count": 66,
   "metadata": {},
   "outputs": [],
   "source": [
    "g = LogisticMCMC(dat, n_iter=1500, burnin=500)\n",
    "g.fit()"
   ]
  },
  {
   "cell_type": "code",
   "execution_count": 89,
   "metadata": {},
   "outputs": [
    {
     "name": "stdout",
     "output_type": "stream",
     "text": [
      "tensor(-144.7339, dtype=torch.float64)\n",
      "tensor(-144.3706, dtype=torch.float64)\n",
      "tensor(-151.8938, dtype=torch.float64)\n",
      "tensor(-145.1628, dtype=torch.float64)\n",
      "tensor(-144.7470, dtype=torch.float64)\n",
      "tensor(-144.3679, dtype=torch.float64)\n"
     ]
    }
   ],
   "source": [
    "print( f0._ELBO_MC() )\n",
    "print( f1._ELBO_MC() )\n",
    "print( f2._ELBO_MC() )\n",
    "print( f3._ELBO_MC() )\n",
    "print( f4._ELBO_MC() )\n",
    "print( f5._ELBO_MC() )"
   ]
  },
  {
   "cell_type": "code",
   "execution_count": 85,
   "metadata": {},
   "outputs": [],
   "source": [
    "kl_loss = torch.nn.KLDivLoss(reduction='batchmean')"
   ]
  },
  {
   "cell_type": "code",
   "execution_count": 80,
   "metadata": {},
   "outputs": [
    {
     "name": "stdout",
     "output_type": "stream",
     "text": [
      "tensor(0.2859, dtype=torch.float64)\n",
      "tensor(0.4035, dtype=torch.float64)\n",
      "tensor(0.3387, dtype=torch.float64)\n",
      "tensor(0.5370, dtype=torch.float64)\n"
     ]
    }
   ],
   "source": [
    "import torch.nn.functional as F\n",
    "\n",
    "n = g.B.shape[0]\n",
    "\n",
    "print( kl_loss(torch.log(torch.abs(f0.sample(n))), torch.abs(g.B)) )\n",
    "print( kl_loss(torch.log(torch.abs(f1.sample(n))), torch.abs(g.B)) )\n",
    "\n",
    "print( kl_loss(torch.log(torch.abs(f2.sample(n))), torch.abs(g.B)) )\n",
    "print( kl_loss(torch.log(torch.abs(f3.sample(n))), torch.abs(g.B)) )"
   ]
  },
  {
   "cell_type": "code",
   "execution_count": 99,
   "metadata": {},
   "outputs": [
    {
     "data": {
      "text/plain": [
       "(0.057307951152324677,\n",
       " 0.9558464646464646,\n",
       " tensor(1.),\n",
       " tensor(0.8917, dtype=torch.float64),\n",
       " 18.66378879547119,\n",
       " 0.0)"
      ]
     },
     "execution_count": 99,
     "metadata": {},
     "output_type": "execute_result"
    }
   ],
   "source": [
    "evaluate_method(f0, dat)\n",
    "evaluate_method(f1, dat)\n",
    "evaluate_method(f2, dat)\n",
    "evaluate_method(f3, dat)\n",
    "evaluate_method(f5, dat)\n",
    "evaluate_method(g, dat, method='mcmc')"
   ]
  }
 ],
 "metadata": {
  "kernelspec": {
   "display_name": "env",
   "language": "python",
   "name": "python3"
  },
  "language_info": {
   "codemirror_mode": {
    "name": "ipython",
    "version": 3
   },
   "file_extension": ".py",
   "mimetype": "text/x-python",
   "name": "python",
   "nbconvert_exporter": "python",
   "pygments_lexer": "ipython3",
   "version": "3.11.5"
  }
 },
 "nbformat": 4,
 "nbformat_minor": 2
}
