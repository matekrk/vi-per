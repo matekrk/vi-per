{
 "cells": [
  {
   "cell_type": "code",
   "execution_count": 3,
   "metadata": {},
   "outputs": [],
   "source": [
    "import sys\n",
    "import math\n",
    "\n",
    "import torch\n",
    "import numpy as np\n",
    "import matplotlib.pyplot as plt\n",
    "import dsdl\n",
    "import gpytorch\n",
    "import tqdm\n",
    "\n",
    "from torcheval.metrics import BinaryAUROC\n",
    "\n",
    "sys.path.append(\"..\")\n",
    "\n",
    "from src._97_gpytorch import LogisticGPVI, GPModel, LogitLikelihood, PGLikelihood\n",
    "\n",
    "%load_ext autoreload\n",
    "%autoreload 2"
   ]
  },
  {
   "cell_type": "code",
   "execution_count": 2,
   "metadata": {},
   "outputs": [],
   "source": [
    "data = dsdl.load(\"breast-cancer\")"
   ]
  },
  {
   "cell_type": "code",
   "execution_count": 3,
   "metadata": {},
   "outputs": [],
   "source": [
    "X, y = data.get_train()\n",
    "X = X.todense()\n",
    "\n",
    "X = torch.tensor(X, dtype=torch.float)\n",
    "Xstd = X.std(dim=0)\n",
    "Xmean = X.mean(dim=0)\n",
    "X = (X - Xmean) / Xstd\n",
    "y = torch.tensor(y, dtype=torch.float)\n",
    "y[y == 2] = 0\n",
    "y[y == 4] = 1"
   ]
  },
  {
   "cell_type": "code",
   "execution_count": 4,
   "metadata": {},
   "outputs": [
    {
     "data": {
      "text/plain": [
       "8.505290985107422"
      ]
     },
     "execution_count": 4,
     "metadata": {},
     "output_type": "execute_result"
    }
   ],
   "source": [
    "f0 = LogisticGPVI(y, X, n_inducing=50, n_iter=200, verbose=False)\n",
    "f0.fit()\n",
    "f0.runtime"
   ]
  },
  {
   "cell_type": "code",
   "execution_count": 68,
   "metadata": {},
   "outputs": [
    {
     "data": {
      "text/plain": [
       "5.1853251457214355"
      ]
     },
     "execution_count": 68,
     "metadata": {},
     "output_type": "execute_result"
    }
   ],
   "source": [
    "f1 = LogisticGPVI(y, X, likelihood=PGLikelihood(), n_inducing=50, n_iter=200, thresh=1e-6, verbose=False)\n",
    "f1.fit()\n",
    "f1.runtime"
   ]
  },
  {
   "cell_type": "code",
   "execution_count": 69,
   "metadata": {},
   "outputs": [
    {
     "name": "stdout",
     "output_type": "stream",
     "text": [
      "tensor(0.9544, dtype=torch.float64)\n"
     ]
    }
   ],
   "source": [
    "y_pred = f0.predict(X)\n",
    "\n",
    "auc = BinaryAUROC()\n",
    "auc.update(y, y_pred)\n",
    "print(auc.compute())"
   ]
  },
  {
   "cell_type": "code",
   "execution_count": 70,
   "metadata": {},
   "outputs": [
    {
     "name": "stdout",
     "output_type": "stream",
     "text": [
      "tensor(0.9554, dtype=torch.float64)\n"
     ]
    }
   ],
   "source": [
    "y_pred = f1.predict(X)\n",
    "\n",
    "auc = BinaryAUROC()\n",
    "auc.update(y, y_pred)\n",
    "print(auc.compute())"
   ]
  },
  {
   "cell_type": "code",
   "execution_count": 71,
   "metadata": {},
   "outputs": [
    {
     "data": {
      "text/plain": [
       "[<matplotlib.lines.Line2D at 0x7fd2ac16e890>]"
      ]
     },
     "execution_count": 71,
     "metadata": {},
     "output_type": "execute_result"
    },
    {
     "data": {
      "image/png": "[encoded data removed]",
      "text/plain": [
       "<Figure size 640x480 with 1 Axes>"
      ]
     },
     "metadata": {},
     "output_type": "display_data"
    }
   ],
   "source": [
    "plt.plot(f0.loss)\n",
    "plt.plot(f1.loss)"
   ]
  },
  {
   "cell_type": "code",
   "execution_count": 72,
   "metadata": {},
   "outputs": [
    {
     "name": "stdout",
     "output_type": "stream",
     "text": [
      "tensor(0.7430)\n",
      "tensor(0.5389)\n"
     ]
    }
   ],
   "source": [
    "lower, upper = f0.credible_intervals(X)\n",
    "print( (upper - lower).mean() )\n",
    "\n",
    "lower, upper = f1.credible_intervals(X)\n",
    "print( (upper - lower).mean() )"
   ]
  },
  {
   "cell_type": "markdown",
   "metadata": {},
   "source": [
    "# Diabetes dataset"
   ]
  },
  {
   "cell_type": "code",
   "execution_count": 85,
   "metadata": {},
   "outputs": [],
   "source": [
    "data = dsdl.load(\"diabetes_scale\")"
   ]
  },
  {
   "cell_type": "code",
   "execution_count": 87,
   "metadata": {},
   "outputs": [],
   "source": [
    "X, y = data.get_train()\n",
    "X = X.todense()\n",
    "\n",
    "X = torch.tensor(X, dtype=torch.float)\n",
    "y = torch.tensor(y, dtype=torch.float)\n",
    "y[y == -1] = 0"
   ]
  },
  {
   "cell_type": "code",
   "execution_count": 99,
   "metadata": {},
   "outputs": [
    {
     "data": {
      "text/plain": [
       "7.856612682342529"
      ]
     },
     "execution_count": 99,
     "metadata": {},
     "output_type": "execute_result"
    }
   ],
   "source": [
    "f0 = LogisticGPVI(y, X, n_inducing=50, n_iter=200, thresh=1e-6, verbose=False)\n",
    "f0.fit()\n",
    "f0.runtime"
   ]
  },
  {
   "cell_type": "code",
   "execution_count": 100,
   "metadata": {},
   "outputs": [
    {
     "data": {
      "text/plain": [
       "6.624014854431152"
      ]
     },
     "execution_count": 100,
     "metadata": {},
     "output_type": "execute_result"
    }
   ],
   "source": [
    "f1 = LogisticGPVI(y, X, likelihood=PGLikelihood(), n_inducing=50, n_iter=200, thresh=1e-6, verbose=False)\n",
    "f1.fit()\n",
    "f1.runtime"
   ]
  },
  {
   "cell_type": "code",
   "execution_count": 101,
   "metadata": {},
   "outputs": [
    {
     "data": {
      "text/plain": [
       "[<matplotlib.lines.Line2D at 0x7fd2ac1bf710>]"
      ]
     },
     "execution_count": 101,
     "metadata": {},
     "output_type": "execute_result"
    },
    {
     "data": {
      "image/png": "[encoded data removed]",
      "text/plain": [
       "<Figure size 640x480 with 1 Axes>"
      ]
     },
     "metadata": {},
     "output_type": "display_data"
    }
   ],
   "source": [
    "plt.plot(f0.loss)\n",
    "plt.plot(f1.loss)"
   ]
  },
  {
   "cell_type": "code",
   "execution_count": 102,
   "metadata": {},
   "outputs": [
    {
     "name": "stdout",
     "output_type": "stream",
     "text": [
      "tensor(0.6728, dtype=torch.float64)\n"
     ]
    }
   ],
   "source": [
    "y_pred = f0.predict(X)\n",
    "\n",
    "auc = BinaryAUROC()\n",
    "auc.update(y, y_pred)\n",
    "print(auc.compute())"
   ]
  },
  {
   "cell_type": "code",
   "execution_count": 103,
   "metadata": {},
   "outputs": [
    {
     "name": "stdout",
     "output_type": "stream",
     "text": [
      "tensor(0.6722, dtype=torch.float64)\n"
     ]
    }
   ],
   "source": [
    "y_pred = f1.predict(X)\n",
    "\n",
    "auc = BinaryAUROC()\n",
    "auc.update(y, y_pred)\n",
    "print(auc.compute())"
   ]
  },
  {
   "cell_type": "code",
   "execution_count": 104,
   "metadata": {},
   "outputs": [
    {
     "name": "stdout",
     "output_type": "stream",
     "text": [
      "tensor(1.0226)\n",
      "tensor(0.8558)\n"
     ]
    }
   ],
   "source": [
    "lower, upper = f0.credible_intervals(X)\n",
    "print( (upper - lower).mean() )\n",
    "\n",
    "lower, upper = f1.credible_intervals(X)\n",
    "print( (upper - lower).mean() )"
   ]
  },
  {
   "cell_type": "markdown",
   "metadata": {},
   "source": [
    "# Phishing"
   ]
  },
  {
   "cell_type": "code",
   "execution_count": 2,
   "metadata": {},
   "outputs": [],
   "source": [
    "data = dsdl.load(\"phishing\")"
   ]
  },
  {
   "cell_type": "code",
   "execution_count": 3,
   "metadata": {},
   "outputs": [],
   "source": [
    "X, y = data.get_train()\n",
    "X = X.todense()\n",
    "\n",
    "X = torch.tensor(X, dtype=torch.float)\n",
    "y = torch.tensor(y, dtype=torch.float)"
   ]
  },
  {
   "cell_type": "code",
   "execution_count": 17,
   "metadata": {},
   "outputs": [
    {
     "data": {
      "text/plain": [
       "32.97284913063049"
      ]
     },
     "execution_count": 17,
     "metadata": {},
     "output_type": "execute_result"
    }
   ],
   "source": [
    "f0 = LogisticGPVI(y, X, n_inducing=50, n_iter=100, thresh=1e-6, verbose=False, use_loader=True, batches=20)\n",
    "f0.fit()\n",
    "f0.runtime"
   ]
  },
  {
   "cell_type": "code",
   "execution_count": 12,
   "metadata": {},
   "outputs": [
    {
     "data": {
      "text/plain": [
       "42.8395836353302"
      ]
     },
     "execution_count": 12,
     "metadata": {},
     "output_type": "execute_result"
    }
   ],
   "source": [
    "f1 = LogisticGPVI(y, X, likelihood=PGLikelihood(), n_inducing=50, n_iter=100, thresh=1e-6, verbose=False, use_loader=True, batches=20)\n",
    "f1.fit()\n",
    "f1.runtime"
   ]
  },
  {
   "cell_type": "code",
   "execution_count": 18,
   "metadata": {},
   "outputs": [
    {
     "data": {
      "text/plain": [
       "[<matplotlib.lines.Line2D at 0x7fb01c445e90>]"
      ]
     },
     "execution_count": 18,
     "metadata": {},
     "output_type": "execute_result"
    },
    {
     "data": {
      "image/png": "[encoded data removed]",
      "text/plain": [
       "<Figure size 640x480 with 1 Axes>"
      ]
     },
     "metadata": {},
     "output_type": "display_data"
    }
   ],
   "source": [
    "plt.plot(f0.loss)\n",
    "plt.plot(f1.loss)"
   ]
  },
  {
   "cell_type": "code",
   "execution_count": 19,
   "metadata": {},
   "outputs": [
    {
     "name": "stdout",
     "output_type": "stream",
     "text": [
      "tensor(0.9129, dtype=torch.float64)\n"
     ]
    }
   ],
   "source": [
    "y_pred = f0.predict(X)\n",
    "\n",
    "auc = BinaryAUROC()\n",
    "auc.update(y, y_pred)\n",
    "print(auc.compute())"
   ]
  },
  {
   "cell_type": "code",
   "execution_count": 15,
   "metadata": {},
   "outputs": [
    {
     "name": "stdout",
     "output_type": "stream",
     "text": [
      "tensor(0.9165, dtype=torch.float64)\n"
     ]
    }
   ],
   "source": [
    "y_pred = f1.predict(X)\n",
    "\n",
    "auc = BinaryAUROC()\n",
    "auc.update(y, y_pred)\n",
    "print(auc.compute())"
   ]
  },
  {
   "cell_type": "code",
   "execution_count": 20,
   "metadata": {},
   "outputs": [
    {
     "name": "stdout",
     "output_type": "stream",
     "text": [
      "tensor(0.1911)\n",
      "tensor(0.0822)\n"
     ]
    }
   ],
   "source": [
    "lower, upper = f0.credible_intervals(X)\n",
    "print( (upper - lower).mean() )\n",
    "\n",
    "lower, upper = f1.credible_intervals(X)\n",
    "print( (upper - lower).mean() )"
   ]
  },
  {
   "cell_type": "markdown",
   "metadata": {},
   "source": [
    "# SVMGUIDE 1"
   ]
  },
  {
   "cell_type": "code",
   "execution_count": 23,
   "metadata": {},
   "outputs": [],
   "source": [
    "data = dsdl.load(\"svmguide1\")"
   ]
  },
  {
   "cell_type": "code",
   "execution_count": 33,
   "metadata": {},
   "outputs": [
    {
     "name": "stdout",
     "output_type": "stream",
     "text": [
      "torch.Size([3089, 4])\n"
     ]
    },
    {
     "data": {
      "text/plain": [
       "torch.Size([4000, 4])"
      ]
     },
     "execution_count": 33,
     "metadata": {},
     "output_type": "execute_result"
    }
   ],
   "source": [
    "X, y = data.get_train()\n",
    "X = X.todense()\n",
    "\n",
    "X = torch.tensor(X, dtype=torch.float)\n",
    "y = torch.tensor(y, dtype=torch.float)\n",
    "\n",
    "print( X.shape )\n",
    "\n",
    "X_test, y_test = data.get_test()\n",
    "X_test = X_test.todense()\n",
    "\n",
    "X_test = torch.tensor(X_test, dtype=torch.float)\n",
    "y_test = torch.tensor(y_test, dtype=torch.float)\n",
    "\n",
    "X_test.shape"
   ]
  },
  {
   "cell_type": "code",
   "execution_count": 56,
   "metadata": {},
   "outputs": [
    {
     "data": {
      "text/plain": [
       "8.022528171539307"
      ]
     },
     "execution_count": 56,
     "metadata": {},
     "output_type": "execute_result"
    }
   ],
   "source": [
    "f0 = LogisticGPVI(y, X, n_inducing=50, n_iter=20, thresh=1e-6, verbose=False, use_loader=True, batches=20)\n",
    "f0.fit()\n",
    "f0.runtime"
   ]
  },
  {
   "cell_type": "code",
   "execution_count": 57,
   "metadata": {},
   "outputs": [
    {
     "data": {
      "text/plain": [
       "6.1525890827178955"
      ]
     },
     "execution_count": 57,
     "metadata": {},
     "output_type": "execute_result"
    }
   ],
   "source": [
    "f1 = LogisticGPVI(y, X, likelihood=PGLikelihood(), n_inducing=50, n_iter=20, thresh=1e-6, verbose=False, use_loader=True, batches=20)\n",
    "f1.fit()\n",
    "f1.runtime"
   ]
  },
  {
   "cell_type": "code",
   "execution_count": 58,
   "metadata": {},
   "outputs": [
    {
     "data": {
      "text/plain": [
       "[<matplotlib.lines.Line2D at 0x7fb014b31b90>]"
      ]
     },
     "execution_count": 58,
     "metadata": {},
     "output_type": "execute_result"
    },
    {
     "data": {
      "image/png": "[encoded data removed]",
      "text/plain": [
       "<Figure size 640x480 with 1 Axes>"
      ]
     },
     "metadata": {},
     "output_type": "display_data"
    }
   ],
   "source": [
    "plt.plot(f0.loss)\n",
    "plt.plot(f1.loss)"
   ]
  },
  {
   "cell_type": "code",
   "execution_count": 59,
   "metadata": {},
   "outputs": [
    {
     "name": "stdout",
     "output_type": "stream",
     "text": [
      "tensor(0.9152, dtype=torch.float64)\n"
     ]
    }
   ],
   "source": [
    "y_pred = f0.predict(X_test)\n",
    "\n",
    "auc = BinaryAUROC()\n",
    "auc.update(y_test, y_pred)\n",
    "print(auc.compute())"
   ]
  },
  {
   "cell_type": "code",
   "execution_count": 60,
   "metadata": {},
   "outputs": [
    {
     "name": "stdout",
     "output_type": "stream",
     "text": [
      "tensor(0.8976, dtype=torch.float64)\n"
     ]
    }
   ],
   "source": [
    "y_pred = f1.predict(X_test)\n",
    "\n",
    "auc = BinaryAUROC()\n",
    "auc.update(y_test, y_pred)\n",
    "print(auc.compute())"
   ]
  },
  {
   "cell_type": "code",
   "execution_count": 61,
   "metadata": {},
   "outputs": [
    {
     "name": "stdout",
     "output_type": "stream",
     "text": [
      "tensor(0.1361)\n",
      "tensor(0.1036)\n"
     ]
    }
   ],
   "source": [
    "lower, upper = f0.credible_intervals(X_test)\n",
    "print( (upper - lower).mean() )\n",
    "\n",
    "lower, upper = f1.credible_intervals(X_test)\n",
    "print( (upper - lower).mean() )"
   ]
  },
  {
   "cell_type": "markdown",
   "metadata": {},
   "source": [
    "# General results"
   ]
  },
  {
   "cell_type": "code",
   "execution_count": 134,
   "metadata": {},
   "outputs": [],
   "source": [
    "def print_results(res):\n",
    "    \n",
    "    for i in range(res.shape[0]):\n",
    "        mean, sd = res[i].mean(dim=0), res[i].std(dim=0)\n",
    "        l = \"\"\n",
    "        for m, s in zip(mean, sd):\n",
    "            l += f\"{m:.2f} ({s:.2f}) \\t \"\n",
    "            \n",
    "        print(l[:-2])"
   ]
  },
  {
   "cell_type": "code",
   "execution_count": 135,
   "metadata": {},
   "outputs": [
    {
     "name": "stdout",
     "output_type": "stream",
     "text": [
      "\n",
      "breast-cancer\n",
      "12.69 (1.73) \t 0.96 (0.00) \t 0.73 (0.26) \t 48.68 (1.90) \t 3.81 (0.33) \t 48.68 (1.91) \t 3.81 (0.33) \t 48.92 (1.79) \t 3.83 (0.33) \n",
      "9.11 (2.22) \t 0.96 (0.00) \t 0.43 (0.07) \t 48.60 (1.70) \t 3.81 (0.28) \t 48.61 (1.70) \t 3.81 (0.28) \t 48.69 (1.72) \t 3.82 (0.28) \n",
      "\n",
      "diabetes_scale\n",
      "13.00 (2.60) \t 0.68 (0.01) \t 0.89 (0.49) \t 317.03 (9.95) \t 35.40 (0.51) \t 317.02 (9.96) \t 35.40 (0.51) \t 320.13 (7.89) \t 35.75 (0.58) \n",
      "9.48 (2.58) \t 0.68 (0.00) \t 0.63 (0.25) \t 320.65 (5.74) \t 35.43 (0.46) \t 320.64 (5.74) \t 35.42 (0.46) \t 322.12 (4.75) \t 35.59 (0.48) \n",
      "\n",
      "phishing\n",
      "118.64 (23.49) \t 0.91 (0.00) \t 0.07 (0.00) \t 1501.24 (35.19) \t 173.75 (6.53) \t 1501.23 (35.18) \t 173.74 (6.53) \t 1501.24 (35.19) \t 173.75 (6.53) \n",
      "97.59 (23.89) \t 0.91 (0.00) \t 0.07 (0.00) \t 1500.30 (34.88) \t 173.62 (6.52) \t 1500.30 (34.88) \t 173.62 (6.52) \t 1500.31 (34.88) \t 173.62 (6.52) \n",
      "\n",
      "svmguide1\n",
      "12.43 (5.69) \t 0.94 (0.00) \t 3.44 (0.13) \t 257.68 (8.85) \t 350.78 (23.27) \t 258.00 (8.83) \t 350.87 (23.38) \t 267.45 (9.54) \t 362.65 (24.54) \n",
      "10.60 (3.98) \t 0.94 (0.00) \t 1.41 (0.04) \t 265.32 (7.40) \t 353.75 (17.02) \t 265.40 (7.42) \t 353.77 (17.06) \t 268.62 (7.62) \t 357.76 (17.32) \n"
     ]
    }
   ],
   "source": [
    "datasets = [\"breast-cancer\", \"diabetes_scale\", \"phishing\", \"svmguide1\"]\n",
    "\n",
    "for dataset in datasets:\n",
    "    res = torch.load(f\"../results/real_data/{dataset}.pt\")\n",
    "    print(\"\\n\" + dataset)\n",
    "    # format nicely (auc, runtime, ci)\n",
    "\n",
    "    print_results(res)\n"
   ]
  }
 ],
 "metadata": {
  "kernelspec": {
   "display_name": "env",
   "language": "python",
   "name": "python3"
  },
  "language_info": {
   "codemirror_mode": {
    "name": "ipython",
    "version": 3
   },
   "file_extension": ".py",
   "mimetype": "text/x-python",
   "name": "python",
   "nbconvert_exporter": "python",
   "pygments_lexer": "ipython3",
   "version": "3.11.5"
  }
 },
 "nbformat": 4,
 "nbformat_minor": 2
}
