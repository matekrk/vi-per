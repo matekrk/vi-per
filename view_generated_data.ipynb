{
 "cells": [
  {
   "cell_type": "code",
   "execution_count": 16,
   "metadata": {},
   "outputs": [],
   "source": [
    "import os\n",
    "import json\n",
    "import collections\n",
    "import random\n",
    "import numpy as np\n",
    "from matplotlib import image as mpimg\n",
    "from matplotlib import pyplot as plt"
   ]
  },
  {
   "cell_type": "markdown",
   "metadata": {},
   "source": [
    "### Figures"
   ]
  },
  {
   "cell_type": "code",
   "execution_count": 2,
   "metadata": {},
   "outputs": [],
   "source": [
    "DATA_DIR = \"/shared/sets/datasets/vision/artificial_shapes\""
   ]
  },
  {
   "cell_type": "code",
   "execution_count": 3,
   "metadata": {},
   "outputs": [],
   "source": [
    "# variant\n",
    "size = 64\n",
    "simplicity = 3\n",
    "N = 200\n",
    "# figures\n",
    "no_overlap = False\n",
    "simpler = True\n",
    "# colours\n",
    "coloured_background = False\n",
    "coloured_figues = True"
   ]
  },
  {
   "cell_type": "code",
   "execution_count": 4,
   "metadata": {},
   "outputs": [],
   "source": [
    "def get_appendix(coloured_background, coloured_figues, no_overlap):\n",
    "    def get_bool_str(v):\n",
    "        return \"T\" if v else \"F\"\n",
    "    return f\"cb{get_bool_str(coloured_background)}_cf{get_bool_str(coloured_figues)}_no{get_bool_str(no_overlap)}\""
   ]
  },
  {
   "cell_type": "code",
   "execution_count": 5,
   "metadata": {},
   "outputs": [],
   "source": [
    "appendix = get_appendix(coloured_background, coloured_figues, no_overlap)\n",
    "specific_data_dir = os.path.join(DATA_DIR, f\"size{size}_simplicity{simplicity}_len{N}_{appendix}\")"
   ]
  },
  {
   "cell_type": "code",
   "execution_count": 22,
   "metadata": {},
   "outputs": [],
   "source": [
    "grid_n_imgs = 8"
   ]
  },
  {
   "cell_type": "code",
   "execution_count": 23,
   "metadata": {},
   "outputs": [],
   "source": [
    "with open(os.path.join(specific_data_dir, 'data.txt'), 'r') as f:\n",
    "    data = [json.loads(line) for line in f]"
   ]
  },
  {
   "cell_type": "code",
   "execution_count": 24,
   "metadata": {},
   "outputs": [],
   "source": [
    "def load_label(label_file):\n",
    "    rid2name = list()   # rid: real id, same as the id in label.txt\n",
    "    id2rid = list()     # id: number from 0 to len(rids)-1 corresponding to the order of rids\n",
    "    rid2id = list()     \n",
    "    with open(label_file) as l:\n",
    "        rid2name_dict = collections.defaultdict(str)\n",
    "        id2rid_dict = collections.defaultdict(str)\n",
    "        rid2id_dict = collections.defaultdict(str)\n",
    "        new_id = 0 \n",
    "        for line in l.readlines():\n",
    "            line = line.strip('\\n\\r').split(';')\n",
    "            if len(line) == 3: # attr description\n",
    "                if len(rid2name_dict) != 0:\n",
    "                    rid2name.append(rid2name_dict)\n",
    "                    id2rid.append(id2rid_dict)\n",
    "                    rid2id.append(rid2id_dict)\n",
    "                    rid2name_dict = collections.defaultdict(str)\n",
    "                    id2rid_dict = collections.defaultdict(str)\n",
    "                    rid2id_dict = collections.defaultdict(str)\n",
    "                    new_id = 0\n",
    "                rid2name_dict[\"__name__\"] = line[2]\n",
    "                rid2name_dict[\"__attr_id__\"] = line[1]\n",
    "            elif len(line) == 2: # attr value description\n",
    "                rid2name_dict[line[0]] = line[1]\n",
    "                id2rid_dict[new_id] = line[0]\n",
    "                rid2id_dict[line[0]] = new_id\n",
    "                new_id += 1\n",
    "        if len(rid2name_dict) != 0:\n",
    "            rid2name.append(rid2name_dict)\n",
    "            id2rid.append(id2rid_dict)\n",
    "            rid2id.append(rid2id_dict)\n",
    "    return rid2name, id2rid, rid2id"
   ]
  },
  {
   "cell_type": "code",
   "execution_count": null,
   "metadata": {},
   "outputs": [],
   "source": [
    "rid2name, id2rid, rid2id = load_label(os.path.join(specific_data_dir, 'label.txt'))"
   ]
  },
  {
   "cell_type": "code",
   "execution_count": 27,
   "metadata": {},
   "outputs": [],
   "source": [
    "indices = random.sample(range(len(data)), grid_n_imgs**2)"
   ]
  },
  {
   "cell_type": "code",
   "execution_count": null,
   "metadata": {},
   "outputs": [],
   "source": [
    "fig, axes = plt.subplots(grid_n_imgs, grid_n_imgs, figsize=(12, 12))\n",
    "for i, ax in enumerate(axes.flat):\n",
    "    index = indices[i]\n",
    "    img_path = data[index]['image_file']\n",
    "    img = mpimg.imread(img_path)\n",
    "    ax.imshow(img)\n",
    "    ax.axis('off')\n",
    "\n",
    "    label_ids = data[index]['id']\n",
    "    label_descriptions = label_ids # TODO\n",
    "    title = '\\n'.join(label_descriptions)\n",
    "    ax.set_title(title, fontsize=8)\n",
    "\n",
    "plt.tight_layout()\n",
    "plt.show()"
   ]
  },
  {
   "cell_type": "code",
   "execution_count": null,
   "metadata": {},
   "outputs": [],
   "source": []
  },
  {
   "cell_type": "markdown",
   "metadata": {},
   "source": [
    "### Synthetic"
   ]
  },
  {
   "cell_type": "code",
   "execution_count": null,
   "metadata": {},
   "outputs": [],
   "source": []
  }
 ],
 "metadata": {
  "kernelspec": {
   "display_name": "bfn2",
   "language": "python",
   "name": "python3"
  },
  "language_info": {
   "codemirror_mode": {
    "name": "ipython",
    "version": 3
   },
   "file_extension": ".py",
   "mimetype": "text/x-python",
   "name": "python",
   "nbconvert_exporter": "python",
   "pygments_lexer": "ipython3",
   "version": "3.10.9"
  }
 },
 "nbformat": 4,
 "nbformat_minor": 2
}
