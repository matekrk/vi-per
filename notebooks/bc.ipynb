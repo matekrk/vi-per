{
 "cells": [
  {
   "cell_type": "code",
   "execution_count": 2,
   "metadata": {},
   "outputs": [],
   "source": [
    "import sys\n",
    "import math\n",
    "\n",
    "import torch\n",
    "import numpy as np\n",
    "import matplotlib.pyplot as plt\n",
    "import dsdl\n",
    "import gpytorch\n",
    "import tqdm\n",
    "\n",
    "\n",
    "from torcheval.metrics import BinaryAUROC\n",
    "\n",
    "sys.path.append(\"..\")\n",
    "\n",
    "from src._97_gpytorch import LogisticGPVI, GPModel, LogitLikelihood, PGLikelihood\n",
    "\n",
    "%load_ext autoreload\n",
    "%autoreload 2"
   ]
  },
  {
   "cell_type": "code",
   "execution_count": 39,
   "metadata": {},
   "outputs": [],
   "source": [
    "data = dsdl.load(\"breast-cancer\")"
   ]
  },
  {
   "cell_type": "code",
   "execution_count": 40,
   "metadata": {},
   "outputs": [],
   "source": [
    "X, y = data.get_train()\n",
    "X = X.todense()\n",
    "\n",
    "X = torch.tensor(X, dtype=torch.float)\n",
    "Xstd = X.std(dim=0)\n",
    "Xmean = X.mean(dim=0)\n",
    "X = (X - Xmean) / Xstd\n",
    "y = torch.tensor(y, dtype=torch.float)\n",
    "y[y == 2] = 0\n",
    "y[y == 4] = 1"
   ]
  },
  {
   "cell_type": "code",
   "execution_count": 67,
   "metadata": {},
   "outputs": [
    {
     "data": {
      "text/plain": [
       "6.339436292648315"
      ]
     },
     "execution_count": 67,
     "metadata": {},
     "output_type": "execute_result"
    }
   ],
   "source": [
    "f0 = LogisticGPVI(y, X, n_inducing=50, n_iter=200, verbose=False)\n",
    "f0.fit()\n",
    "f0.runtime"
   ]
  },
  {
   "cell_type": "code",
   "execution_count": 68,
   "metadata": {},
   "outputs": [
    {
     "data": {
      "text/plain": [
       "5.1853251457214355"
      ]
     },
     "execution_count": 68,
     "metadata": {},
     "output_type": "execute_result"
    }
   ],
   "source": [
    "f1 = LogisticGPVI(y, X, likelihood=PGLikelihood(), n_inducing=50, n_iter=200, thresh=1e-6, verbose=False)\n",
    "f1.fit()\n",
    "f1.runtime"
   ]
  },
  {
   "cell_type": "code",
   "execution_count": 69,
   "metadata": {},
   "outputs": [
    {
     "name": "stdout",
     "output_type": "stream",
     "text": [
      "tensor(0.9544, dtype=torch.float64)\n"
     ]
    }
   ],
   "source": [
    "y_pred = f0.predict(X)\n",
    "\n",
    "auc = BinaryAUROC()\n",
    "auc.update(y, y_pred)\n",
    "print(auc.compute())"
   ]
  },
  {
   "cell_type": "code",
   "execution_count": 70,
   "metadata": {},
   "outputs": [
    {
     "name": "stdout",
     "output_type": "stream",
     "text": [
      "tensor(0.9554, dtype=torch.float64)\n"
     ]
    }
   ],
   "source": [
    "y_pred = f1.predict(X)\n",
    "\n",
    "auc = BinaryAUROC()\n",
    "auc.update(y, y_pred)\n",
    "print(auc.compute())"
   ]
  },
  {
   "cell_type": "code",
   "execution_count": 71,
   "metadata": {},
   "outputs": [
    {
     "data": {
      "text/plain": [
       "[<matplotlib.lines.Line2D at 0x7fd2ac16e890>]"
      ]
     },
     "execution_count": 71,
     "metadata": {},
     "output_type": "execute_result"
    },
    {
     "data": {
      "image/png": "[encoded data removed]",
      "text/plain": [
       "<Figure size 640x480 with 1 Axes>"
      ]
     },
     "metadata": {},
     "output_type": "display_data"
    }
   ],
   "source": [
    "plt.plot(f0.loss)\n",
    "plt.plot(f1.loss)"
   ]
  },
  {
   "cell_type": "code",
   "execution_count": 72,
   "metadata": {},
   "outputs": [
    {
     "name": "stdout",
     "output_type": "stream",
     "text": [
      "tensor(0.7430)\n",
      "tensor(0.5389)\n"
     ]
    }
   ],
   "source": [
    "lower, upper = f0.credible_intervals(X)\n",
    "print( (upper - lower).mean() )\n",
    "\n",
    "lower, upper = f1.credible_intervals(X)\n",
    "print( (upper - lower).mean() )"
   ]
  },
  {
   "cell_type": "markdown",
   "metadata": {},
   "source": [
    "# Diabetes dataset"
   ]
  },
  {
   "cell_type": "code",
   "execution_count": 85,
   "metadata": {},
   "outputs": [],
   "source": [
    "data = dsdl.load(\"diabetes_scale\")"
   ]
  },
  {
   "cell_type": "code",
   "execution_count": 87,
   "metadata": {},
   "outputs": [],
   "source": [
    "X, y = data.get_train()\n",
    "X = X.todense()\n",
    "\n",
    "X = torch.tensor(X, dtype=torch.float)\n",
    "y = torch.tensor(y, dtype=torch.float)\n",
    "y[y == -1] = 0"
   ]
  },
  {
   "cell_type": "code",
   "execution_count": 99,
   "metadata": {},
   "outputs": [
    {
     "data": {
      "text/plain": [
       "7.856612682342529"
      ]
     },
     "execution_count": 99,
     "metadata": {},
     "output_type": "execute_result"
    }
   ],
   "source": [
    "f0 = LogisticGPVI(y, X, n_inducing=50, n_iter=200, thresh=1e-6, verbose=False)\n",
    "f0.fit()\n",
    "f0.runtime"
   ]
  },
  {
   "cell_type": "code",
   "execution_count": 100,
   "metadata": {},
   "outputs": [
    {
     "data": {
      "text/plain": [
       "6.624014854431152"
      ]
     },
     "execution_count": 100,
     "metadata": {},
     "output_type": "execute_result"
    }
   ],
   "source": [
    "f1 = LogisticGPVI(y, X, likelihood=PGLikelihood(), n_inducing=50, n_iter=200, thresh=1e-6, verbose=False)\n",
    "f1.fit()\n",
    "f1.runtime"
   ]
  },
  {
   "cell_type": "code",
   "execution_count": 101,
   "metadata": {},
   "outputs": [
    {
     "data": {
      "text/plain": [
       "[<matplotlib.lines.Line2D at 0x7fd2ac1bf710>]"
      ]
     },
     "execution_count": 101,
     "metadata": {},
     "output_type": "execute_result"
    },
    {
     "data": {
      "image/png": "[encoded data removed]",
      "text/plain": [
       "<Figure size 640x480 with 1 Axes>"
      ]
     },
     "metadata": {},
     "output_type": "display_data"
    }
   ],
   "source": [
    "plt.plot(f0.loss)\n",
    "plt.plot(f1.loss)"
   ]
  },
  {
   "cell_type": "code",
   "execution_count": 102,
   "metadata": {},
   "outputs": [
    {
     "name": "stdout",
     "output_type": "stream",
     "text": [
      "tensor(0.6728, dtype=torch.float64)\n"
     ]
    }
   ],
   "source": [
    "y_pred = f0.predict(X)\n",
    "\n",
    "auc = BinaryAUROC()\n",
    "auc.update(y, y_pred)\n",
    "print(auc.compute())"
   ]
  },
  {
   "cell_type": "code",
   "execution_count": 103,
   "metadata": {},
   "outputs": [
    {
     "name": "stdout",
     "output_type": "stream",
     "text": [
      "tensor(0.6722, dtype=torch.float64)\n"
     ]
    }
   ],
   "source": [
    "y_pred = f1.predict(X)\n",
    "\n",
    "auc = BinaryAUROC()\n",
    "auc.update(y, y_pred)\n",
    "print(auc.compute())"
   ]
  },
  {
   "cell_type": "code",
   "execution_count": 104,
   "metadata": {},
   "outputs": [
    {
     "name": "stdout",
     "output_type": "stream",
     "text": [
      "tensor(1.0226)\n",
      "tensor(0.8558)\n"
     ]
    }
   ],
   "source": [
    "lower, upper = f0.credible_intervals(X)\n",
    "print( (upper - lower).mean() )\n",
    "\n",
    "lower, upper = f1.credible_intervals(X)\n",
    "print( (upper - lower).mean() )"
   ]
  }
 ],
 "metadata": {
  "kernelspec": {
   "display_name": "env",
   "language": "python",
   "name": "python3"
  },
  "language_info": {
   "codemirror_mode": {
    "name": "ipython",
    "version": 3
   },
   "file_extension": ".py",
   "mimetype": "text/x-python",
   "name": "python",
   "nbconvert_exporter": "python",
   "pygments_lexer": "ipython3",
   "version": "3.11.5"
  }
 },
 "nbformat": 4,
 "nbformat_minor": 2
}
