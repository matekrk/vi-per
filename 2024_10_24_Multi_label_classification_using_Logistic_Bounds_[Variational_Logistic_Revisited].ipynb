{
  "cells": [
    {
      "cell_type": "code",
      "execution_count": null,
      "metadata": {
        "id": "VIK9v7TqQxSX"
      },
      "outputs": [],
      "source": [
        "%load_ext autoreload\n",
        "%autoreload 2"
      ]
    },
    {
      "cell_type": "code",
      "execution_count": null,
      "metadata": {
        "id": "qVKGEmFjJIet"
      },
      "outputs": [],
      "source": [
        "\n",
        "import torch\n",
        "import torch.nn as nn\n",
        "import torch.optim as optim\n",
        "\n",
        "import torch.distributions as dist\n",
        "from torch.special import log_ndtr, ndtr\n",
        "from torch.nn.functional import logsigmoid\n",
        "from torch.utils.data import DataLoader, TensorDataset\n",
        "\n",
        "\n",
        "import math\n",
        "import time\n",
        "import copy\n",
        "\n",
        "from sklearn.metrics import accuracy_score, f1_score, precision_score, recall_score"
      ]
    },
    {
      "cell_type": "markdown",
      "metadata": {
        "id": "TW1ZXZ0kPxHz"
      },
      "source": [
        "## Logistic LL: Original functions"
      ]
    },
    {
      "cell_type": "code",
      "execution_count": null,
      "metadata": {
        "id": "wehSSshiPMZf"
      },
      "outputs": [],
      "source": [
        "def KL_mvn(m, S, mu, Sig):\n",
        "    \"\"\"\n",
        "    Can also be computed via:\n",
        "        mvn1 = dist.MultivariateNormal(m, S)\n",
        "        mvn2 = dist.MultivariateNormal(mu, Sig)\n",
        "        dist.kl.kl_divergence(mvn1, mvn2)\n",
        "    \"\"\"\n",
        "    p = m.size()[0]\n",
        "    res = 0.5 * (torch.logdet(Sig) - torch.logdet(S) -  p +\n",
        "                 torch.trace(Sig.inverse() @ S) +\n",
        "                 (mu - m).t() @ Sig.inverse() @ (mu - m))\n",
        "    return res\n",
        "\n",
        "\n",
        "def KL(m, s, mu, sig):\n",
        "    \"\"\"\n",
        "    Compute the KL divergence between two Gaussians\n",
        "    :param m: mean of variational distribution\n",
        "    :param s: standard deviation of variational distribution\n",
        "    :param mu: mean of prior\n",
        "    :parma sig: standard deviation of prior\n",
        "    :return: KL divergence\n",
        "    \"\"\"\n",
        "    res = torch.log(sig / s) + 0.5 * ((s ** 2 + (m - mu) ** 2) / sig ** 2 - 1)\n",
        "    return torch.sum(res)\n",
        "\n",
        "\n",
        "def KL_MC(m, s, mu, sig):\n",
        "    \"\"\"\n",
        "    Compute the KL divergence between two Gaussians with monte carlo\n",
        "    :param m: mean of variational distribution\n",
        "    :param s: standard deviation of variational distribution\n",
        "    :param mu: mean of prior\n",
        "    :parma sig: standard deviation of prior\n",
        "    :return: KL divergence\n",
        "    \"\"\"\n",
        "    d1 = dist.Normal(m, s)\n",
        "    d2 = dist.Normal(mu, sig)\n",
        "\n",
        "    x = d1.sample((1000,))\n",
        "    return torch.mean(torch.sum(d1.log_prob(x) - d2.log_prob(x), 1))\n",
        "\n",
        "\n",
        "def ELL_TB(m, s, y, X, l_max = 10.0, XX=None):\n",
        "    \"\"\"\n",
        "    Compute the expected negative log-likelihood\n",
        "    :return: ELL\n",
        "    \"\"\"\n",
        "    M = X @ m\n",
        "\n",
        "    if XX is None:\n",
        "        S = torch.sum(X ** 2 * s ** 2, dim=1)\n",
        "    else:\n",
        "        S = torch.sum(XX * s ** 2, dim=1)\n",
        "\n",
        "    S = torch.sqrt(S)\n",
        "\n",
        "    l = torch.arange(1.0, l_max*2, 1.0, requires_grad=False, dtype=torch.float64)\n",
        "\n",
        "    M = M.unsqueeze(1)\n",
        "    S = S.unsqueeze(1)\n",
        "    l = l.unsqueeze(0)\n",
        "\n",
        "\n",
        "    res =  \\\n",
        "        torch.dot(- y, X @ m) + \\\n",
        "        torch.sum(\n",
        "            S / math.sqrt(2 * torch.pi) * torch.exp(- 0.5 * M**2 / S**2) + \\\n",
        "            M * ndtr(M / S)\n",
        "        ) + \\\n",
        "        torch.sum(\n",
        "            (-1.0)**(l - 1.0) / l * (\n",
        "                torch.exp( M @ l + 0.5 * S**2 @ (l ** 2) + log_ndtr(-M / S - S @ l)) + \\\n",
        "                torch.exp(-M @ l + 0.5 * S**2 @ (l ** 2) + log_ndtr( M / S - S @ l))\n",
        "            )\n",
        "        )\n",
        "\n",
        "    return res\n",
        "\n",
        "\n",
        "\n",
        "def ELL_TB_mvn(m, S, y, X, l_max = 10.0):\n",
        "    \"\"\"\n",
        "    Compute the expected negative log-likelihood\n",
        "    :return: ELL\n",
        "    \"\"\"\n",
        "    M = X @ m\n",
        "    # this might be faster\n",
        "    # S = (X.unsqueeze(1) @ S @ X.unsqueeze(2)).squeeze()\n",
        "\n",
        "    try:\n",
        "        U = torch.linalg.cholesky(S)\n",
        "        S = torch.sum((X @ U) ** 2, dim=1)\n",
        "    except:\n",
        "        S = torch.sum(X * (S @ X.t()).t(), dim=1)\n",
        "\n",
        "    S = torch.sqrt(S)\n",
        "\n",
        "    l = torch.arange(1.0, l_max*2, 1.0, requires_grad=False, dtype=torch.float64)\n",
        "\n",
        "    M = M.unsqueeze(1)\n",
        "    S = S.unsqueeze(1)\n",
        "    l = l.unsqueeze(0)\n",
        "\n",
        "    res =  \\\n",
        "        torch.dot(- y, M.squeeze()) + \\\n",
        "        torch.sum(\n",
        "            S / math.sqrt(2 * torch.pi) * torch.exp(- 0.5 * M**2 / S**2) + \\\n",
        "            M * ndtr(M / S)\n",
        "        ) + \\\n",
        "        torch.sum(\n",
        "            (-1.0)**(l - 1.0) / l * (\n",
        "                torch.exp( M @ l + 0.5 * S**2 @ (l ** 2) + log_ndtr(-M / S - S @ l)) + \\\n",
        "                torch.exp(-M @ l + 0.5 * S**2 @ (l ** 2) + log_ndtr( M / S - S @ l))\n",
        "            )\n",
        "        )\n",
        "\n",
        "    return res\n",
        "\n",
        "\n",
        "def ELL_MC(m, s, y, X, n_samples=1000):\n",
        "    \"\"\"\n",
        "    Compute the expected negative log-likelihood with monte carlo\n",
        "    :return: ELL\n",
        "    \"\"\"\n",
        "    # print(f\"ELL_MC: m={m} s={s}\")\n",
        "\n",
        "    M = X @ m\n",
        "    # S = torch.sqrt(X ** 2 @ s ** 2)\n",
        "    S = torch.sum(X ** 2 * s ** 2, dim=1)\n",
        "    S = torch.sqrt(S)\n",
        "\n",
        "    norm = dist.Normal(torch.zeros_like(M), torch.ones_like(S))\n",
        "    samp = norm.sample((n_samples, ))\n",
        "    samp = M + S * samp\n",
        "\n",
        "    res =  torch.dot( - y, M) + \\\n",
        "        torch.sum(torch.mean(torch.log1p(torch.exp(samp)), 0))\n",
        "\n",
        "    return res\n",
        "\n",
        "\n",
        "def ELL_MC_mvn(m, S, y, X, n_samples=1000):\n",
        "    \"\"\"\n",
        "    Compute the expected negative log-likelihood with monte carlo\n",
        "    :return: ELL\n",
        "    \"\"\"\n",
        "    M = X @ m\n",
        "    # S = torch.diag(X @ S @ X.t())\n",
        "\n",
        "    try:\n",
        "        U = torch.linalg.cholesky(S)\n",
        "        S = torch.sum((X @ U) ** 2, dim=1)\n",
        "    except:\n",
        "        S = torch.sum(X * (S @ X.t()).t(), dim=1)\n",
        "\n",
        "    S = torch.sqrt(S)\n",
        "\n",
        "    norm = dist.Normal(torch.zeros_like(M), torch.ones_like(S))\n",
        "    samp = norm.sample((n_samples, ))\n",
        "    samp = M + S * samp\n",
        "\n",
        "    res =  torch.dot( - y, M) + \\\n",
        "        torch.sum(torch.mean(torch.log1p(torch.exp(samp)), 0))\n",
        "\n",
        "    return res\n",
        "\n",
        "\n",
        "def ELL_Jak(m, s, t, y, X):\n",
        "    \"\"\"\n",
        "    Compute the expected negative log-likelihood using the bound introduced\n",
        "    by Jaakkola and Jordan (2000)\n",
        "    :return: ELL\n",
        "    \"\"\"\n",
        "    M = X @ m\n",
        "    a_t = (torch.sigmoid(t) - 0.5) / t\n",
        "    S = torch.diag(s**2) + torch.outer(m, m)\n",
        "\n",
        "    try:\n",
        "        U = torch.linalg.cholesky(S)\n",
        "        B = a_t * torch.sum((X @ U) ** 2, dim=1)\n",
        "    except:\n",
        "        B = a_t * torch.sum(X * (S @ X.t()).t(), dim=1)\n",
        "\n",
        "    res = - torch.dot(y, M) - torch.sum(logsigmoid(t)) + \\\n",
        "        0.5 * torch.sum(M + t) + 0.5 * torch.sum(B)   - \\\n",
        "        0.5 * torch.sum(a_t * t ** 2)\n",
        "\n",
        "    return res\n",
        "\n",
        "\n",
        "def ELL_Jak_mvn(m, S, t, y, X):\n",
        "    \"\"\"\n",
        "    Compute the expected negative log-likelihood using the bound introduced\n",
        "    by Jaakkola and Jordan (2000)\n",
        "    :return: ELL\n",
        "    \"\"\"\n",
        "    M = X @ m\n",
        "    a_t = (torch.sigmoid(t) - 0.5) / t\n",
        "    SS = S + torch.outer(m, m)\n",
        "\n",
        "    try:\n",
        "        U = torch.linalg.cholesky(SS)\n",
        "        B = a_t * torch.sum((X @ U) ** 2, dim=1)\n",
        "    except:\n",
        "        B = a_t * torch.sum(X * (SS @ X.t()).t(), dim=1)\n",
        "\n",
        "    res = - torch.dot(y, M) - torch.sum(logsigmoid(t)) + \\\n",
        "        0.5 * torch.sum(M + t) + 0.5 * torch.sum(B)   - \\\n",
        "        0.5 * torch.sum(a_t * t ** 2)\n",
        "\n",
        "    return res\n",
        "\n",
        "\n",
        "def ELBO_TB(m, u, y, X, mu, sig, l_max = 10.0, XX=None):\n",
        "    \"\"\"\n",
        "    Compute the negative of the ELBO\n",
        "    :return: ELBO\n",
        "    \"\"\"\n",
        "    s = torch.exp(u)\n",
        "    return ELL_TB(m, s, y, X, l_max=l_max, XX=XX) + KL(m, s, mu, sig)\n",
        "\n",
        "\n",
        "def ELBO_TB_mvn(m, u, y, X, mu, Sig, l_max = 10.0):\n",
        "    \"\"\"\n",
        "    Compute the negative of the ELBO\n",
        "    :return: ELBO\n",
        "    \"\"\"\n",
        "    p = Sig.size()[0]\n",
        "    L = torch.zeros(p, p, dtype=torch.double)\n",
        "    L[torch.tril_indices(p, p, 0).tolist()] = u\n",
        "    S = L.t() @ L\n",
        "\n",
        "    return ELL_TB_mvn(m, S, y, X, l_max=l_max) + KL_mvn(m, S, mu, Sig)\n",
        "\n",
        "\n",
        "def ELBO_MC(m, u, y, X, mu, sig, n_samples=1000):\n",
        "    \"\"\"\n",
        "    Compute the negative of the ELBO\n",
        "    :return: ELBO\n",
        "    \"\"\"\n",
        "    s = torch.exp(u)\n",
        "    return ELL_MC(m, s, y, X, n_samples) + KL(m, s, mu, sig)\n",
        "\n",
        "\n",
        "def ELBO_MC_mvn(m, u, y, X, mu, Sig, n_samples=1000):\n",
        "    \"\"\"\n",
        "    Compute the negative of the ELBO\n",
        "    :return: ELBO\n",
        "    \"\"\"\n",
        "    p = Sig.size()[0]\n",
        "    L = torch.zeros(p, p, dtype=torch.double)\n",
        "    L[torch.tril_indices(p, p, 0).tolist()] = u\n",
        "    S = L.t() @ L\n",
        "\n",
        "    return ELL_MC_mvn(m, S, y, X, n_samples) + KL_mvn(m, S, mu, Sig)\n",
        "\n",
        "\n",
        "def ELBO_Jak(m, s, t, y, X, mu, sig):\n",
        "    \"\"\"\n",
        "    Compute the negative of the ELBO using the bound introduced by\n",
        "    Jaakkola and Jordan (2000)\n",
        "    :return: ELBO\n",
        "    \"\"\"\n",
        "    return ELL_Jak(m, s, t, y, X) + KL(m, s, mu, sig)\n",
        "\n",
        "\n",
        "def ELBO_Jak_mvn(m, S, t, y, X, mu, Sig, cov=None):\n",
        "    \"\"\"\n",
        "    Compute the negative of the ELBO using the bound introduced by\n",
        "    Jaakkola and Jordan (2000)\n",
        "    :return: ELBO\n",
        "    \"\"\"\n",
        "    return ELL_Jak_mvn(m, S, t, y, X) + KL_mvn(m, S, mu, Sig)\n",
        "\n"
      ]
    },
    {
      "cell_type": "markdown",
      "metadata": {
        "id": "wG3O7vgBBYXY"
      },
      "source": [
        "## Logistic LL: Multi-head functions"
      ]
    },
    {
      "cell_type": "code",
      "execution_count": null,
      "metadata": {
        "id": "a0QnUfs8BTCh"
      },
      "outputs": [],
      "source": [
        "def KL_MH(m_list, s_list, mu_list, sig_list):\n",
        "    total_KL = sum(KL(m, s, mu, sig) for m, s, mu, sig in zip(m_list, s_list, mu_list, sig_list))\n",
        "    return total_KL\n",
        "\n",
        "def KL_mvn_MH(m_list, S_list, mu_list, Sig_list):\n",
        "    total_KL = sum(KL_mvn(m, S, mu, Sig) for m, S, mu, Sig in zip(m_list, S_list, mu_list, Sig_list))\n",
        "    return total_KL\n",
        "\n",
        "def ELL_TB_MH(m_list, s_list, y_list, X, l_max=10.0, XX=None):\n",
        "    total_ELL = sum(ELL_TB(m, s, y, X, l_max=l_max, XX=XX) for m, s, y in zip(m_list, s_list, y_list))\n",
        "    return total_ELL\n",
        "\n",
        "def ELL_TB_mvn_MH(m_list, S_list, y_list, X, l_max=10.0):\n",
        "    total_ELL = sum(ELL_TB_mvn(m, S, y, X, l_max=l_max) for m, S, y in zip(m_list, S_list, y_list))\n",
        "    return total_ELL\n",
        "\n",
        "def ELL_MC_MH(m_list, s_list, y_list, X, n_samples=1000):\n",
        "    total_ELL = sum(ELL_MC(m, s, y, X, n_samples=n_samples) for m, s, y in zip(m_list, s_list, y_list))\n",
        "    return total_ELL\n",
        "\n",
        "def ELL_MC_mvn_MH(m_list, S_list, y_list, X, n_samples=1000):\n",
        "    total_ELL = sum(ELL_MC_mvn(m, S, y, X, n_samples=n_samples) for m, S, y in zip(m_list, S_list, y_list))\n",
        "    return total_ELL"
      ]
    },
    {
      "cell_type": "markdown",
      "metadata": {
        "id": "X4o5x5Y3Bke-"
      },
      "source": [
        "## Base model"
      ]
    },
    {
      "cell_type": "code",
      "execution_count": null,
      "metadata": {
        "id": "VFgSP12UvhVx"
      },
      "outputs": [],
      "source": [
        "class LLModel:\n",
        "\n",
        "    def __init__(self, p, K, beta=1.0, intercept=False, backbone=None, seed=1):\n",
        "        \"\"\"\n",
        "        Parameters:\n",
        "        ----------\n",
        "            p : int\n",
        "                Dimensionality of the input features after processing by the backbone network.\n",
        "            K : int\n",
        "                Number of outputs (labels).\n",
        "        \"\"\"\n",
        "        print(f\"[LLModel] beta={beta} input_dim={p} output_dim={K} intercept={intercept}\")\n",
        "        torch.manual_seed(seed)\n",
        "        self.intercept = intercept\n",
        "        if intercept:\n",
        "            p += 1\n",
        "        self.p = p\n",
        "        self.K = K\n",
        "        self.backbone = backbone\n",
        "        self.beta = beta\n",
        "        self.seed = seed\n",
        "\n",
        "        self.params = []\n",
        "        return p\n",
        "\n",
        "    def process(self, X_batch):\n",
        "        if self.backbone is not None:\n",
        "            X_processed = self.backbone(X_batch)\n",
        "        else:\n",
        "            X_processed = X_batch\n",
        "\n",
        "        if self.intercept:\n",
        "            X_processed = torch.cat((torch.ones(X_processed.size()[0], 1), X_processed), 1)\n",
        "        return X_processed\n",
        "\n",
        "    def train_loss(self, X_batch, y_batch, data_size=None, verbose=False):\n",
        "        raise ValueError(\"[LLModel] train_loss not implemented\")\n",
        "\n",
        "    def predict(self, X):\n",
        "        raise ValueError(\"[LLModel] predict not implemented\")"
      ]
    },
    {
      "cell_type": "markdown",
      "metadata": {
        "id": "ctJI_9bOuO73"
      },
      "source": [
        "## Sigmoid-likelihood model"
      ]
    },
    {
      "cell_type": "code",
      "execution_count": null,
      "metadata": {
        "id": "Ey8HNYQOQWxz"
      },
      "outputs": [],
      "source": [
        "class LogisticVI(LLModel):\n",
        "    \"\"\"\n",
        "    Variational Inference for Logistic Regression with Multiple Outputs.\n",
        "\n",
        "    This class implements variational inference for logistic regression with support for multiple outputs (multi-label classification).\n",
        "    It uses the original functions for computing the KL divergence and expected negative log-likelihood, and builds multihead versions by calling these functions.\n",
        "\n",
        "    The class assumes that the data loader and training loop are handled externally.\n",
        "    It provides methods to compute the ELBO and perform optimization steps given batches of data.\n",
        "\n",
        "    Parameters:\n",
        "    ----------\n",
        "    p : int\n",
        "        Dimensionality of the input features after processing by the backbone network.\n",
        "    K : int\n",
        "        Number of outputs (labels).\n",
        "    method : int, optional\n",
        "        Method to use for approximating the ELBO:\n",
        "        - 0: Proposed bound, diagonal covariance variational family.\n",
        "        - 1: Proposed bound, full covariance variational family.\n",
        "        - 4: Monte Carlo, diagonal covariance variational family.\n",
        "        - 5: Monte Carlo, full covariance variational family.\n",
        "        Default is 0.\n",
        "    mu : torch.Tensor, optional\n",
        "        Prior means for each output. Shape (p, K).\n",
        "    sig : torch.Tensor, optional\n",
        "        Prior standard deviations for each output. Shape (p, K).\n",
        "    Sig : list of torch.Tensor, optional\n",
        "        Prior covariance matrices for each output. List of K tensors, each of shape (p, p).\n",
        "    m_init : torch.Tensor, optional\n",
        "        Initial means of the variational distributions. Shape (p, K).\n",
        "    s_init : torch.Tensor, optional\n",
        "        Initial standard deviations (or lower-triangular parameters) of the variational distributions. Shape depends on method.\n",
        "    l_max : float, optional\n",
        "        Maximum value of l for the proposed bound. Default is 12.0.\n",
        "    adaptive_l : bool, optional\n",
        "        Whether to adaptively increase l during training. Default is False.\n",
        "    n_samples : int, optional\n",
        "        Number of samples for Monte Carlo estimation. Default is 500.\n",
        "    seed : int, optional\n",
        "        Random seed for reproducibility. Default is 1.\n",
        "    backbone : torch.nn.Module, optional\n",
        "        Backbone network to transform input features.\n",
        "    \"\"\"\n",
        "\n",
        "    def __init__(self, p, K, method=0, beta=1.0, intercept=False,\n",
        "                 mu=None, sig=None, Sig=None, m_init=None, s_init=None,\n",
        "                 l_max=12.0, adaptive_l=False, n_samples=500, seed=1, backbone=None):\n",
        "        p = super().__init__(p, K, beta=beta, intercept=intercept, backbone=backbone, seed=seed)\n",
        "\n",
        "        self.method = method\n",
        "        self.l_max = l_max\n",
        "        self.adaptive_l = adaptive_l\n",
        "        self.n_samples = n_samples\n",
        "\n",
        "        # Initialize prior parameters\n",
        "        if mu is None:\n",
        "            self.mu_list = [torch.zeros(p, dtype=torch.double) for _ in range(K)]\n",
        "        else:\n",
        "            self.mu_list = [mu[:, k] for k in range(K)]\n",
        "\n",
        "        if sig is None:\n",
        "            self.sig_list = [torch.ones(p, dtype=torch.double) for _ in range(K)]\n",
        "        else:\n",
        "            self.sig_list = [sig[:, k] for k in range(K)]\n",
        "\n",
        "        if Sig is None:\n",
        "            self.Sig_list = [torch.eye(p, dtype=torch.double) for _ in range(K)]\n",
        "        else:\n",
        "            self.Sig_list = Sig  # List of K covariance matrices of shape (p, p)\n",
        "\n",
        "        # Initialize variational parameters\n",
        "        if m_init is None:\n",
        "            self.m_list = [torch.randn(p, dtype=torch.double) for _ in range(K)]\n",
        "        else:\n",
        "            self.m_list = [m_init[:, k] for k in range(K)]\n",
        "\n",
        "        if s_init is None:\n",
        "            if method in [0, 4]:\n",
        "                self.u_list = [torch.tensor([-1.0] * p, dtype=torch.double) for _ in range(K)]\n",
        "                self.s_list = [torch.exp(u) for u in self.u_list]\n",
        "            elif method in [1, 5]:\n",
        "                self.u_list = []\n",
        "                for _ in range(K):\n",
        "                    u = torch.ones(int(p * (p + 1) / 2), dtype=torch.double) * (1.0 / p)\n",
        "                    u.requires_grad = True\n",
        "                    self.u_list.append(u)\n",
        "        else:\n",
        "            if method in [0, 4]:\n",
        "                self.s_list = [s_init[:, k] for k in range(K)]\n",
        "                self.u_list = [torch.log(s) for s in self.s_list]\n",
        "            elif method in [1, 5]:\n",
        "                self.u_list = s_init  # Should be list of u tensors for each output\n",
        "\n",
        "        # Set requires_grad=True for variational parameters\n",
        "        for m in self.m_list:\n",
        "            m.requires_grad = True\n",
        "        for u in self.u_list:\n",
        "            u.requires_grad = True\n",
        "\n",
        "        # Collect parameters for optimization\n",
        "        self.params = list(self.m_list) + list(self.u_list)\n",
        "        if self.backbone is not None:\n",
        "            self.params += list(self.backbone.parameters())\n",
        "\n",
        "        # Initialize l_terms for adaptive l\n",
        "        if adaptive_l:\n",
        "            self.l_terms = float(int(l_max / 2))\n",
        "        else:\n",
        "            self.l_terms = l_max\n",
        "\n",
        "    def train_loss(self, X_batch, y_batch, data_size=None, verbose=False):\n",
        "        data_size = data_size or X_batch.shape[0]\n",
        "        return -self.compute_ELBO(X_batch, y_batch, data_size, verbose=verbose)\n",
        "\n",
        "    def compute_ELBO(self, X_batch, y_batch, data_size, verbose=False):\n",
        "        \"\"\"\n",
        "        Compute the Evidence Lower Bound (ELBO) for a batch of data.\n",
        "\n",
        "        Parameters:\n",
        "        ----------\n",
        "        X_batch : torch.Tensor\n",
        "            Batch of input data. Shape (batch_size, input_dim).\n",
        "        y_batch : torch.Tensor\n",
        "            Batch of target variables. Shape (batch_size, K).\n",
        "\n",
        "        Returns:\n",
        "        -------\n",
        "        ELBO : torch.Tensor\n",
        "            The computed ELBO for the batch.\n",
        "        \"\"\"\n",
        "        X_processed = self.process(X_batch)\n",
        "        batch_size = X_batch.shape[0]\n",
        "\n",
        "        # Prepare lists for variational parameters and priors\n",
        "        m_list = self.m_list\n",
        "        mu_list = self.mu_list\n",
        "        y_list = [y_batch[:, k] for k in range(self.K)]\n",
        "\n",
        "        if self.method in [0, 4]:\n",
        "            s_list = [torch.exp(u) for u in self.u_list]\n",
        "            sig_list = self.sig_list\n",
        "\n",
        "            if self.method == 0:\n",
        "                likelihood = -ELL_TB_MH(m_list, s_list, y_list, X_processed, l_max=self.l_terms)\n",
        "                KL_div = KL_MH(m_list, s_list, mu_list, sig_list)\n",
        "            else:\n",
        "                likelihood = -ELL_MC_MH(m_list, s_list, y_list, X_processed, n_samples=self.n_samples)\n",
        "                KL_div = KL_MH(m_list, s_list, mu_list, sig_list)\n",
        "\n",
        "        elif self.method in [1, 5]:\n",
        "            L_list = []\n",
        "            for u in self.u_list:\n",
        "                L = torch.zeros(self.p, self.p, dtype=torch.double)\n",
        "                tril_indices = torch.tril_indices(self.p, self.p, 0)\n",
        "                L[tril_indices[0], tril_indices[1]] = u\n",
        "                L_list.append(L)\n",
        "\n",
        "            S_list = [L @ L.t() for L in L_list]\n",
        "            if self.method == 1:\n",
        "                likelihood = -ELL_TB_mvn_MH(m_list, S_list, y_list, X_processed, l_max=self.l_terms)\n",
        "                KL_div = KL_mvn_MH(m_list, S_list, mu_list, self.Sig_list)\n",
        "            else:\n",
        "                likelihood = -ELL_MC_mvn_MH(m_list, S_list, y_list, X_processed, n_samples=self.n_samples)\n",
        "                KL_div = KL_mvn_MH(m_list, S_list, mu_list, self.Sig_list)\n",
        "\n",
        "        else:\n",
        "            raise ValueError(\"Method not recognized\")\n",
        "\n",
        "        mean_log_lik = likelihood/batch_size\n",
        "        mean_kl_div = KL_div/data_size\n",
        "        ELBO = mean_log_lik - self.beta*mean_kl_div\n",
        "        if verbose:\n",
        "            print(f\"ELBO={ELBO:.2f} mean_log_lik={mean_log_lik:.2f} mean_kl_div={mean_kl_div:.2f}\")\n",
        "        return ELBO\n",
        "\n",
        "\n",
        "    def predict(self, X):\n",
        "        \"\"\"\n",
        "        Predict probabilities for each output given input data.\n",
        "\n",
        "        Parameters:\n",
        "        ----------\n",
        "        X : torch.Tensor\n",
        "            Input data. Shape (n_samples, input_dim).\n",
        "\n",
        "        Returns:\n",
        "        -------\n",
        "        preds : torch.Tensor\n",
        "            Predicted probabilities for each output. Shape (n_samples, K).\n",
        "        \"\"\"\n",
        "        X_processed = self.process(X)\n",
        "\n",
        "        preds = []\n",
        "        for m in self.m_list:\n",
        "            pred = torch.sigmoid(X_processed @ m)\n",
        "            preds.append(pred.unsqueeze(1))\n",
        "\n",
        "        preds = torch.cat(preds, dim=1)  # Shape: (n_samples, K)\n",
        "        return preds"
      ]
    },
    {
      "cell_type": "markdown",
      "metadata": {
        "id": "9H15Bip-Bnzz"
      },
      "source": [
        "## Sigmoid Deterministic model"
      ]
    },
    {
      "cell_type": "code",
      "execution_count": null,
      "metadata": {
        "id": "rEEjURs3uuA3"
      },
      "outputs": [],
      "source": [
        "class LogisticPointwise(LLModel):\n",
        "\n",
        "    def __init__(self, p, K, beta=1.0, intercept=False, seed=1, backbone=None,\n",
        "                 m_init=None,\n",
        "                 mu=None, Sig=None):\n",
        "        p = super().__init__(p, K, beta=beta, intercept=intercept, backbone=backbone, seed=seed)\n",
        "\n",
        "        # Initialize prior parameters\n",
        "        if mu is None:\n",
        "            self.mu_list = [torch.zeros(p, dtype=torch.double) for _ in range(K)]\n",
        "        else:\n",
        "            self.mu_list = [mu[:, k] for k in range(K)]\n",
        "\n",
        "        if Sig is None:\n",
        "            self.Sig_list = [torch.eye(p, dtype=torch.double) for _ in range(K)]\n",
        "        else:\n",
        "            self.Sig_list = Sig  # List of K covariance matrices of shape (p, p)\n",
        "\n",
        "        # Initialize variational parameters\n",
        "        if m_init is None:\n",
        "            self.m_list = [torch.randn(p, dtype=torch.double) for _ in range(K)]\n",
        "        else:\n",
        "            self.m_list = [m_init[:, k] for k in range(K)]\n",
        "\n",
        "        # Set requires_grad=True for variational parameters\n",
        "        for m in self.m_list:\n",
        "            m.requires_grad = True\n",
        "\n",
        "        # Collect parameters for optimization\n",
        "        self.params = list(self.m_list)\n",
        "        if self.backbone is not None:\n",
        "            self.params += list(self.backbone.parameters())\n",
        "\n",
        "    def train_loss(self, X_batch, y_batch, data_size=None, verbose=False):\n",
        "        data_size = data_size or X_batch.shape[0]\n",
        "\n",
        "        preds = self.predict(X_batch)\n",
        "        assert preds.shape == y_batch.shape, f\"preds.shape={preds.shape} != y_batch.shape={y_batch.shape}\"\n",
        "        loss = nn.BCELoss(reduction='mean')\n",
        "        mean_bce = loss(preds, y_batch)\n",
        "        mean_reg = self.regularization() / data_size\n",
        "\n",
        "        if verbose:\n",
        "            print(f\"mean_bce_loss={mean_bce:.2f}  mean_reg={mean_reg:.2f}\")\n",
        "\n",
        "        return mean_bce + self.beta * mean_reg\n",
        "\n",
        "    def regularization(self):\n",
        "        log_prob = 0.\n",
        "        for m, prior_mu, prior_Sig in zip(self.m_list, self.mu_list, self.Sig_list):\n",
        "            # simple prior distribution\n",
        "            d = torch.distributions.MultivariateNormal(loc=prior_mu, covariance_matrix=prior_Sig)\n",
        "            log_prob += d.log_prob(m)\n",
        "        return -log_prob\n",
        "\n",
        "    def predict(self, X):\n",
        "        \"\"\"\n",
        "        Predict probabilities for each output given input data.\n",
        "\n",
        "        Parameters:\n",
        "        ----------\n",
        "        X : torch.Tensor\n",
        "            Input data. Shape (n_samples, input_dim).\n",
        "\n",
        "        Returns:\n",
        "        -------\n",
        "        preds : torch.Tensor\n",
        "            Predicted probabilities for each output. Shape (n_samples, K).\n",
        "        \"\"\"\n",
        "        X_processed = self.process(X)\n",
        "\n",
        "        preds = []\n",
        "        for m in self.m_list:\n",
        "            pred = torch.sigmoid(X_processed @ m)\n",
        "            preds.append(pred.unsqueeze(1))\n",
        "\n",
        "        preds = torch.cat(preds, dim=1)  # Shape: (n_samples, K)\n",
        "        return preds"
      ]
    },
    {
      "cell_type": "code",
      "execution_count": null,
      "metadata": {
        "colab": {
          "base_uri": "https://localhost:8080/"
        },
        "id": "2wcrPH7nCDKB",
        "outputId": "409041c9-d455-41a4-9d12-bf4ba1db3e0a"
      },
      "outputs": [
        {
          "name": "stdout",
          "output_type": "stream",
          "text": [
            "Collecting vbll\n",
            "  Downloading vbll-0.2.6-py3-none-any.whl.metadata (3.2 kB)\n",
            "Collecting fannypack>=0.0.25 (from vbll)\n",
            "  Downloading fannypack-0.0.25-py3-none-any.whl.metadata (2.6 kB)\n",
            "Requirement already satisfied: numpy>=1.21.0 in /usr/local/lib/python3.10/dist-packages (from vbll) (1.26.4)\n",
            "Requirement already satisfied: torch>=1.6.0 in /usr/local/lib/python3.10/dist-packages (from vbll) (2.5.1+cu121)\n",
            "Collecting argcomplete (from fannypack>=0.0.25->vbll)\n",
            "  Downloading argcomplete-3.5.1-py3-none-any.whl.metadata (16 kB)\n",
            "Collecting beautifultable>=1.0.0 (from fannypack>=0.0.25->vbll)\n",
            "  Downloading beautifultable-1.1.0-py2.py3-none-any.whl.metadata (13 kB)\n",
            "Collecting dill (from fannypack>=0.0.25->vbll)\n",
            "  Downloading dill-0.3.9-py3-none-any.whl.metadata (10 kB)\n",
            "Requirement already satisfied: h5py in /usr/local/lib/python3.10/dist-packages (from fannypack>=0.0.25->vbll) (3.12.1)\n",
            "Requirement already satisfied: pygments in /usr/local/lib/python3.10/dist-packages (from fannypack>=0.0.25->vbll) (2.18.0)\n",
            "Requirement already satisfied: pyyaml in /usr/local/lib/python3.10/dist-packages (from fannypack>=0.0.25->vbll) (6.0.2)\n",
            "Collecting simple-term-menu (from fannypack>=0.0.25->vbll)\n",
            "  Downloading simple_term_menu-1.6.4-py3-none-any.whl.metadata (29 kB)\n",
            "Requirement already satisfied: tensorboard in /usr/local/lib/python3.10/dist-packages (from fannypack>=0.0.25->vbll) (2.17.1)\n",
            "Requirement already satisfied: termcolor in /usr/local/lib/python3.10/dist-packages (from fannypack>=0.0.25->vbll) (2.5.0)\n",
            "Requirement already satisfied: tqdm in /usr/local/lib/python3.10/dist-packages (from fannypack>=0.0.25->vbll) (4.66.6)\n",
            "Requirement already satisfied: Pillow in /usr/local/lib/python3.10/dist-packages (from fannypack>=0.0.25->vbll) (11.0.0)\n",
            "Requirement already satisfied: filelock in /usr/local/lib/python3.10/dist-packages (from torch>=1.6.0->vbll) (3.16.1)\n",
            "Requirement already satisfied: typing-extensions>=4.8.0 in /usr/local/lib/python3.10/dist-packages (from torch>=1.6.0->vbll) (4.12.2)\n",
            "Requirement already satisfied: networkx in /usr/local/lib/python3.10/dist-packages (from torch>=1.6.0->vbll) (3.4.2)\n",
            "Requirement already satisfied: jinja2 in /usr/local/lib/python3.10/dist-packages (from torch>=1.6.0->vbll) (3.1.4)\n",
            "Requirement already satisfied: fsspec in /usr/local/lib/python3.10/dist-packages (from torch>=1.6.0->vbll) (2024.10.0)\n",
            "Requirement already satisfied: sympy==1.13.1 in /usr/local/lib/python3.10/dist-packages (from torch>=1.6.0->vbll) (1.13.1)\n",
            "Requirement already satisfied: mpmath<1.4,>=1.1.0 in /usr/local/lib/python3.10/dist-packages (from sympy==1.13.1->torch>=1.6.0->vbll) (1.3.0)\n",
            "Requirement already satisfied: wcwidth in /usr/local/lib/python3.10/dist-packages (from beautifultable>=1.0.0->fannypack>=0.0.25->vbll) (0.2.13)\n",
            "Requirement already satisfied: MarkupSafe>=2.0 in /usr/local/lib/python3.10/dist-packages (from jinja2->torch>=1.6.0->vbll) (3.0.2)\n",
            "Requirement already satisfied: absl-py>=0.4 in /usr/local/lib/python3.10/dist-packages (from tensorboard->fannypack>=0.0.25->vbll) (1.4.0)\n",
            "Requirement already satisfied: grpcio>=1.48.2 in /usr/local/lib/python3.10/dist-packages (from tensorboard->fannypack>=0.0.25->vbll) (1.68.0)\n",
            "Requirement already satisfied: markdown>=2.6.8 in /usr/local/lib/python3.10/dist-packages (from tensorboard->fannypack>=0.0.25->vbll) (3.7)\n",
            "Requirement already satisfied: packaging in /usr/local/lib/python3.10/dist-packages (from tensorboard->fannypack>=0.0.25->vbll) (24.2)\n",
            "Requirement already satisfied: protobuf!=4.24.0,>=3.19.6 in /usr/local/lib/python3.10/dist-packages (from tensorboard->fannypack>=0.0.25->vbll) (4.25.5)\n",
            "Requirement already satisfied: setuptools>=41.0.0 in /usr/local/lib/python3.10/dist-packages (from tensorboard->fannypack>=0.0.25->vbll) (75.1.0)\n",
            "Requirement already satisfied: six>1.9 in /usr/local/lib/python3.10/dist-packages (from tensorboard->fannypack>=0.0.25->vbll) (1.16.0)\n",
            "Requirement already satisfied: tensorboard-data-server<0.8.0,>=0.7.0 in /usr/local/lib/python3.10/dist-packages (from tensorboard->fannypack>=0.0.25->vbll) (0.7.2)\n",
            "Requirement already satisfied: werkzeug>=1.0.1 in /usr/local/lib/python3.10/dist-packages (from tensorboard->fannypack>=0.0.25->vbll) (3.1.3)\n",
            "Downloading vbll-0.2.6-py3-none-any.whl (13 kB)\n",
            "Downloading fannypack-0.0.25-py3-none-any.whl (55 kB)\n",
            "\u001b[2K   \u001b[90m━━━━━━━━━━━━━━━━━━━━━━━━━━━━━━━━━━━━━━━━\u001b[0m \u001b[32m55.9/55.9 kB\u001b[0m \u001b[31m2.9 MB/s\u001b[0m eta \u001b[36m0:00:00\u001b[0m\n",
            "\u001b[?25hDownloading beautifultable-1.1.0-py2.py3-none-any.whl (28 kB)\n",
            "Downloading argcomplete-3.5.1-py3-none-any.whl (43 kB)\n",
            "\u001b[2K   \u001b[90m━━━━━━━━━━━━━━━━━━━━━━━━━━━━━━━━━━━━━━━━\u001b[0m \u001b[32m43.5/43.5 kB\u001b[0m \u001b[31m2.9 MB/s\u001b[0m eta \u001b[36m0:00:00\u001b[0m\n",
            "\u001b[?25hDownloading dill-0.3.9-py3-none-any.whl (119 kB)\n",
            "\u001b[2K   \u001b[90m━━━━━━━━━━━━━━━━━━━━━━━━━━━━━━━━━━━━━━━━\u001b[0m \u001b[32m119.4/119.4 kB\u001b[0m \u001b[31m2.7 MB/s\u001b[0m eta \u001b[36m0:00:00\u001b[0m\n",
            "\u001b[?25hDownloading simple_term_menu-1.6.4-py3-none-any.whl (27 kB)\n",
            "Installing collected packages: simple-term-menu, dill, beautifultable, argcomplete, fannypack, vbll\n",
            "Successfully installed argcomplete-3.5.1 beautifultable-1.1.0 dill-0.3.9 fannypack-0.0.25 simple-term-menu-1.6.4 vbll-0.2.6\n"
          ]
        }
      ],
      "source": [
        "!pip install vbll"
      ]
    },
    {
      "cell_type": "code",
      "execution_count": null,
      "metadata": {
        "id": "5ywwVIC8CPxc"
      },
      "outputs": [],
      "source": [
        "import vbll\n",
        "\n",
        "\n",
        "class VBLLVI(LLModel):\n",
        "\n",
        "    def __init__(self, p, K, vbll_cfg, intercept=False, seed=1, backbone=None):\n",
        "        p = super().__init__(p, K, intercept=intercept, backbone=backbone, seed=seed)\n",
        "        self.vbll_cfg = vbll_cfg\n",
        "\n",
        "        self.heads = [self.make_output_layer(num_hidden=p, num_classes=2) for k in range(K)]\n",
        "\n",
        "        # Collect parameters for optimization\n",
        "        self.params = []\n",
        "        if self.backbone is not None:\n",
        "            self.params += list(self.backbone.parameters())\n",
        "        for head in self.heads:\n",
        "            self.params += list(head.parameters())\n",
        "\n",
        "    def make_output_layer(self, **kwargs):\n",
        "        if self.vbll_cfg.TYPE == \"disc\":\n",
        "            return self._make_disc_vbll_layer(cfg=self.vbll_cfg, **kwargs).double()\n",
        "\n",
        "        elif self.vbll_cfg.TYPE == \"gen\":\n",
        "            return self._make_gen_vbll_layer(cfg=self.vbll_cfg, **kwargs).double()\n",
        "\n",
        "        else:\n",
        "            raise ValueError(f\"Unknown VBLL type={self.vbll_cfg.TYPE}!\")\n",
        "\n",
        "    def _make_disc_vbll_layer(self, num_hidden, num_classes, cfg):\n",
        "        \"\"\" VBLL Discriminative classification head. \"\"\"\n",
        "        return vbll.DiscClassification( num_hidden,\n",
        "                                        num_classes,\n",
        "                                        cfg.REG_WEIGHT,\n",
        "                                        softmax_bound=cfg.SOFTMAX_BOUND,\n",
        "                                        # return_empirical=cfg.RETURN_EMPIRICAL,\n",
        "                                        # softmax_bound_empirical=cfg.SOFTMAX_BOUND_EMPIRICAL,\n",
        "                                        parameterization = cfg.PARAM,\n",
        "                                        return_ood=cfg.RETURN_OOD,\n",
        "                                        prior_scale=cfg.PRIOR_SCALE,\n",
        "                                       )\n",
        "\n",
        "    def _make_gen_vbll_layer(self, num_hidden, num_classes, cfg):\n",
        "        \"\"\" VBLL Generative classification head. \"\"\"\n",
        "        return vbll.GenClassification(  num_hidden,\n",
        "                                        num_classes,\n",
        "                                        cfg.REG_WEIGHT,\n",
        "                                        softmax_bound=cfg.SOFTMAX_BOUND,\n",
        "                                        # return_empirical=cfg.RETURN_EMPIRICAL,\n",
        "                                        # softmax_bound_empirical=cfg.SOFTMAX_BOUND_EMPIRICAL,\n",
        "                                        parameterization = cfg.PARAM,\n",
        "                                        return_ood=cfg.RETURN_OOD,\n",
        "                                        prior_scale=cfg.PRIOR_SCALE)\n",
        "\n",
        "    def train_loss(self, X_batch, y_batch, data_size=None, verbose=False):\n",
        "        data_size = data_size or X_batch.shape[0]\n",
        "        X_processed = self.process(X_batch)\n",
        "\n",
        "        loss = 0.\n",
        "        for i, (head, y) in enumerate(zip(self.heads, y_batch.T)):\n",
        "            loss1 = head(X_processed).train_loss_fn(y.long())\n",
        "            loss += loss1\n",
        "            if verbose:\n",
        "                print(f\"head={i} loss={loss1:.2f}\")\n",
        "\n",
        "        return loss\n",
        "\n",
        "    def predict(self, X):\n",
        "        \"\"\"\n",
        "        Predict probabilities for each output given input data.\n",
        "\n",
        "        Parameters:\n",
        "        ----------\n",
        "        X : torch.Tensor\n",
        "            Input data. Shape (n_samples, input_dim).\n",
        "\n",
        "        Returns:\n",
        "        -------\n",
        "        preds : torch.Tensor\n",
        "            Predicted probabilities for each output. Shape (n_samples, K).\n",
        "        \"\"\"\n",
        "        X_processed = self.process(X)\n",
        "\n",
        "        preds = []\n",
        "        for head in self.heads:\n",
        "            pred = head(X_processed).predictive.probs[:, 1]\n",
        "            preds.append(pred.unsqueeze(1))\n",
        "\n",
        "        preds = torch.cat(preds, dim=1)  # Shape: (n_samples, K)\n",
        "        return preds"
      ]
    },
    {
      "cell_type": "markdown",
      "metadata": {
        "id": "IruZp097hq5s"
      },
      "source": [
        "## Synthetic Data from Linear Model"
      ]
    },
    {
      "cell_type": "code",
      "execution_count": null,
      "metadata": {
        "id": "sdWVTwniKJSd"
      },
      "outputs": [],
      "source": [
        "# Step 1: Generate synthetic data for multi-label classification\n",
        "# Assume N samples, D input features, and K labels\n",
        "N = 1000  # number of samples\n",
        "D = 10    # input features\n",
        "K = 4     # number of labels (multi-label classification)\n",
        "\n",
        "bias_on = 1.\n",
        "noise = 0.25\n",
        "\n",
        "torch.manual_seed(0)\n",
        "\n",
        "# Generate random data\n",
        "X = torch.randn(N, D)\n",
        "\n",
        "# Generate random weights for true labels\n",
        "true_W = torch.randn(D, K)\n",
        "# true_W = torch.ones(D, K)\n",
        "true_b = torch.randn(K)\n",
        "\n",
        "# Compute logits\n",
        "logits = X @ true_W + true_b*bias_on + torch.randn(N, K)*noise\n",
        "\n",
        "# Apply sigmoid to get probabilities\n",
        "probs = torch.sigmoid(logits)\n",
        "\n",
        "# Generate labels (multi-label)\n",
        "y = torch.bernoulli(probs)  # y is of shape (N, K), with 0s and 1s\n",
        "\n",
        "# Convert X,y to double precision (to match the expected dtype)\n",
        "X = X.double()\n",
        "y = y.double()"
      ]
    },
    {
      "cell_type": "code",
      "execution_count": null,
      "metadata": {
        "id": "hUS2ZZrWR1k0"
      },
      "outputs": [],
      "source": [
        "# Generate test data\n",
        "X_test = torch.randn(10000, D)\n",
        "\n",
        "# Compute logits\n",
        "logits = X_test @ true_W + true_b*bias_on + torch.randn(10000, K)*noise\n",
        "\n",
        "# Apply sigmoid to get probabilities\n",
        "probs = torch.sigmoid(logits)\n",
        "\n",
        "# Generate labels (multi-label)\n",
        "y_test = torch.bernoulli(probs)  # y is of shape (N, K), with 0s and 1s\n",
        "\n",
        "# Convert X,y to double precision (to match the expected dtype)\n",
        "X_test  = X_test.double()\n",
        "y_test = y_test.double()"
      ]
    },
    {
      "cell_type": "markdown",
      "metadata": {
        "id": "yY2h2Go3XgU5"
      },
      "source": [
        "## Synthethic Data: Shapes"
      ]
    },
    {
      "cell_type": "code",
      "execution_count": null,
      "metadata": {
        "id": "_pDUvrtOWrRu"
      },
      "outputs": [],
      "source": [
        "!wget -q https://raw.githubusercontent.com/matekrk/vi-per/refs/heads/main/generate_data_matchformat.py"
      ]
    },
    {
      "cell_type": "code",
      "execution_count": null,
      "metadata": {
        "id": "ApWaAo6Quu9w"
      },
      "outputs": [],
      "source": [
        "import json\n",
        "import os\n",
        "from tqdm import tqdm\n",
        "import numpy as np\n",
        "import matplotlib.pyplot as plt\n",
        "import matplotlib.patches as patches\n",
        "from shapely.geometry import Point, Polygon\n",
        "\n",
        "from generate_data_matchformat import create_artificialshapes_dataset"
      ]
    },
    {
      "cell_type": "code",
      "execution_count": null,
      "metadata": {
        "colab": {
          "base_uri": "https://localhost:8080/",
          "height": 1000
        },
        "id": "iardFlyBzed_",
        "outputId": "e01ac088-7d36-48e5-c147-8bed3a405e03"
      },
      "outputs": [
        {
          "name": "stdout",
          "output_type": "stream",
          "text": [
            "Your data path will be: size64_simplicity3_len1024_cbF_cfF_noF\n"
          ]
        },
        {
          "name": "stderr",
          "output_type": "stream",
          "text": [
            "100%|██████████| 1024/1024 [01:01<00:00, 16.75it/s]\n"
          ]
        },
        {
          "data": {
            "image/png": "[encoded data removed]",
            "text/plain": [
              "<Figure size 640x480 with 1 Axes>"
            ]
          },
          "metadata": {},
          "output_type": "display_data"
        },
        {
          "data": {
            "image/png": "[encoded data removed]",
            "text/plain": [
              "<Figure size 640x480 with 1 Axes>"
            ]
          },
          "metadata": {},
          "output_type": "display_data"
        },
        {
          "data": {
            "image/png": "[encoded data removed]",
            "text/plain": [
              "<Figure size 640x480 with 1 Axes>"
            ]
          },
          "metadata": {},
          "output_type": "display_data"
        },
        {
          "data": {
            "image/png": "[encoded data removed]",
            "text/plain": [
              "<Figure size 640x480 with 1 Axes>"
            ]
          },
          "metadata": {},
          "output_type": "display_data"
        },
        {
          "data": {
            "image/png": "[encoded data removed]",
            "text/plain": [
              "<Figure size 640x480 with 1 Axes>"
            ]
          },
          "metadata": {},
          "output_type": "display_data"
        },
        {
          "data": {
            "image/png": "[encoded data removed]",
            "text/plain": [
              "<Figure size 640x480 with 1 Axes>"
            ]
          },
          "metadata": {},
          "output_type": "display_data"
        },
        {
          "data": {
            "image/png": "[encoded data removed]",
            "text/plain": [
              "<Figure size 640x480 with 1 Axes>"
            ]
          },
          "metadata": {},
          "output_type": "display_data"
        },
        {
          "data": {
            "image/png": "[encoded data removed]",
            "text/plain": [
              "<Figure size 640x480 with 1 Axes>"
            ]
          },
          "metadata": {},
          "output_type": "display_data"
        },
        {
          "data": {
            "image/png": "[encoded data removed]",
            "text/plain": [
              "<Figure size 640x480 with 1 Axes>"
            ]
          },
          "metadata": {},
          "output_type": "display_data"
        },
        {
          "data": {
            "image/png": "[encoded data removed]",
            "text/plain": [
              "<Figure size 640x480 with 1 Axes>"
            ]
          },
          "metadata": {},
          "output_type": "display_data"
        }
      ],
      "source": [
        "# Configure and create\n",
        "\n",
        "size =  64\n",
        "# N = 256\n",
        "N = 1024\n",
        "main_dir = f\"\"\n",
        "\n",
        "coloured_background = False\n",
        "coloured_figues = False\n",
        "no_overlap = False\n",
        "bias_classes = [0.5, 0.5, 0.0, 0.0, 0.0, 0.0] # None\n",
        "simplicity = 3\n",
        "\n",
        "def get_appendix(coloured_background, coloured_figues, no_overlap):\n",
        "    def get_bool_str(v):\n",
        "        return \"T\" if v else \"F\"\n",
        "    return f\"cb{get_bool_str(coloured_background)}_cf{get_bool_str(coloured_figues)}_no{get_bool_str(no_overlap)}\"\n",
        "\n",
        "path_to_save = os.path.join(main_dir, f\"size{size}_\" + f\"simplicity{simplicity}_\" + f\"len{N}_\" + get_appendix(coloured_background, coloured_figues, no_overlap))\n",
        "\n",
        "datasetdir = os.path.join(path_to_save, \"images\")\n",
        "datasettxt = os.path.join(path_to_save, \"data.txt\")\n",
        "labelstxt = os.path.join(path_to_save, \"label.txt\")\n",
        "print(f\"Your data path will be: {path_to_save}\")\n",
        "\n",
        "dataset, labels = create_artificialshapes_dataset(N, size, datasetdir, datasettxt, labelstxt, no_overlap, coloured_figues, coloured_background, bias_classes, simplicity)\n",
        "\n",
        "# for inspection\n",
        "# datasetnpy = os.path.join(path_to_save, \"data.npy\")\n",
        "# np.save(datasetnpy, dataset)\n",
        "# labelsnpy = os.path.join(path_to_save, \"label.npy\")\n",
        "# np.save(labelsnpy, labels)\n",
        "\n",
        "\n",
        "for i in range(10):\n",
        "    plt.imshow(dataset[i])\n",
        "    plt.show()\n"
      ]
    },
    {
      "cell_type": "code",
      "execution_count": null,
      "metadata": {
        "colab": {
          "base_uri": "https://localhost:8080/",
          "height": 457
        },
        "id": "Ano0lJQtWu22",
        "outputId": "5861ba49-fe0a-4af0-97b8-71dc6d771d7f"
      },
      "outputs": [
        {
          "name": "stdout",
          "output_type": "stream",
          "text": [
            "Your data path will be: size64_simplicity3_len1024_cbF_cfF_noF\n"
          ]
        },
        {
          "name": "stderr",
          "output_type": "stream",
          "text": [
            " 34%|███▍      | 349/1024 [00:06<00:13, 50.04it/s]\n"
          ]
        },
        {
          "ename": "KeyboardInterrupt",
          "evalue": "",
          "output_type": "error",
          "traceback": [
            "\u001b[0;31m---------------------------------------------------------------------------\u001b[0m",
            "\u001b[0;31mKeyboardInterrupt\u001b[0m                         Traceback (most recent call last)",
            "\u001b[0;32m<ipython-input-16-3c9e49dd4b13>\u001b[0m in \u001b[0;36m<cell line: 26>\u001b[0;34m()\u001b[0m\n\u001b[1;32m     24\u001b[0m \u001b[0mprint\u001b[0m\u001b[0;34m(\u001b[0m\u001b[0;34mf\"Your data path will be: {path_to_save}\"\u001b[0m\u001b[0;34m)\u001b[0m\u001b[0;34m\u001b[0m\u001b[0;34m\u001b[0m\u001b[0m\n\u001b[1;32m     25\u001b[0m \u001b[0;34m\u001b[0m\u001b[0m\n\u001b[0;32m---> 26\u001b[0;31m \u001b[0mdataset\u001b[0m\u001b[0;34m,\u001b[0m \u001b[0mlabels\u001b[0m \u001b[0;34m=\u001b[0m \u001b[0mcreate_artificialshapes_dataset\u001b[0m\u001b[0;34m(\u001b[0m\u001b[0mN\u001b[0m\u001b[0;34m,\u001b[0m \u001b[0msize\u001b[0m\u001b[0;34m,\u001b[0m \u001b[0mdatasetdir\u001b[0m\u001b[0;34m,\u001b[0m \u001b[0mdatasettxt\u001b[0m\u001b[0;34m,\u001b[0m \u001b[0mlabelstxt\u001b[0m\u001b[0;34m,\u001b[0m \u001b[0mno_overlap\u001b[0m\u001b[0;34m,\u001b[0m \u001b[0mcoloured_figues\u001b[0m\u001b[0;34m,\u001b[0m \u001b[0mcoloured_background\u001b[0m\u001b[0;34m,\u001b[0m \u001b[0mbias_classes\u001b[0m\u001b[0;34m,\u001b[0m \u001b[0msimplicity\u001b[0m\u001b[0;34m)\u001b[0m\u001b[0;34m\u001b[0m\u001b[0;34m\u001b[0m\u001b[0m\n\u001b[0m\u001b[1;32m     27\u001b[0m \u001b[0;34m\u001b[0m\u001b[0m\n\u001b[1;32m     28\u001b[0m \u001b[0;31m# for inspection\u001b[0m\u001b[0;34m\u001b[0m\u001b[0;34m\u001b[0m\u001b[0m\n",
            "\u001b[0;32m/content/generate_data_matchformat.py\u001b[0m in \u001b[0;36mcreate_artificialshapes_dataset\u001b[0;34m(N, img_size, datadir, datatxt, labeltxt, no_overlap, coloured_figues, coloured_background, bias_classes, simplicity)\u001b[0m\n\u001b[1;32m    124\u001b[0m         \u001b[0mlabels\u001b[0m\u001b[0;34m.\u001b[0m\u001b[0mappend\u001b[0m\u001b[0;34m(\u001b[0m\u001b[0mlst_label\u001b[0m\u001b[0;34m)\u001b[0m\u001b[0;34m\u001b[0m\u001b[0;34m\u001b[0m\u001b[0m\n\u001b[1;32m    125\u001b[0m         \u001b[0mimage_file\u001b[0m \u001b[0;34m=\u001b[0m \u001b[0mos\u001b[0m\u001b[0;34m.\u001b[0m\u001b[0mpath\u001b[0m\u001b[0;34m.\u001b[0m\u001b[0mjoin\u001b[0m\u001b[0;34m(\u001b[0m\u001b[0mdatadir\u001b[0m\u001b[0;34m,\u001b[0m \u001b[0;34mf'image_{image_id}.jpg'\u001b[0m\u001b[0;34m)\u001b[0m\u001b[0;34m\u001b[0m\u001b[0;34m\u001b[0m\u001b[0m\n\u001b[0;32m--> 126\u001b[0;31m         \u001b[0mplt\u001b[0m\u001b[0;34m.\u001b[0m\u001b[0msavefig\u001b[0m\u001b[0;34m(\u001b[0m\u001b[0mimage_file\u001b[0m\u001b[0;34m)\u001b[0m\u001b[0;34m\u001b[0m\u001b[0;34m\u001b[0m\u001b[0m\n\u001b[0m\u001b[1;32m    127\u001b[0m         \u001b[0mplt\u001b[0m\u001b[0;34m.\u001b[0m\u001b[0mclose\u001b[0m\u001b[0;34m(\u001b[0m\u001b[0mfig\u001b[0m\u001b[0;34m)\u001b[0m\u001b[0;34m\u001b[0m\u001b[0;34m\u001b[0m\u001b[0m\n\u001b[1;32m    128\u001b[0m \u001b[0;34m\u001b[0m\u001b[0m\n",
            "\u001b[0;32m/usr/local/lib/python3.10/dist-packages/matplotlib/pyplot.py\u001b[0m in \u001b[0;36msavefig\u001b[0;34m(*args, **kwargs)\u001b[0m\n\u001b[1;32m   1118\u001b[0m     \u001b[0;31m# presumably this is here because subclasses can return?\u001b[0m\u001b[0;34m\u001b[0m\u001b[0;34m\u001b[0m\u001b[0m\n\u001b[1;32m   1119\u001b[0m     \u001b[0mres\u001b[0m \u001b[0;34m=\u001b[0m \u001b[0mfig\u001b[0m\u001b[0;34m.\u001b[0m\u001b[0msavefig\u001b[0m\u001b[0;34m(\u001b[0m\u001b[0;34m*\u001b[0m\u001b[0margs\u001b[0m\u001b[0;34m,\u001b[0m \u001b[0;34m**\u001b[0m\u001b[0mkwargs\u001b[0m\u001b[0;34m)\u001b[0m  \u001b[0;31m# type: ignore[func-returns-value]\u001b[0m\u001b[0;34m\u001b[0m\u001b[0;34m\u001b[0m\u001b[0m\n\u001b[0;32m-> 1120\u001b[0;31m     \u001b[0mfig\u001b[0m\u001b[0;34m.\u001b[0m\u001b[0mcanvas\u001b[0m\u001b[0;34m.\u001b[0m\u001b[0mdraw_idle\u001b[0m\u001b[0;34m(\u001b[0m\u001b[0;34m)\u001b[0m  \u001b[0;31m# Need this if 'transparent=True', to reset colors.\u001b[0m\u001b[0;34m\u001b[0m\u001b[0;34m\u001b[0m\u001b[0m\n\u001b[0m\u001b[1;32m   1121\u001b[0m     \u001b[0;32mreturn\u001b[0m \u001b[0mres\u001b[0m\u001b[0;34m\u001b[0m\u001b[0;34m\u001b[0m\u001b[0m\n\u001b[1;32m   1122\u001b[0m \u001b[0;34m\u001b[0m\u001b[0m\n",
            "\u001b[0;32m/usr/local/lib/python3.10/dist-packages/matplotlib/backend_bases.py\u001b[0m in \u001b[0;36mdraw_idle\u001b[0;34m(self, *args, **kwargs)\u001b[0m\n\u001b[1;32m   1891\u001b[0m         \u001b[0;32mif\u001b[0m \u001b[0;32mnot\u001b[0m \u001b[0mself\u001b[0m\u001b[0;34m.\u001b[0m\u001b[0m_is_idle_drawing\u001b[0m\u001b[0;34m:\u001b[0m\u001b[0;34m\u001b[0m\u001b[0;34m\u001b[0m\u001b[0m\n\u001b[1;32m   1892\u001b[0m             \u001b[0;32mwith\u001b[0m \u001b[0mself\u001b[0m\u001b[0;34m.\u001b[0m\u001b[0m_idle_draw_cntx\u001b[0m\u001b[0;34m(\u001b[0m\u001b[0;34m)\u001b[0m\u001b[0;34m:\u001b[0m\u001b[0;34m\u001b[0m\u001b[0;34m\u001b[0m\u001b[0m\n\u001b[0;32m-> 1893\u001b[0;31m                 \u001b[0mself\u001b[0m\u001b[0;34m.\u001b[0m\u001b[0mdraw\u001b[0m\u001b[0;34m(\u001b[0m\u001b[0;34m*\u001b[0m\u001b[0margs\u001b[0m\u001b[0;34m,\u001b[0m \u001b[0;34m**\u001b[0m\u001b[0mkwargs\u001b[0m\u001b[0;34m)\u001b[0m\u001b[0;34m\u001b[0m\u001b[0;34m\u001b[0m\u001b[0m\n\u001b[0m\u001b[1;32m   1894\u001b[0m \u001b[0;34m\u001b[0m\u001b[0m\n\u001b[1;32m   1895\u001b[0m     \u001b[0;34m@\u001b[0m\u001b[0mproperty\u001b[0m\u001b[0;34m\u001b[0m\u001b[0;34m\u001b[0m\u001b[0m\n",
            "\u001b[0;32m/usr/local/lib/python3.10/dist-packages/matplotlib/backends/backend_agg.py\u001b[0m in \u001b[0;36mdraw\u001b[0;34m(self)\u001b[0m\n\u001b[1;32m    389\u001b[0m             \u001b[0;31m# A GUI class may be need to update a window using this draw, so\u001b[0m\u001b[0;34m\u001b[0m\u001b[0;34m\u001b[0m\u001b[0m\n\u001b[1;32m    390\u001b[0m             \u001b[0;31m# don't forget to call the superclass.\u001b[0m\u001b[0;34m\u001b[0m\u001b[0;34m\u001b[0m\u001b[0m\n\u001b[0;32m--> 391\u001b[0;31m             \u001b[0msuper\u001b[0m\u001b[0;34m(\u001b[0m\u001b[0;34m)\u001b[0m\u001b[0;34m.\u001b[0m\u001b[0mdraw\u001b[0m\u001b[0;34m(\u001b[0m\u001b[0;34m)\u001b[0m\u001b[0;34m\u001b[0m\u001b[0;34m\u001b[0m\u001b[0m\n\u001b[0m\u001b[1;32m    392\u001b[0m \u001b[0;34m\u001b[0m\u001b[0m\n\u001b[1;32m    393\u001b[0m     \u001b[0;32mdef\u001b[0m \u001b[0mget_renderer\u001b[0m\u001b[0;34m(\u001b[0m\u001b[0mself\u001b[0m\u001b[0;34m)\u001b[0m\u001b[0;34m:\u001b[0m\u001b[0;34m\u001b[0m\u001b[0;34m\u001b[0m\u001b[0m\n",
            "\u001b[0;31mKeyboardInterrupt\u001b[0m: "
          ]
        },
        {
          "data": {
            "image/png": "[encoded data removed]",
            "text/plain": [
              "<Figure size 64x64 with 1 Axes>"
            ]
          },
          "metadata": {},
          "output_type": "display_data"
        }
      ],
      "source": [
        "# Configure and create\n",
        "\n",
        "size =  64\n",
        "# N = 256\n",
        "N = 1024\n",
        "main_dir = f\"\"\n",
        "\n",
        "coloured_background = False\n",
        "coloured_figues = False\n",
        "no_overlap = False\n",
        "bias_classes = [0.5, 0.5, 0.0, 0.0, 0.0, 0.0] # None\n",
        "simplicity = 3\n",
        "\n",
        "def get_appendix(coloured_background, coloured_figues, no_overlap):\n",
        "    def get_bool_str(v):\n",
        "        return \"T\" if v else \"F\"\n",
        "    return f\"cb{get_bool_str(coloured_background)}_cf{get_bool_str(coloured_figues)}_no{get_bool_str(no_overlap)}\"\n",
        "\n",
        "path_to_save = os.path.join(main_dir, f\"size{size}_\" + f\"simplicity{simplicity}_\" + f\"len{N}_\" + get_appendix(coloured_background, coloured_figues, no_overlap))\n",
        "\n",
        "datasetdir = os.path.join(path_to_save, \"images\")\n",
        "datasettxt = os.path.join(path_to_save, \"data.txt\")\n",
        "labelstxt = os.path.join(path_to_save, \"label.txt\")\n",
        "print(f\"Your data path will be: {path_to_save}\")\n",
        "\n",
        "dataset, labels = create_artificialshapes_dataset(N, size, datasetdir, datasettxt, labelstxt, no_overlap, coloured_figues, coloured_background, bias_classes, simplicity)\n",
        "\n",
        "# for inspection\n",
        "# datasetnpy = os.path.join(path_to_save, \"data.npy\")\n",
        "# np.save(datasetnpy, dataset)\n",
        "# labelsnpy = os.path.join(path_to_save, \"label.npy\")\n",
        "# np.save(labelsnpy, labels)\n",
        "\n",
        "\n",
        "for i in range(10):\n",
        "    plt.imshow(dataset[i])\n",
        "    plt.show()\n"
      ]
    },
    {
      "cell_type": "code",
      "execution_count": null,
      "metadata": {
        "id": "eB9qRX40XLfD"
      },
      "outputs": [],
      "source": [
        "# Convert labels to flat binary array\n",
        "\n",
        "shapes = ['disk', 'square', 'triangle', 'star', 'hexagon', 'pentagon']\n",
        "\n",
        "label_ids = []\n",
        "K = 0\n",
        "shape2ix = {shape: i for i, shape in enumerate(shapes)}\n",
        "for labels1 in labels:\n",
        "    labels1 = [shape2ix[l[0]] for l in labels1]\n",
        "    if labels1:\n",
        "        K = max(K, max(labels1)+1)\n",
        "    label_ids.append(labels1)\n",
        "\n",
        "def create_binary_matrix(indices, num_cols):\n",
        "    return np.array([[1 if j in row else 0 for j in range(num_cols)] for row in indices])\n",
        "\n",
        "y = create_binary_matrix(label_ids, K)\n",
        "\n",
        "\n",
        "############################################################\n",
        "# Flatten Xs\n",
        "\n",
        "# X = dataset.reshape([len(dataset), -1])\n",
        "# D = X.shape[-1]\n",
        "\n",
        "# D = X.shape[1:]\n",
        "X = dataset\n",
        "X = X * (1/255)"
      ]
    },
    {
      "cell_type": "code",
      "execution_count": null,
      "metadata": {
        "colab": {
          "base_uri": "https://localhost:8080/"
        },
        "id": "N81NLZm-Xv3p",
        "outputId": "1eb4c103-841c-4894-8fc6-8ce49ce78c4f"
      },
      "outputs": [
        {
          "data": {
            "text/plain": [
              "(1024, 64, 64, 3)"
            ]
          },
          "execution_count": 14,
          "metadata": {},
          "output_type": "execute_result"
        }
      ],
      "source": [
        "X.shape"
      ]
    },
    {
      "cell_type": "code",
      "execution_count": null,
      "metadata": {
        "colab": {
          "base_uri": "https://localhost:8080/"
        },
        "id": "kZUH92V7a8CL",
        "outputId": "892e6962-9d34-4df4-ce1b-02d5822ee1e1"
      },
      "outputs": [
        {
          "data": {
            "text/plain": [
              "(500,\n",
              " 2,\n",
              " torch.Size([500, 3, 64, 64]),\n",
              " torch.Size([500, 2]),\n",
              " torch.Size([524, 3, 64, 64]),\n",
              " torch.Size([524, 2]))"
            ]
          },
          "execution_count": 15,
          "metadata": {},
          "output_type": "execute_result"
        }
      ],
      "source": [
        "N = 500  # training data size\n",
        "\n",
        "X_test = torch.tensor(X[N:]).permute(0, 3, 1, 2).double()\n",
        "y_test = torch.tensor(y[N:]).double()\n",
        "X = torch.tensor(X[:N]).permute(0, 3, 1, 2).double()\n",
        "y = torch.tensor(y[:N]).double()\n",
        "\n",
        "\n",
        "N, K, X.shape, y.shape, X_test.shape, y_test.shape"
      ]
    },
    {
      "cell_type": "code",
      "execution_count": null,
      "metadata": {
        "id": "rEylRgbqGn7F"
      },
      "outputs": [],
      "source": [
        "# Prepare DataLoader\n",
        "batch_size = 1000\n",
        "\n",
        "dataset = TensorDataset(X, y)\n",
        "data_loader = DataLoader(dataset, batch_size=batch_size, shuffle=True)"
      ]
    },
    {
      "cell_type": "markdown",
      "metadata": {
        "id": "T4I7wq50i88a"
      },
      "source": [
        "# Backbone"
      ]
    },
    {
      "cell_type": "code",
      "execution_count": null,
      "metadata": {
        "id": "2UW0dqX193kH"
      },
      "outputs": [],
      "source": [
        "# Step 2: Define a backbone network\n",
        "class Backbone(nn.Module):\n",
        "    def __init__(self, input_dim, output_dim):\n",
        "        super(Backbone, self).__init__()\n",
        "        self.fc = nn.Linear(input_dim, 128)\n",
        "        self.relu = nn.ReLU()\n",
        "        self.fc2 = nn.Linear(128, output_dim)\n",
        "\n",
        "    def forward(self, x):\n",
        "        x = x.flatten(start_dim=1)\n",
        "        x = self.relu(self.fc(x))\n",
        "        x = self.fc2(x)\n",
        "        return x"
      ]
    },
    {
      "cell_type": "code",
      "execution_count": null,
      "metadata": {
        "id": "E8gfYLocL48U"
      },
      "outputs": [],
      "source": [
        "p = 10\n",
        "D = 3*64**2\n",
        "backbone = Backbone(D, p).double()"
      ]
    },
    {
      "cell_type": "code",
      "execution_count": null,
      "metadata": {
        "id": "BzGrYRLKdXit"
      },
      "outputs": [],
      "source": [
        "# # Step 2: Define a backbone network\n",
        "# class Backbone(nn.Module):\n",
        "#     def __init__(self, input_dim, output_dim):\n",
        "#         super(Backbone, self).__init__()\n",
        "#         self.fc = nn.Linear(input_dim, 1024)\n",
        "#         self.relu = nn.ReLU()\n",
        "#         self.fc2 = nn.Linear(1024, 256)\n",
        "#         self.fc3 = nn.Linear(256, 128)\n",
        "#         self.fc4 = nn.Linear(128, 128)\n",
        "#         self.fc5 = nn.Linear(128, 128)\n",
        "#         self.fc6 = nn.Linear(128, output_dim)\n",
        "\n",
        "#     def forward(self, x):\n",
        "#         x = self.relu(self.fc(x))\n",
        "#         x = self.relu(self.fc2(x))\n",
        "#         x = self.relu(self.fc3(x))\n",
        "#         x = self.relu(self.fc4(x))\n",
        "#         x = self.relu(self.fc5(x))\n",
        "#         x = self.fc6(x)\n",
        "#         return x"
      ]
    },
    {
      "cell_type": "code",
      "execution_count": null,
      "metadata": {
        "id": "qiAcixPXwLgf"
      },
      "outputs": [],
      "source": [
        "# # Define backbone that outputs features of dimension p\n",
        "\n",
        "# p = 10  # dimension of features output by backbone\n",
        "# backbone = Backbone(D, p).double()  # Ensure the backbone uses double precision"
      ]
    },
    {
      "cell_type": "code",
      "execution_count": null,
      "metadata": {
        "id": "X_nik_A8ugOF"
      },
      "outputs": [],
      "source": [
        "# !wget -q https://raw.githubusercontent.com/matekrk/vi-per/refs/heads/main/src/backbone_cnn.py\n",
        "# !wget -q https://raw.githubusercontent.com/matekrk/vi-per/refs/heads/main/src/backbone_build.py\n",
        "# !wget -q https://raw.githubusercontent.com/matekrk/vi-per/refs/heads/main/src/backbone_simple.py"
      ]
    },
    {
      "cell_type": "code",
      "execution_count": null,
      "metadata": {
        "id": "0NL6FtEr5rC-"
      },
      "outputs": [],
      "source": [
        "class LeNet(nn.Module):\n",
        "    def __init__(self, in_channel, option_id):\n",
        "        super(LeNet, self).__init__() # super().__init__()\n",
        "        # 0: size 28, 1: size 32, 2: size 64\n",
        "        options = [[[5, 1, 2], [5, 1, 0]],\n",
        "                   [[3, 1, 0], [3, 1, 0]],\n",
        "                   [[5, 1, 2], [5, 1, 0]]] # kernel, stride, padding\n",
        "        self.option_id = option_id\n",
        "        option = options[option_id]\n",
        "        self.conv1 = nn.Conv2d(in_channel, 6, kernel_size=option[0][0], stride=option[0][1], padding=option[0][2])\n",
        "        self.avgpool1 = nn.AvgPool2d(kernel_size=2, stride=2)\n",
        "        self.conv2 = nn.Conv2d(6, 16, kernel_size=option[1][0], stride=option[1][1], padding=option[1][2])\n",
        "        self.avgpool2 = nn.AvgPool2d(kernel_size=2, stride=2)\n",
        "        final_size = self.compute_final_size(option_id, in_channel)\n",
        "        self.fc1 = nn.Linear(16 * final_size * final_size, 120)\n",
        "        self.fc2 = nn.Linear(120, 84)\n",
        "        # self.fc3 = nn.Linear(84, num_classes)\n",
        "\n",
        "    def compute_final_size(self, option_id, in_channel):\n",
        "        if in_channel == 3:\n",
        "            match option_id:\n",
        "                case 0:\n",
        "                    return 5\n",
        "                case 1:\n",
        "                    return 6\n",
        "                case 2:\n",
        "                    return 14\n",
        "        return\n",
        "\n",
        "    def forward(self, x):\n",
        "        out = self.conv1(x)\n",
        "        out = self.avgpool1(out)\n",
        "        out = self.conv2(out)\n",
        "        out = self.avgpool2(out)\n",
        "        #print(out.shape)\n",
        "        # out = out.view(out.size(0), -1)\n",
        "        out = torch.flatten(out, start_dim=1)\n",
        "        #print(out.shape)\n",
        "        out = self.fc1(out)\n",
        "        out = torch.nn.functional.relu(out)\n",
        "        out = self.fc2(out)\n",
        "        # out = self.fc3(out)\n",
        "        return out"
      ]
    },
    {
      "cell_type": "code",
      "execution_count": null,
      "metadata": {
        "id": "sWr5dOEb3Dwr"
      },
      "outputs": [],
      "source": [
        "p = 84\n",
        "backbone = LeNet(3, 2).to(torch.double)"
      ]
    },
    {
      "cell_type": "code",
      "execution_count": null,
      "metadata": {
        "id": "psUBBmjVzTpH"
      },
      "outputs": [],
      "source": [
        "class ConvNetBigger(nn.Module):\n",
        "    def __init__(self, input_channels, input_size):\n",
        "        super(ConvNet, self).__init__()\n",
        "        self.conv1 = nn.Conv2d(input_channels, 32, kernel_size=5, stride=1, padding=1)\n",
        "        self.avgpool1 = nn.AvgPool2d(kernel_size=2, stride=2, padding=0)\n",
        "        self.conv2 = nn.Conv2d(32, 64, kernel_size=5, stride=1, padding=1)\n",
        "        self.avgpool2 = nn.AvgPool2d(kernel_size=2, stride=2, padding=0)\n",
        "        self.conv3 = nn.Conv2d(64, 128, kernel_size=5, stride=1, padding=1)\n",
        "        self.avgpool3 = nn.AvgPool2d(kernel_size=2, stride=2, padding=1)\n",
        "        self.final_size = 128 * 7 * 7\n",
        "        self.fc1 = nn.Linear(self.final_size, 120)\n",
        "        self.fc2 = nn.Linear(120, 60)\n",
        "\n",
        "    def forward(self, x):\n",
        "        x = self.avgpool1(nn.functional.relu(self.conv1(x)))\n",
        "        x = self.avgpool2(nn.functional.relu(self.conv2(x)))\n",
        "        x = self.avgpool3(nn.functional.relu(self.conv3(x)))\n",
        "        x = torch.flatten(x, start_dim=1)\n",
        "        x = nn.functional.relu(self.fc1(x))\n",
        "        x = nn.functional.relu(self.fc2(x))\n",
        "        return x"
      ]
    },
    {
      "cell_type": "code",
      "execution_count": null,
      "metadata": {
        "id": "A1k46vl_471N"
      },
      "outputs": [],
      "source": [
        "p = 60\n",
        "backbone = ConvNetBigger(3, 64).to(torch.double)"
      ]
    },
    {
      "cell_type": "code",
      "execution_count": null,
      "metadata": {
        "id": "-1UP4Dq04J0X"
      },
      "outputs": [],
      "source": [
        "class ConvNet(nn.Module):\n",
        "    def __init__(self, input_channels, input_size):\n",
        "        super(ConvNet, self).__init__()\n",
        "        self.conv1 = nn.Conv2d(input_channels, 64, kernel_size=3, stride=1, padding=1)\n",
        "        self.avgpool1 = nn.AvgPool2d(kernel_size=2, stride=2, padding=0)\n",
        "        self.conv2 = nn.Conv2d(64, 64, kernel_size=3, stride=1, padding=1)\n",
        "        self.avgpool2 = nn.AvgPool2d(kernel_size=2, stride=2, padding=0)\n",
        "        self.conv3 = nn.Conv2d(64, 64, kernel_size=3, stride=1, padding=1)\n",
        "        self.avgpool3 = nn.AvgPool2d(kernel_size=2, stride=2, padding=1)\n",
        "        self.final_size = 64 * 9 * 9\n",
        "        self.fc1 = nn.Linear(self.final_size, 64)\n",
        "\n",
        "    def forward(self, x):\n",
        "        x = self.avgpool1(nn.functional.relu(self.conv1(x)))\n",
        "        x = self.avgpool2(nn.functional.relu(self.conv2(x)))\n",
        "        x = self.avgpool3(nn.functional.relu(self.conv3(x)))\n",
        "        x = torch.flatten(x, start_dim=1)\n",
        "        x = nn.functional.relu(self.fc1(x))\n",
        "        return x"
      ]
    },
    {
      "cell_type": "code",
      "execution_count": null,
      "metadata": {
        "id": "9u0Bsk9fzYDn"
      },
      "outputs": [],
      "source": [
        "p = 64\n",
        "backbone = ConvNet(3, 64).to(torch.double)"
      ]
    },
    {
      "cell_type": "code",
      "execution_count": null,
      "metadata": {
        "colab": {
          "base_uri": "https://localhost:8080/"
        },
        "id": "PKi1aZUNSnp3",
        "outputId": "ca4847f9-d088-449f-fe2a-61b74ce1ed92"
      },
      "outputs": [
        {
          "name": "stdout",
          "output_type": "stream",
          "text": [
            "Layer: conv1.weight | Number of parameters: 1728\n",
            "Layer: conv1.bias | Number of parameters: 64\n",
            "Layer: conv2.weight | Number of parameters: 36864\n",
            "Layer: conv2.bias | Number of parameters: 64\n",
            "Layer: conv3.weight | Number of parameters: 36864\n",
            "Layer: conv3.bias | Number of parameters: 64\n",
            "Layer: fc1.weight | Number of parameters: 331776\n",
            "Layer: fc1.bias | Number of parameters: 64\n"
          ]
        }
      ],
      "source": [
        "for name, param in backbone.named_parameters():\n",
        "    if param.requires_grad:\n",
        "        print(f\"Layer: {name} | Number of parameters: {param.numel()}\")"
      ]
    },
    {
      "cell_type": "code",
      "execution_count": null,
      "metadata": {
        "colab": {
          "base_uri": "https://localhost:8080/"
        },
        "id": "cTVW1V7cXCkv",
        "outputId": "5f9ec3ba-b922-496b-ffc9-a418088ae140"
      },
      "outputs": [
        {
          "data": {
            "text/plain": [
              "ConvNet(\n",
              "  (conv1): Conv2d(3, 64, kernel_size=(3, 3), stride=(1, 1), padding=(1, 1))\n",
              "  (avgpool1): AvgPool2d(kernel_size=2, stride=2, padding=0)\n",
              "  (conv2): Conv2d(64, 64, kernel_size=(3, 3), stride=(1, 1), padding=(1, 1))\n",
              "  (avgpool2): AvgPool2d(kernel_size=2, stride=2, padding=0)\n",
              "  (conv3): Conv2d(64, 64, kernel_size=(3, 3), stride=(1, 1), padding=(1, 1))\n",
              "  (avgpool3): AvgPool2d(kernel_size=2, stride=2, padding=1)\n",
              "  (fc1): Linear(in_features=5184, out_features=64, bias=True)\n",
              ")"
            ]
          },
          "execution_count": 20,
          "metadata": {},
          "output_type": "execute_result"
        }
      ],
      "source": [
        "backbone"
      ]
    },
    {
      "cell_type": "code",
      "execution_count": null,
      "metadata": {
        "id": "pET1elLMvp6n"
      },
      "outputs": [],
      "source": [
        "# from backbone_cnn import network_9layers\n",
        "\n",
        "# p = 10\n",
        "# backbone = network_9layers(p).double()\n",
        "\n",
        "# backbone(X)"
      ]
    },
    {
      "cell_type": "markdown",
      "metadata": {
        "id": "8orSrMGmuTzg"
      },
      "source": [
        "# Configure & Build model"
      ]
    },
    {
      "cell_type": "code",
      "execution_count": null,
      "metadata": {
        "id": "o8oaTRKnKM47"
      },
      "outputs": [],
      "source": [
        "# # Turn off backbone\n",
        "# backbone = None\n",
        "# p = X.shape[-1]\n",
        "\n",
        "beta = 0.\n",
        "# beta = 0.  # Turn off KL divergence / regularization"
      ]
    },
    {
      "cell_type": "code",
      "execution_count": null,
      "metadata": {
        "colab": {
          "base_uri": "https://localhost:8080/"
        },
        "id": "3_3V0k-M3pbX",
        "outputId": "e9781826-d728-4763-d063-87a353b938eb"
      },
      "outputs": [
        {
          "name": "stdout",
          "output_type": "stream",
          "text": [
            "[LLModel] beta=1.0 input_dim=64 output_dim=2 intercept=True\n"
          ]
        }
      ],
      "source": [
        "# # Step 3: Instantiate the LogisticVI model\n",
        "beta = 1.0\n",
        "model_logisticvi = LogisticVI(beta=beta,\n",
        "                   p=p,\n",
        "                   K=K,\n",
        "                   method=0, # method==0/1 (proposed bound, diagonal/full covariance)\n",
        "                   backbone=backbone,\n",
        "                   l_max=10.0,\n",
        "                   intercept=True,\n",
        "                   )"
      ]
    },
    {
      "cell_type": "code",
      "execution_count": null,
      "metadata": {
        "colab": {
          "base_uri": "https://localhost:8080/"
        },
        "id": "5jreA1sc0KmW",
        "outputId": "4eb376ce-bfe7-4456-fc6a-dce7925edbeb"
      },
      "outputs": [
        {
          "name": "stdout",
          "output_type": "stream",
          "text": [
            "[LLModel] beta=0.0 input_dim=64 output_dim=3 intercept=True\n"
          ]
        }
      ],
      "source": [
        "beta = 0.\n",
        "model = LogisticPointwise(beta=beta,\n",
        "                            p=p,\n",
        "                            K=K,\n",
        "                            backbone=backbone,\n",
        "                            intercept=True,\n",
        "                            )"
      ]
    },
    {
      "cell_type": "code",
      "execution_count": null,
      "metadata": {
        "id": "bytk8lI-PSKQ"
      },
      "outputs": [],
      "source": [
        "# # # Discriminative VBLL\n",
        "# # class cfg:\n",
        "# #     TYPE = \"disc\"\n",
        "# #     REG_WEIGHT = 1./N\n",
        "# #     # PARAM = 'diagonal'\n",
        "# #     PARAM = 'dense'\n",
        "# #     RETURN_OOD = False\n",
        "# #     PRIOR_SCALE = 1.\n",
        "# #     SOFTMAX_BOUND = \"jensen\"\n",
        "# #     # RETURN_EMPIRICAL = True\n",
        "# #     # SOFTMAX_BOUND_EMPIRICAL = \"montecarlo\"\n",
        "\n",
        "\n",
        "# ## Generative VBLL\n",
        "# class cfg:\n",
        "#     TYPE = \"gen\"\n",
        "#     REG_WEIGHT = 1./N\n",
        "#     PARAM = 'diagonal'\n",
        "#     # PARAM = 'dense'\n",
        "#     RETURN_OOD = False\n",
        "#     PRIOR_SCALE = 1.\n",
        "#     SOFTMAX_BOUND = \"jensen\"\n",
        "#     # RETURN_EMPIRICAL = True\n",
        "#     # SOFTMAX_BOUND_EMPIRICAL = \"montecarlo\"\n",
        "\n",
        "\n",
        "# model = VBLLVI(\n",
        "#             p=p,\n",
        "#             K=K,\n",
        "#             vbll_cfg=cfg,\n",
        "#             backbone=backbone,\n",
        "#             intercept=True,\n",
        "#             )"
      ]
    },
    {
      "cell_type": "markdown",
      "metadata": {
        "id": "KgXXsE0Wi_b7"
      },
      "source": [
        "# Run"
      ]
    },
    {
      "cell_type": "code",
      "execution_count": null,
      "metadata": {
        "id": "couPzcWFR5A_"
      },
      "outputs": [],
      "source": [
        "from sklearn.metrics import accuracy_score, f1_score, precision_score, recall_score\n",
        "\n",
        "# Step 5: Make predictions and evaluate the model\n",
        "def evaluate(model, X_test, y_test, prefix = \"\"):\n",
        "    # Get predictions\n",
        "    preds = model.predict(X_test)\n",
        "\n",
        "    # Binarize predictions using a threshold (e.g., 0.5)\n",
        "    threshold = 0.5\n",
        "    y_pred = (preds >= threshold).double()\n",
        "    assert y_pred.shape == y_test.shape, f\"y_pred.shape={y_pred.shape} != y_test.shape={y_test.shape}\"\n",
        "\n",
        "    f1s = []\n",
        "\n",
        "    # Compute evaluation metrics (accuracy and F1-score) per label\n",
        "    for k in range(K):\n",
        "        acc = accuracy_score(y_test[:, k].flatten().int().numpy(), y_pred[:, k].int().flatten().numpy())\n",
        "        precision = precision_score(y_test[:, k].numpy(), y_pred[:, k].numpy())\n",
        "        recall = recall_score(y_test[:, k].numpy(), y_pred[:, k].numpy())\n",
        "        f1 = f1_score(y_test[:, k].numpy(), y_pred[:, k].numpy())\n",
        "        f1s.append(f1)\n",
        "        print(f\"{prefix} : Label {k}: Accuracy = {acc:.2f}, Precision = {precision:.2f}, Recall = {recall:.2f}, F1-score = {f1:.2f}\")\n",
        "\n",
        "    return f1s\n"
      ]
    },
    {
      "cell_type": "code",
      "execution_count": null,
      "metadata": {
        "id": "ZIEnOwyi4gRl"
      },
      "outputs": [],
      "source": [
        "evaluate(model, X_test, y_test)"
      ]
    },
    {
      "cell_type": "code",
      "execution_count": null,
      "metadata": {
        "colab": {
          "base_uri": "https://localhost:8080/"
        },
        "id": "gqlHdE8j80-p",
        "outputId": "6e8cc8ff-5208-44e1-f2e4-e77e57de82cf"
      },
      "outputs": [
        {
          "data": {
            "text/plain": [
              "ConvNet(\n",
              "  (conv1): Conv2d(3, 64, kernel_size=(3, 3), stride=(1, 1), padding=(1, 1))\n",
              "  (avgpool1): AvgPool2d(kernel_size=2, stride=2, padding=0)\n",
              "  (conv2): Conv2d(64, 64, kernel_size=(3, 3), stride=(1, 1), padding=(1, 1))\n",
              "  (avgpool2): AvgPool2d(kernel_size=2, stride=2, padding=0)\n",
              "  (conv3): Conv2d(64, 64, kernel_size=(3, 3), stride=(1, 1), padding=(1, 1))\n",
              "  (avgpool3): AvgPool2d(kernel_size=2, stride=2, padding=1)\n",
              "  (fc1): Linear(in_features=5184, out_features=64, bias=True)\n",
              ")"
            ]
          },
          "execution_count": 35,
          "metadata": {},
          "output_type": "execute_result"
        }
      ],
      "source": [
        "model.backbone.train()"
      ]
    },
    {
      "cell_type": "code",
      "execution_count": null,
      "metadata": {
        "id": "aQJGd60ea5lB"
      },
      "outputs": [],
      "source": [
        "# Prepare DataLoader\n",
        "batch_size = 1000\n",
        "\n",
        "dataset = TensorDataset(X, y)\n",
        "data_loader = DataLoader(dataset, batch_size=batch_size, shuffle=True)"
      ]
    },
    {
      "cell_type": "code",
      "execution_count": null,
      "metadata": {
        "id": "Qbux8OB5RyK1"
      },
      "outputs": [],
      "source": [
        "# p = 10\n",
        "# D = 3*64**2\n",
        "# backbone = Backbone(D, p).double()\n",
        "# model = LogisticPointwise(beta=beta,\n",
        "#                             p=p,\n",
        "#                             K=K,\n",
        "#                             backbone=backbone,\n",
        "#                             intercept=True,\n",
        "#                             )"
      ]
    },
    {
      "cell_type": "markdown",
      "metadata": {
        "id": "s2rSov0YStE6"
      },
      "source": [
        "# Training"
      ]
    },
    {
      "cell_type": "code",
      "execution_count": null,
      "metadata": {
        "id": "HhveGwtZL4K3"
      },
      "outputs": [],
      "source": [
        "model_init = copy.deepcopy(model)\n",
        "# model = copy.deepcopy(model_init)"
      ]
    },
    {
      "cell_type": "code",
      "execution_count": null,
      "metadata": {
        "colab": {
          "base_uri": "https://localhost:8080/"
        },
        "id": "h1ZLc9X-OXRd",
        "outputId": "7d5e7112-6472-42ee-edf1-9e838ac93f43"
      },
      "outputs": [
        {
          "name": "stdout",
          "output_type": "stream",
          "text": [
            "train : Label 0: Accuracy = 0.62, F1-score = 0.00\n",
            "train : Label 1: Accuracy = 0.33, F1-score = 0.49\n",
            "train : Label 2: Accuracy = 0.35, F1-score = 0.52\n",
            "test : Label 0: Accuracy = 0.67, F1-score = 0.00\n",
            "test : Label 1: Accuracy = 0.35, F1-score = 0.52\n",
            "test : Label 2: Accuracy = 0.35, F1-score = 0.52\n"
          ]
        },
        {
          "data": {
            "text/plain": [
              "[0.0, 0.515003489183531, 0.515003489183531]"
            ]
          },
          "execution_count": 39,
          "metadata": {},
          "output_type": "execute_result"
        }
      ],
      "source": [
        "evaluate(model, X, y, prefix=\"train\")\n",
        "evaluate(model, X_test, y_test, prefix=\"test\")"
      ]
    },
    {
      "cell_type": "code",
      "execution_count": null,
      "metadata": {
        "id": "e-QUhLU6TUMX"
      },
      "outputs": [],
      "source": [
        "# Define optimizer\n",
        "# optimizer = optim.Adam(model.params, lr=0.001)\n",
        "optimizer = optim.Adam(model.params, lr=0.001) # , weight_decay=1e-7"
      ]
    },
    {
      "cell_type": "code",
      "execution_count": null,
      "metadata": {
        "id": "c7POGSF0E5mu"
      },
      "outputs": [],
      "source": [
        "f1_thres = 0.55\n",
        "model_best = None"
      ]
    },
    {
      "cell_type": "code",
      "execution_count": null,
      "metadata": {
        "colab": {
          "base_uri": "https://localhost:8080/"
        },
        "id": "zRiraPl4Q49R",
        "outputId": "ce5a8916-db74-4047-8923-d6a050409e0e"
      },
      "outputs": [
        {
          "data": {
            "text/plain": [
              "ConvNet(\n",
              "  (conv1): Conv2d(3, 64, kernel_size=(3, 3), stride=(1, 1), padding=(1, 1))\n",
              "  (avgpool1): AvgPool2d(kernel_size=2, stride=2, padding=0)\n",
              "  (conv2): Conv2d(64, 64, kernel_size=(3, 3), stride=(1, 1), padding=(1, 1))\n",
              "  (avgpool2): AvgPool2d(kernel_size=2, stride=2, padding=0)\n",
              "  (conv3): Conv2d(64, 64, kernel_size=(3, 3), stride=(1, 1), padding=(1, 1))\n",
              "  (avgpool3): AvgPool2d(kernel_size=2, stride=2, padding=1)\n",
              "  (fc1): Linear(in_features=5184, out_features=64, bias=True)\n",
              ")"
            ]
          },
          "execution_count": 42,
          "metadata": {},
          "output_type": "execute_result"
        }
      ],
      "source": [
        "model.backbone"
      ]
    },
    {
      "cell_type": "markdown",
      "metadata": {
        "id": "A3uH3tSj6N18"
      },
      "source": [
        "New Archi"
      ]
    },
    {
      "cell_type": "code",
      "execution_count": null,
      "metadata": {
        "colab": {
          "background_save": true,
          "base_uri": "https://localhost:8080/"
        },
        "id": "_ER_Ow_H6Omx",
        "outputId": "8463484c-b78e-4a27-c9ff-0ed5e87cfa74"
      },
      "outputs": [
        {
          "name": "stdout",
          "output_type": "stream",
          "text": [
            "mean_bce_loss=0.84  mean_reg=0.58\n",
            "Epoch 0, Loss: 0.8364\n",
            "train : Label 0: Accuracy = 0.62, F1-score = 0.00\n",
            "train : Label 1: Accuracy = 0.67, F1-score = 0.00\n",
            "train : Label 2: Accuracy = 0.65, F1-score = 0.00\n",
            "test : Label 0: Accuracy = 0.67, F1-score = 0.00\n",
            "test : Label 1: Accuracy = 0.65, F1-score = 0.00\n",
            "test : Label 2: Accuracy = 0.65, F1-score = 0.00\n",
            "true tensor([[0., 1., 0.],\n",
            "        [0., 1., 1.],\n",
            "        [0., 0., 0.],\n",
            "        [0., 0., 0.],\n",
            "        [0., 0., 1.]], dtype=torch.float64) pred tensor([[0.4688, 0.2622, 0.3244],\n",
            "        [0.4578, 0.2657, 0.3341],\n",
            "        [0.4664, 0.2602, 0.3233],\n",
            "        [0.4664, 0.2602, 0.3233],\n",
            "        [0.4660, 0.2606, 0.3270]], dtype=torch.float64, grad_fn=<CatBackward0>)\n",
            "mean_bce_loss=0.64  mean_reg=0.58\n",
            "Epoch 10, Loss: 0.6366\n",
            "train : Label 0: Accuracy = 0.62, F1-score = 0.00\n",
            "train : Label 1: Accuracy = 0.67, F1-score = 0.00\n",
            "train : Label 2: Accuracy = 0.65, F1-score = 0.00\n",
            "test : Label 0: Accuracy = 0.67, F1-score = 0.00\n",
            "test : Label 1: Accuracy = 0.65, F1-score = 0.00\n",
            "test : Label 2: Accuracy = 0.65, F1-score = 0.00\n",
            "true tensor([[0., 1., 0.],\n",
            "        [0., 1., 1.],\n",
            "        [0., 0., 0.],\n",
            "        [0., 0., 0.],\n",
            "        [0., 0., 1.]], dtype=torch.float64) pred tensor([[0.3848, 0.2734, 0.3104],\n",
            "        [0.4117, 0.3241, 0.3304],\n",
            "        [0.3814, 0.2661, 0.3060],\n",
            "        [0.3814, 0.2661, 0.3060],\n",
            "        [0.3912, 0.2772, 0.3118]], dtype=torch.float64, grad_fn=<CatBackward0>)\n",
            "mean_bce_loss=0.57  mean_reg=0.58\n",
            "Epoch 20, Loss: 0.5705\n",
            "train : Label 0: Accuracy = 0.69, F1-score = 0.59\n",
            "train : Label 1: Accuracy = 0.74, F1-score = 0.65\n",
            "train : Label 2: Accuracy = 0.65, F1-score = 0.00\n",
            "test : Label 0: Accuracy = 0.72, F1-score = 0.58\n",
            "test : Label 1: Accuracy = 0.71, F1-score = 0.60\n",
            "test : Label 2: Accuracy = 0.65, F1-score = 0.00\n",
            "true tensor([[0., 1., 0.],\n",
            "        [0., 1., 1.],\n",
            "        [0., 0., 0.],\n",
            "        [0., 0., 0.],\n",
            "        [0., 0., 1.]], dtype=torch.float64) pred tensor([[0.2488, 0.2377, 0.3891],\n",
            "        [0.5897, 0.6947, 0.3805],\n",
            "        [0.2266, 0.1737, 0.3800],\n",
            "        [0.2266, 0.1737, 0.3800],\n",
            "        [0.3027, 0.2765, 0.3989]], dtype=torch.float64, grad_fn=<CatBackward0>)\n",
            "mean_bce_loss=0.57  mean_reg=0.58\n",
            "Epoch 30, Loss: 0.5733\n",
            "train : Label 0: Accuracy = 0.70, F1-score = 0.60\n",
            "train : Label 1: Accuracy = 0.76, F1-score = 0.56\n",
            "train : Label 2: Accuracy = 0.67, F1-score = 0.14\n",
            "test : Label 0: Accuracy = 0.71, F1-score = 0.55\n",
            "test : Label 1: Accuracy = 0.73, F1-score = 0.52\n",
            "test : Label 2: Accuracy = 0.66, F1-score = 0.10\n",
            "true tensor([[0., 1., 0.],\n",
            "        [0., 1., 1.],\n",
            "        [0., 0., 0.],\n",
            "        [0., 0., 0.],\n",
            "        [0., 0., 1.]], dtype=torch.float64) pred tensor([[0.2972, 0.1706, 0.4716],\n",
            "        [0.5666, 0.5026, 0.4122],\n",
            "        [0.2856, 0.1554, 0.4614],\n",
            "        [0.2856, 0.1554, 0.4614],\n",
            "        [0.3265, 0.1848, 0.4789]], dtype=torch.float64, grad_fn=<CatBackward0>)\n",
            "mean_bce_loss=0.55  mean_reg=0.58\n",
            "Epoch 40, Loss: 0.5511\n",
            "train : Label 0: Accuracy = 0.71, F1-score = 0.58\n",
            "train : Label 1: Accuracy = 0.77, F1-score = 0.63\n",
            "train : Label 2: Accuracy = 0.65, F1-score = 0.05\n",
            "test : Label 0: Accuracy = 0.71, F1-score = 0.52\n",
            "test : Label 1: Accuracy = 0.73, F1-score = 0.55\n",
            "test : Label 2: Accuracy = 0.65, F1-score = 0.08\n",
            "true tensor([[0., 1., 0.],\n",
            "        [0., 1., 1.],\n",
            "        [0., 0., 0.],\n",
            "        [0., 0., 0.],\n",
            "        [0., 0., 1.]], dtype=torch.float64) pred tensor([[0.1968, 0.1227, 0.4075],\n",
            "        [0.5371, 0.6360, 0.2667],\n",
            "        [0.1852, 0.1027, 0.3773],\n",
            "        [0.1852, 0.1027, 0.3773],\n",
            "        [0.2244, 0.1423, 0.4359]], dtype=torch.float64, grad_fn=<CatBackward0>)\n",
            "mean_bce_loss=0.53  mean_reg=0.58\n",
            "Epoch 50, Loss: 0.5263\n",
            "train : Label 0: Accuracy = 0.72, F1-score = 0.61\n",
            "train : Label 1: Accuracy = 0.78, F1-score = 0.62\n",
            "train : Label 2: Accuracy = 0.67, F1-score = 0.35\n",
            "test : Label 0: Accuracy = 0.71, F1-score = 0.55\n",
            "test : Label 1: Accuracy = 0.72, F1-score = 0.51\n",
            "test : Label 2: Accuracy = 0.66, F1-score = 0.36\n",
            "true tensor([[0., 1., 0.],\n",
            "        [0., 1., 1.],\n",
            "        [0., 0., 0.],\n",
            "        [0., 0., 0.],\n",
            "        [0., 0., 1.]], dtype=torch.float64) pred tensor([[0.1678, 0.0771, 0.3910],\n",
            "        [0.4597, 0.6122, 0.2801],\n",
            "        [0.1482, 0.0493, 0.3235],\n",
            "        [0.1482, 0.0493, 0.3235],\n",
            "        [0.2045, 0.0922, 0.4575]], dtype=torch.float64, grad_fn=<CatBackward0>)\n",
            "mean_bce_loss=0.52  mean_reg=0.58\n",
            "Epoch 60, Loss: 0.5244\n",
            "train : Label 0: Accuracy = 0.73, F1-score = 0.57\n",
            "train : Label 1: Accuracy = 0.73, F1-score = 0.30\n",
            "train : Label 2: Accuracy = 0.66, F1-score = 0.27\n",
            "test : Label 0: Accuracy = 0.72, F1-score = 0.48\n",
            "test : Label 1: Accuracy = 0.68, F1-score = 0.19\n",
            "test : Label 2: Accuracy = 0.62, F1-score = 0.22\n",
            "true tensor([[0., 1., 0.],\n",
            "        [0., 1., 1.],\n",
            "        [0., 0., 0.],\n",
            "        [0., 0., 0.],\n",
            "        [0., 0., 1.]], dtype=torch.float64) pred tensor([[0.0632, 0.0118, 0.1831],\n",
            "        [0.5073, 0.3312, 0.3186],\n",
            "        [0.0475, 0.0087, 0.1343],\n",
            "        [0.0475, 0.0087, 0.1343],\n",
            "        [0.0647, 0.0193, 0.2128]], dtype=torch.float64, grad_fn=<CatBackward0>)\n",
            "mean_bce_loss=0.51  mean_reg=0.58\n",
            "Epoch 70, Loss: 0.5147\n",
            "train : Label 0: Accuracy = 0.74, F1-score = 0.64\n",
            "train : Label 1: Accuracy = 0.80, F1-score = 0.68\n",
            "train : Label 2: Accuracy = 0.73, F1-score = 0.52\n",
            "test : Label 0: Accuracy = 0.72, F1-score = 0.57\n",
            "test : Label 1: Accuracy = 0.72, F1-score = 0.53\n",
            "test : Label 2: Accuracy = 0.66, F1-score = 0.42\n",
            "true tensor([[0., 1., 0.],\n",
            "        [0., 1., 1.],\n",
            "        [0., 0., 0.],\n",
            "        [0., 0., 0.],\n",
            "        [0., 0., 1.]], dtype=torch.float64) pred tensor([[0.1793, 0.1307, 0.4141],\n",
            "        [0.5788, 0.7265, 0.3049],\n",
            "        [0.1396, 0.1017, 0.3429],\n",
            "        [0.1396, 0.1017, 0.3429],\n",
            "        [0.1813, 0.2032, 0.4553]], dtype=torch.float64, grad_fn=<CatBackward0>)\n",
            "mean_bce_loss=0.49  mean_reg=0.58\n",
            "Epoch 80, Loss: 0.4886\n",
            "train : Label 0: Accuracy = 0.75, F1-score = 0.67\n",
            "train : Label 1: Accuracy = 0.80, F1-score = 0.66\n",
            "train : Label 2: Accuracy = 0.70, F1-score = 0.48\n",
            "test : Label 0: Accuracy = 0.71, F1-score = 0.56\n",
            "test : Label 1: Accuracy = 0.72, F1-score = 0.51\n",
            "test : Label 2: Accuracy = 0.66, F1-score = 0.42\n",
            "true tensor([[0., 1., 0.],\n",
            "        [0., 1., 1.],\n",
            "        [0., 0., 0.],\n",
            "        [0., 0., 0.],\n",
            "        [0., 0., 1.]], dtype=torch.float64) pred tensor([[0.1127, 0.0379, 0.3089],\n",
            "        [0.6095, 0.7155, 0.3048],\n",
            "        [0.0747, 0.0223, 0.2060],\n",
            "        [0.0747, 0.0223, 0.2060],\n",
            "        [0.1191, 0.0815, 0.3796]], dtype=torch.float64, grad_fn=<CatBackward0>)\n",
            "mean_bce_loss=0.47  mean_reg=0.58\n",
            "Epoch 90, Loss: 0.4687\n",
            "train : Label 0: Accuracy = 0.76, F1-score = 0.69\n",
            "train : Label 1: Accuracy = 0.82, F1-score = 0.69\n",
            "train : Label 2: Accuracy = 0.72, F1-score = 0.58\n",
            "test : Label 0: Accuracy = 0.70, F1-score = 0.55\n",
            "test : Label 1: Accuracy = 0.72, F1-score = 0.52\n",
            "test : Label 2: Accuracy = 0.66, F1-score = 0.52\n",
            "true tensor([[0., 1., 0.],\n",
            "        [0., 1., 1.],\n",
            "        [0., 0., 0.],\n",
            "        [0., 0., 0.],\n",
            "        [0., 0., 1.]], dtype=torch.float64) pred tensor([[0.1220, 0.0677, 0.4287],\n",
            "        [0.5323, 0.7283, 0.3348],\n",
            "        [0.0731, 0.0271, 0.2312],\n",
            "        [0.0731, 0.0271, 0.2312],\n",
            "        [0.1249, 0.1593, 0.5094]], dtype=torch.float64, grad_fn=<CatBackward0>)\n",
            "mean_bce_loss=0.45  mean_reg=0.58\n",
            "Epoch 100, Loss: 0.4487\n",
            "train : Label 0: Accuracy = 0.78, F1-score = 0.70\n",
            "train : Label 1: Accuracy = 0.82, F1-score = 0.72\n",
            "train : Label 2: Accuracy = 0.75, F1-score = 0.62\n",
            "test : Label 0: Accuracy = 0.69, F1-score = 0.53\n",
            "test : Label 1: Accuracy = 0.73, F1-score = 0.55\n",
            "test : Label 2: Accuracy = 0.67, F1-score = 0.53\n",
            "true tensor([[0., 1., 0.],\n",
            "        [0., 1., 1.],\n",
            "        [0., 0., 0.],\n",
            "        [0., 0., 0.],\n",
            "        [0., 0., 1.]], dtype=torch.float64) pred tensor([[0.1279, 0.0772, 0.5045],\n",
            "        [0.4416, 0.7347, 0.3311],\n",
            "        [0.0604, 0.0178, 0.2146],\n",
            "        [0.0604, 0.0178, 0.2146],\n",
            "        [0.1554, 0.1489, 0.5438]], dtype=torch.float64, grad_fn=<CatBackward0>)\n",
            "mean_bce_loss=0.48  mean_reg=0.58\n",
            "Epoch 110, Loss: 0.4799\n",
            "train : Label 0: Accuracy = 0.77, F1-score = 0.70\n",
            "train : Label 1: Accuracy = 0.82, F1-score = 0.66\n",
            "train : Label 2: Accuracy = 0.74, F1-score = 0.56\n",
            "test : Label 0: Accuracy = 0.72, F1-score = 0.59\n",
            "test : Label 1: Accuracy = 0.73, F1-score = 0.51\n",
            "test : Label 2: Accuracy = 0.67, F1-score = 0.47\n",
            "true tensor([[0., 1., 0.],\n",
            "        [0., 1., 1.],\n",
            "        [0., 0., 0.],\n",
            "        [0., 0., 0.],\n",
            "        [0., 0., 1.]], dtype=torch.float64) pred tensor([[0.0956, 0.0125, 0.2442],\n",
            "        [0.5323, 0.6599, 0.4705],\n",
            "        [0.0395, 0.0050, 0.0940],\n",
            "        [0.0395, 0.0050, 0.0940],\n",
            "        [0.0981, 0.0783, 0.3565]], dtype=torch.float64, grad_fn=<CatBackward0>)\n",
            "mean_bce_loss=0.42  mean_reg=0.58\n",
            "Epoch 120, Loss: 0.4249\n",
            "train : Label 0: Accuracy = 0.77, F1-score = 0.67\n",
            "train : Label 1: Accuracy = 0.84, F1-score = 0.74\n",
            "train : Label 2: Accuracy = 0.77, F1-score = 0.65\n",
            "test : Label 0: Accuracy = 0.69, F1-score = 0.52\n",
            "test : Label 1: Accuracy = 0.74, F1-score = 0.57\n",
            "test : Label 2: Accuracy = 0.67, F1-score = 0.53\n",
            "true tensor([[0., 1., 0.],\n",
            "        [0., 1., 1.],\n",
            "        [0., 0., 0.],\n",
            "        [0., 0., 0.],\n",
            "        [0., 0., 1.]], dtype=torch.float64) pred tensor([[0.1506, 0.0469, 0.6005],\n",
            "        [0.2736, 0.6633, 0.2846],\n",
            "        [0.0655, 0.0051, 0.2027],\n",
            "        [0.0655, 0.0051, 0.2027],\n",
            "        [0.2104, 0.1162, 0.6479]], dtype=torch.float64, grad_fn=<CatBackward0>)\n",
            "mean_bce_loss=0.39  mean_reg=0.58\n",
            "Epoch 130, Loss: 0.3912\n",
            "train : Label 0: Accuracy = 0.82, F1-score = 0.76\n",
            "train : Label 1: Accuracy = 0.87, F1-score = 0.79\n",
            "train : Label 2: Accuracy = 0.78, F1-score = 0.67\n",
            "test : Label 0: Accuracy = 0.71, F1-score = 0.58\n",
            "test : Label 1: Accuracy = 0.72, F1-score = 0.52\n",
            "test : Label 2: Accuracy = 0.67, F1-score = 0.53\n",
            "true tensor([[0., 1., 0.],\n",
            "        [0., 1., 1.],\n",
            "        [0., 0., 0.],\n",
            "        [0., 0., 0.],\n",
            "        [0., 0., 1.]], dtype=torch.float64) pred tensor([[0.1173, 0.0411, 0.5456],\n",
            "        [0.4425, 0.6489, 0.4183],\n",
            "        [0.0395, 0.0054, 0.1262],\n",
            "        [0.0395, 0.0054, 0.1262],\n",
            "        [0.1572, 0.1886, 0.6038]], dtype=torch.float64, grad_fn=<CatBackward0>)\n",
            "mean_bce_loss=0.36  mean_reg=0.58\n",
            "Epoch 140, Loss: 0.3616\n",
            "train : Label 0: Accuracy = 0.83, F1-score = 0.77\n",
            "train : Label 1: Accuracy = 0.87, F1-score = 0.80\n",
            "train : Label 2: Accuracy = 0.80, F1-score = 0.69\n",
            "test : Label 0: Accuracy = 0.71, F1-score = 0.56\n",
            "test : Label 1: Accuracy = 0.73, F1-score = 0.55\n",
            "test : Label 2: Accuracy = 0.69, F1-score = 0.55\n",
            "true tensor([[0., 1., 0.],\n",
            "        [0., 1., 1.],\n",
            "        [0., 0., 0.],\n",
            "        [0., 0., 0.],\n",
            "        [0., 0., 1.]], dtype=torch.float64) pred tensor([[0.1049, 0.0328, 0.6570],\n",
            "        [0.3548, 0.7621, 0.3524],\n",
            "        [0.0294, 0.0021, 0.1051],\n",
            "        [0.0294, 0.0021, 0.1051],\n",
            "        [0.1352, 0.1888, 0.6746]], dtype=torch.float64, grad_fn=<CatBackward0>)\n",
            "mean_bce_loss=0.34  mean_reg=0.58\n",
            "Epoch 150, Loss: 0.3368\n",
            "train : Label 0: Accuracy = 0.85, F1-score = 0.78\n",
            "train : Label 1: Accuracy = 0.88, F1-score = 0.82\n",
            "train : Label 2: Accuracy = 0.80, F1-score = 0.67\n",
            "test : Label 0: Accuracy = 0.72, F1-score = 0.52\n",
            "test : Label 1: Accuracy = 0.72, F1-score = 0.57\n",
            "test : Label 2: Accuracy = 0.70, F1-score = 0.52\n",
            "true tensor([[0., 1., 0.],\n",
            "        [0., 1., 1.],\n",
            "        [0., 0., 0.],\n",
            "        [0., 0., 0.],\n",
            "        [0., 0., 1.]], dtype=torch.float64) pred tensor([[6.6834e-02, 1.6940e-02, 6.1503e-01],\n",
            "        [2.3590e-01, 7.5532e-01, 2.7399e-01],\n",
            "        [1.8198e-02, 6.0506e-04, 5.7375e-02],\n",
            "        [1.8198e-02, 6.0506e-04, 5.7375e-02],\n",
            "        [1.0843e-01, 2.2801e-01, 6.3574e-01]], dtype=torch.float64,\n",
            "       grad_fn=<CatBackward0>)\n",
            "mean_bce_loss=0.31  mean_reg=0.58\n",
            "Epoch 160, Loss: 0.3129\n",
            "train : Label 0: Accuracy = 0.87, F1-score = 0.82\n",
            "train : Label 1: Accuracy = 0.89, F1-score = 0.84\n",
            "train : Label 2: Accuracy = 0.82, F1-score = 0.72\n",
            "test : Label 0: Accuracy = 0.70, F1-score = 0.54\n",
            "test : Label 1: Accuracy = 0.73, F1-score = 0.58\n",
            "test : Label 2: Accuracy = 0.70, F1-score = 0.54\n",
            "true tensor([[0., 1., 0.],\n",
            "        [0., 1., 1.],\n",
            "        [0., 0., 0.],\n",
            "        [0., 0., 0.],\n",
            "        [0., 0., 1.]], dtype=torch.float64) pred tensor([[7.7858e-02, 2.2647e-02, 7.1797e-01],\n",
            "        [1.9938e-01, 7.9594e-01, 2.7807e-01],\n",
            "        [1.8478e-02, 6.5736e-04, 6.8332e-02],\n",
            "        [1.8478e-02, 6.5736e-04, 6.8332e-02],\n",
            "        [1.3569e-01, 2.7249e-01, 6.8048e-01]], dtype=torch.float64,\n",
            "       grad_fn=<CatBackward0>)\n",
            "mean_bce_loss=0.28  mean_reg=0.58\n",
            "Epoch 170, Loss: 0.2768\n",
            "train : Label 0: Accuracy = 0.90, F1-score = 0.86\n",
            "train : Label 1: Accuracy = 0.90, F1-score = 0.85\n",
            "train : Label 2: Accuracy = 0.84, F1-score = 0.77\n",
            "test : Label 0: Accuracy = 0.72, F1-score = 0.56\n",
            "test : Label 1: Accuracy = 0.73, F1-score = 0.58\n",
            "test : Label 2: Accuracy = 0.69, F1-score = 0.58\n",
            "true tensor([[0., 1., 0.],\n",
            "        [0., 1., 1.],\n",
            "        [0., 0., 0.],\n",
            "        [0., 0., 0.],\n",
            "        [0., 0., 1.]], dtype=torch.float64) pred tensor([[5.4945e-02, 1.7420e-02, 7.6955e-01],\n",
            "        [2.4137e-01, 8.2397e-01, 3.4469e-01],\n",
            "        [1.1363e-02, 3.4066e-04, 4.9065e-02],\n",
            "        [1.1363e-02, 3.4066e-04, 4.9065e-02],\n",
            "        [1.2651e-01, 2.8814e-01, 7.1743e-01]], dtype=torch.float64,\n",
            "       grad_fn=<CatBackward0>)\n"
          ]
        }
      ],
      "source": [
        "# Step 4: Train the model\n",
        "n_epochs = 300  # Set to a small value for this example\n",
        "\n",
        "data_size = X.shape[0]\n",
        "for epoch in range(n_epochs):\n",
        "    verbose = (epoch%10==0)\n",
        "\n",
        "    for X_batch, y_batch in data_loader:\n",
        "        optimizer.zero_grad()\n",
        "        loss = model.train_loss(X_batch, y_batch, data_size, verbose=verbose)\n",
        "        loss.backward()\n",
        "        # for i in model.params:\n",
        "        #   print(i.grad)\n",
        "        optimizer.step()\n",
        "\n",
        "    if verbose:\n",
        "        print(f\"Epoch {epoch}, Loss: {loss:.4f}\")\n",
        "        evaluate(model, X, y, prefix=\"train\")\n",
        "        f1_test = evaluate(model, X_test, y_test, prefix=\"test\")\n",
        "        f1_test = sum(f1_test) / len(f1_test)\n",
        "        if f1_test > f1_thres:\n",
        "          f1_thres = f1_test\n",
        "          model_best = copy.deepcopy(model)\n",
        "        n_test_data_pred = 5\n",
        "        preds = model.predict(X_test[0:n_test_data_pred])\n",
        "        print(\"true\", y_test[0:n_test_data_pred], \"pred\", preds)\n"
      ]
    },
    {
      "cell_type": "code",
      "execution_count": null,
      "metadata": {
        "colab": {
          "base_uri": "https://localhost:8080/"
        },
        "id": "FaE0_QczIh6E",
        "outputId": "0cace1a8-8079-4771-ce8a-b06156a499eb"
      },
      "outputs": [
        {
          "name": "stdout",
          "output_type": "stream",
          "text": [
            "mean_bce_loss=0.28  mean_reg=0.40\n",
            "Epoch 200, Loss: 0.2841\n",
            "train : Label 0: Accuracy = 0.86, F1-score = 0.67\n",
            "train : Label 1: Accuracy = 0.87, F1-score = 0.71\n",
            "test : Label 0: Accuracy = 0.75, F1-score = 0.44\n",
            "test : Label 1: Accuracy = 0.77, F1-score = 0.46\n",
            "true tensor([[0., 1.],\n",
            "        [0., 0.],\n",
            "        [0., 0.],\n",
            "        [0., 0.],\n",
            "        [0., 0.]], dtype=torch.float64) pred tensor([[0.2630, 0.5407],\n",
            "        [0.0098, 0.0104],\n",
            "        [0.0098, 0.0104],\n",
            "        [0.0098, 0.0104],\n",
            "        [0.0098, 0.0104]], dtype=torch.float64, grad_fn=<CatBackward0>)\n",
            "mean_bce_loss=0.27  mean_reg=0.40\n",
            "Epoch 210, Loss: 0.2709\n",
            "train : Label 0: Accuracy = 0.86, F1-score = 0.66\n",
            "train : Label 1: Accuracy = 0.88, F1-score = 0.76\n",
            "test : Label 0: Accuracy = 0.74, F1-score = 0.45\n",
            "test : Label 1: Accuracy = 0.77, F1-score = 0.53\n",
            "true tensor([[0., 1.],\n",
            "        [0., 0.],\n",
            "        [0., 0.],\n",
            "        [0., 0.],\n",
            "        [0., 0.]], dtype=torch.float64) pred tensor([[0.1839, 0.5976],\n",
            "        [0.0131, 0.0123],\n",
            "        [0.0131, 0.0123],\n",
            "        [0.0131, 0.0123],\n",
            "        [0.0131, 0.0123]], dtype=torch.float64, grad_fn=<CatBackward0>)\n",
            "mean_bce_loss=0.26  mean_reg=0.40\n",
            "Epoch 220, Loss: 0.2586\n",
            "train : Label 0: Accuracy = 0.87, F1-score = 0.70\n",
            "train : Label 1: Accuracy = 0.90, F1-score = 0.79\n",
            "test : Label 0: Accuracy = 0.74, F1-score = 0.46\n",
            "test : Label 1: Accuracy = 0.78, F1-score = 0.56\n",
            "true tensor([[0., 1.],\n",
            "        [0., 0.],\n",
            "        [0., 0.],\n",
            "        [0., 0.],\n",
            "        [0., 0.]], dtype=torch.float64) pred tensor([[0.2251, 0.5910],\n",
            "        [0.0097, 0.0102],\n",
            "        [0.0097, 0.0102],\n",
            "        [0.0097, 0.0102],\n",
            "        [0.0097, 0.0102]], dtype=torch.float64, grad_fn=<CatBackward0>)\n",
            "mean_bce_loss=0.26  mean_reg=0.40\n",
            "Epoch 230, Loss: 0.2597\n",
            "train : Label 0: Accuracy = 0.88, F1-score = 0.75\n",
            "train : Label 1: Accuracy = 0.90, F1-score = 0.81\n",
            "test : Label 0: Accuracy = 0.76, F1-score = 0.50\n",
            "test : Label 1: Accuracy = 0.76, F1-score = 0.55\n",
            "true tensor([[0., 1.],\n",
            "        [0., 0.],\n",
            "        [0., 0.],\n",
            "        [0., 0.],\n",
            "        [0., 0.]], dtype=torch.float64) pred tensor([[0.2038, 0.6591],\n",
            "        [0.0292, 0.0252],\n",
            "        [0.0292, 0.0252],\n",
            "        [0.0292, 0.0252],\n",
            "        [0.0292, 0.0252]], dtype=torch.float64, grad_fn=<CatBackward0>)\n",
            "mean_bce_loss=0.24  mean_reg=0.40\n",
            "Epoch 240, Loss: 0.2399\n",
            "train : Label 0: Accuracy = 0.89, F1-score = 0.74\n",
            "train : Label 1: Accuracy = 0.89, F1-score = 0.80\n",
            "test : Label 0: Accuracy = 0.74, F1-score = 0.48\n",
            "test : Label 1: Accuracy = 0.78, F1-score = 0.56\n",
            "true tensor([[0., 1.],\n",
            "        [0., 0.],\n",
            "        [0., 0.],\n",
            "        [0., 0.],\n",
            "        [0., 0.]], dtype=torch.float64) pred tensor([[0.2324, 0.6726],\n",
            "        [0.0175, 0.0101],\n",
            "        [0.0175, 0.0101],\n",
            "        [0.0175, 0.0101],\n",
            "        [0.0175, 0.0101]], dtype=torch.float64, grad_fn=<CatBackward0>)\n",
            "mean_bce_loss=0.23  mean_reg=0.40\n",
            "Epoch 250, Loss: 0.2275\n",
            "train : Label 0: Accuracy = 0.90, F1-score = 0.78\n",
            "train : Label 1: Accuracy = 0.91, F1-score = 0.82\n",
            "test : Label 0: Accuracy = 0.75, F1-score = 0.50\n",
            "test : Label 1: Accuracy = 0.77, F1-score = 0.54\n",
            "true tensor([[0., 1.],\n",
            "        [0., 0.],\n",
            "        [0., 0.],\n",
            "        [0., 0.],\n",
            "        [0., 0.]], dtype=torch.float64) pred tensor([[0.3316, 0.6418],\n",
            "        [0.0089, 0.0045],\n",
            "        [0.0089, 0.0045],\n",
            "        [0.0089, 0.0045],\n",
            "        [0.0089, 0.0045]], dtype=torch.float64, grad_fn=<CatBackward0>)\n",
            "mean_bce_loss=0.22  mean_reg=0.40\n",
            "Epoch 260, Loss: 0.2245\n",
            "train : Label 0: Accuracy = 0.90, F1-score = 0.75\n",
            "train : Label 1: Accuracy = 0.91, F1-score = 0.82\n",
            "test : Label 0: Accuracy = 0.76, F1-score = 0.49\n",
            "test : Label 1: Accuracy = 0.77, F1-score = 0.54\n",
            "true tensor([[0., 1.],\n",
            "        [0., 0.],\n",
            "        [0., 0.],\n",
            "        [0., 0.],\n",
            "        [0., 0.]], dtype=torch.float64) pred tensor([[0.2031, 0.6100],\n",
            "        [0.0042, 0.0031],\n",
            "        [0.0042, 0.0031],\n",
            "        [0.0042, 0.0031],\n",
            "        [0.0042, 0.0031]], dtype=torch.float64, grad_fn=<CatBackward0>)\n",
            "mean_bce_loss=0.21  mean_reg=0.40\n",
            "Epoch 270, Loss: 0.2136\n",
            "train : Label 0: Accuracy = 0.90, F1-score = 0.79\n",
            "train : Label 1: Accuracy = 0.92, F1-score = 0.84\n",
            "test : Label 0: Accuracy = 0.75, F1-score = 0.51\n",
            "test : Label 1: Accuracy = 0.77, F1-score = 0.58\n",
            "true tensor([[0., 1.],\n",
            "        [0., 0.],\n",
            "        [0., 0.],\n",
            "        [0., 0.],\n",
            "        [0., 0.]], dtype=torch.float64) pred tensor([[0.3070, 0.7502],\n",
            "        [0.0115, 0.0048],\n",
            "        [0.0115, 0.0048],\n",
            "        [0.0115, 0.0048],\n",
            "        [0.0115, 0.0048]], dtype=torch.float64, grad_fn=<CatBackward0>)\n",
            "mean_bce_loss=0.20  mean_reg=0.40\n",
            "Epoch 280, Loss: 0.2006\n",
            "train : Label 0: Accuracy = 0.91, F1-score = 0.80\n",
            "train : Label 1: Accuracy = 0.92, F1-score = 0.85\n",
            "test : Label 0: Accuracy = 0.75, F1-score = 0.51\n",
            "test : Label 1: Accuracy = 0.78, F1-score = 0.59\n",
            "true tensor([[0., 1.],\n",
            "        [0., 0.],\n",
            "        [0., 0.],\n",
            "        [0., 0.],\n",
            "        [0., 0.]], dtype=torch.float64) pred tensor([[0.3495, 0.8044],\n",
            "        [0.0090, 0.0030],\n",
            "        [0.0090, 0.0030],\n",
            "        [0.0090, 0.0030],\n",
            "        [0.0090, 0.0030]], dtype=torch.float64, grad_fn=<CatBackward0>)\n",
            "mean_bce_loss=0.19  mean_reg=0.40\n",
            "Epoch 290, Loss: 0.1890\n",
            "train : Label 0: Accuracy = 0.92, F1-score = 0.83\n",
            "train : Label 1: Accuracy = 0.93, F1-score = 0.86\n",
            "test : Label 0: Accuracy = 0.75, F1-score = 0.50\n",
            "test : Label 1: Accuracy = 0.80, F1-score = 0.60\n",
            "true tensor([[0., 1.],\n",
            "        [0., 0.],\n",
            "        [0., 0.],\n",
            "        [0., 0.],\n",
            "        [0., 0.]], dtype=torch.float64) pred tensor([[0.2524, 0.7775],\n",
            "        [0.0033, 0.0010],\n",
            "        [0.0033, 0.0010],\n",
            "        [0.0033, 0.0010],\n",
            "        [0.0033, 0.0010]], dtype=torch.float64, grad_fn=<CatBackward0>)\n",
            "mean_bce_loss=0.18  mean_reg=0.40\n",
            "Epoch 300, Loss: 0.1797\n",
            "train : Label 0: Accuracy = 0.92, F1-score = 0.85\n",
            "train : Label 1: Accuracy = 0.94, F1-score = 0.87\n",
            "test : Label 0: Accuracy = 0.76, F1-score = 0.55\n",
            "test : Label 1: Accuracy = 0.79, F1-score = 0.60\n",
            "true tensor([[0., 1.],\n",
            "        [0., 0.],\n",
            "        [0., 0.],\n",
            "        [0., 0.],\n",
            "        [0., 0.]], dtype=torch.float64) pred tensor([[0.3652, 0.8332],\n",
            "        [0.0052, 0.0008],\n",
            "        [0.0052, 0.0008],\n",
            "        [0.0052, 0.0008],\n",
            "        [0.0052, 0.0008]], dtype=torch.float64, grad_fn=<CatBackward0>)\n",
            "mean_bce_loss=0.17  mean_reg=0.40\n",
            "Epoch 310, Loss: 0.1699\n",
            "train : Label 0: Accuracy = 0.92, F1-score = 0.83\n",
            "train : Label 1: Accuracy = 0.93, F1-score = 0.87\n",
            "test : Label 0: Accuracy = 0.76, F1-score = 0.52\n",
            "test : Label 1: Accuracy = 0.79, F1-score = 0.61\n",
            "true tensor([[0., 1.],\n",
            "        [0., 0.],\n",
            "        [0., 0.],\n",
            "        [0., 0.],\n",
            "        [0., 0.]], dtype=torch.float64) pred tensor([[0.2033, 0.8592],\n",
            "        [0.0043, 0.0009],\n",
            "        [0.0043, 0.0009],\n",
            "        [0.0043, 0.0009],\n",
            "        [0.0043, 0.0009]], dtype=torch.float64, grad_fn=<CatBackward0>)\n",
            "mean_bce_loss=0.17  mean_reg=0.40\n",
            "Epoch 320, Loss: 0.1685\n",
            "train : Label 0: Accuracy = 0.90, F1-score = 0.77\n",
            "train : Label 1: Accuracy = 0.93, F1-score = 0.86\n",
            "test : Label 0: Accuracy = 0.77, F1-score = 0.49\n",
            "test : Label 1: Accuracy = 0.79, F1-score = 0.60\n",
            "true tensor([[0., 1.],\n",
            "        [0., 0.],\n",
            "        [0., 0.],\n",
            "        [0., 0.],\n",
            "        [0., 0.]], dtype=torch.float64) pred tensor([[0.0993, 0.8596],\n",
            "        [0.0042, 0.0017],\n",
            "        [0.0042, 0.0017],\n",
            "        [0.0042, 0.0017],\n",
            "        [0.0042, 0.0017]], dtype=torch.float64, grad_fn=<CatBackward0>)\n",
            "mean_bce_loss=0.16  mean_reg=0.40\n",
            "Epoch 330, Loss: 0.1552\n",
            "train : Label 0: Accuracy = 0.94, F1-score = 0.87\n",
            "train : Label 1: Accuracy = 0.95, F1-score = 0.90\n",
            "test : Label 0: Accuracy = 0.76, F1-score = 0.54\n",
            "test : Label 1: Accuracy = 0.81, F1-score = 0.62\n",
            "true tensor([[0., 1.],\n",
            "        [0., 0.],\n",
            "        [0., 0.],\n",
            "        [0., 0.],\n",
            "        [0., 0.]], dtype=torch.float64) pred tensor([[3.8162e-01, 8.9210e-01],\n",
            "        [1.8256e-03, 3.3203e-04],\n",
            "        [1.8256e-03, 3.3203e-04],\n",
            "        [1.8256e-03, 3.3203e-04],\n",
            "        [1.8256e-03, 3.3203e-04]], dtype=torch.float64, grad_fn=<CatBackward0>)\n",
            "mean_bce_loss=0.15  mean_reg=0.40\n",
            "Epoch 340, Loss: 0.1531\n",
            "train : Label 0: Accuracy = 0.94, F1-score = 0.86\n",
            "train : Label 1: Accuracy = 0.95, F1-score = 0.91\n",
            "test : Label 0: Accuracy = 0.77, F1-score = 0.50\n",
            "test : Label 1: Accuracy = 0.80, F1-score = 0.63\n",
            "true tensor([[0., 1.],\n",
            "        [0., 0.],\n",
            "        [0., 0.],\n",
            "        [0., 0.],\n",
            "        [0., 0.]], dtype=torch.float64) pred tensor([[1.1540e-01, 9.5763e-01],\n",
            "        [2.7855e-03, 4.5610e-04],\n",
            "        [2.7855e-03, 4.5610e-04],\n",
            "        [2.7855e-03, 4.5610e-04],\n",
            "        [2.7855e-03, 4.5610e-04]], dtype=torch.float64, grad_fn=<CatBackward0>)\n",
            "mean_bce_loss=0.14  mean_reg=0.40\n",
            "Epoch 350, Loss: 0.1386\n",
            "train : Label 0: Accuracy = 0.94, F1-score = 0.86\n",
            "train : Label 1: Accuracy = 0.95, F1-score = 0.90\n",
            "test : Label 0: Accuracy = 0.76, F1-score = 0.53\n",
            "test : Label 1: Accuracy = 0.81, F1-score = 0.62\n",
            "true tensor([[0., 1.],\n",
            "        [0., 0.],\n",
            "        [0., 0.],\n",
            "        [0., 0.],\n",
            "        [0., 0.]], dtype=torch.float64) pred tensor([[2.1080e-01, 9.1535e-01],\n",
            "        [3.3275e-03, 4.4335e-04],\n",
            "        [3.3275e-03, 4.4335e-04],\n",
            "        [3.3275e-03, 4.4335e-04],\n",
            "        [3.3275e-03, 4.4335e-04]], dtype=torch.float64, grad_fn=<CatBackward0>)\n",
            "mean_bce_loss=0.13  mean_reg=0.40\n",
            "Epoch 360, Loss: 0.1279\n",
            "train : Label 0: Accuracy = 0.95, F1-score = 0.90\n",
            "train : Label 1: Accuracy = 0.96, F1-score = 0.92\n",
            "test : Label 0: Accuracy = 0.77, F1-score = 0.56\n",
            "test : Label 1: Accuracy = 0.81, F1-score = 0.63\n",
            "true tensor([[0., 1.],\n",
            "        [0., 0.],\n",
            "        [0., 0.],\n",
            "        [0., 0.],\n",
            "        [0., 0.]], dtype=torch.float64) pred tensor([[2.3007e-01, 9.2815e-01],\n",
            "        [9.4765e-04, 5.5606e-05],\n",
            "        [9.4765e-04, 5.5606e-05],\n",
            "        [9.4765e-04, 5.5606e-05],\n",
            "        [9.4765e-04, 5.5606e-05]], dtype=torch.float64, grad_fn=<CatBackward0>)\n",
            "mean_bce_loss=1.66  mean_reg=0.40\n",
            "Epoch 370, Loss: 1.6649\n",
            "train : Label 0: Accuracy = 0.75, F1-score = 0.53\n",
            "train : Label 1: Accuracy = 0.79, F1-score = 0.38\n",
            "test : Label 0: Accuracy = 0.71, F1-score = 0.50\n",
            "test : Label 1: Accuracy = 0.79, F1-score = 0.41\n",
            "true tensor([[0., 1.],\n",
            "        [0., 0.],\n",
            "        [0., 0.],\n",
            "        [0., 0.],\n",
            "        [0., 0.]], dtype=torch.float64) pred tensor([[8.2311e-01, 1.0101e-03],\n",
            "        [3.7815e-06, 5.0073e-14],\n",
            "        [3.7815e-06, 5.0073e-14],\n",
            "        [3.7815e-06, 5.0073e-14],\n",
            "        [3.7815e-06, 5.0073e-14]], dtype=torch.float64, grad_fn=<CatBackward0>)\n",
            "mean_bce_loss=0.50  mean_reg=0.40\n",
            "Epoch 380, Loss: 0.4967\n",
            "train : Label 0: Accuracy = 0.77, F1-score = 0.00\n",
            "train : Label 1: Accuracy = 0.79, F1-score = 0.58\n",
            "test : Label 0: Accuracy = 0.73, F1-score = 0.00\n",
            "test : Label 1: Accuracy = 0.78, F1-score = 0.57\n",
            "true tensor([[0., 1.],\n",
            "        [0., 0.],\n",
            "        [0., 0.],\n",
            "        [0., 0.],\n",
            "        [0., 0.]], dtype=torch.float64) pred tensor([[0.3084, 0.5967],\n",
            "        [0.2662, 0.3122],\n",
            "        [0.2662, 0.3122],\n",
            "        [0.2662, 0.3122],\n",
            "        [0.2662, 0.3122]], dtype=torch.float64, grad_fn=<CatBackward0>)\n",
            "mean_bce_loss=0.53  mean_reg=0.40\n",
            "Epoch 390, Loss: 0.5319\n",
            "train : Label 0: Accuracy = 0.77, F1-score = 0.00\n",
            "train : Label 1: Accuracy = 0.77, F1-score = 0.19\n",
            "test : Label 0: Accuracy = 0.73, F1-score = 0.00\n",
            "test : Label 1: Accuracy = 0.77, F1-score = 0.16\n",
            "true tensor([[0., 1.],\n",
            "        [0., 0.],\n",
            "        [0., 0.],\n",
            "        [0., 0.],\n",
            "        [0., 0.]], dtype=torch.float64) pred tensor([[0.1540, 0.2695],\n",
            "        [0.1414, 0.1644],\n",
            "        [0.1414, 0.1644],\n",
            "        [0.1414, 0.1644],\n",
            "        [0.1414, 0.1644]], dtype=torch.float64, grad_fn=<CatBackward0>)\n"
          ]
        }
      ],
      "source": [
        "# Step 4: Train the model\n",
        "n_epochs = 200  # Set to a small value for this example\n",
        "\n",
        "data_size = X.shape[0]\n",
        "for epoch in range(200, 200+n_epochs):\n",
        "    verbose = (epoch%10==0)\n",
        "\n",
        "    for X_batch, y_batch in data_loader:\n",
        "        optimizer.zero_grad()\n",
        "        loss = model.train_loss(X_batch, y_batch, data_size, verbose=verbose)\n",
        "        loss.backward()\n",
        "        # for i in model.params:\n",
        "        #   print(i.grad)\n",
        "        optimizer.step()\n",
        "\n",
        "    if verbose:\n",
        "        print(f\"Epoch {epoch}, Loss: {loss:.4f}\")\n",
        "        evaluate(model, X, y, prefix=\"train\")\n",
        "        f1_test = evaluate(model, X_test, y_test, prefix=\"test\")\n",
        "        f1_test = sum(f1_test) / len(f1_test)\n",
        "        if f1_test > f1_thres:\n",
        "          f1_thres = f1_test\n",
        "          model_best = copy.deepcopy(model)\n",
        "        n_test_data_pred = 5\n",
        "        preds = model.predict(X_test[0:n_test_data_pred])\n",
        "        print(\"true\", y_test[0:n_test_data_pred], \"pred\", preds)\n"
      ]
    },
    {
      "cell_type": "code",
      "execution_count": null,
      "metadata": {
        "colab": {
          "base_uri": "https://localhost:8080/"
        },
        "id": "UTHyX4hed2Cl",
        "outputId": "5fa434fd-25b9-4117-895e-92dc5a290713"
      },
      "outputs": [
        {
          "name": "stdout",
          "output_type": "stream",
          "text": [
            "train : Label 0: Accuracy = 0.77, F1-score = 0.00\n",
            "train : Label 1: Accuracy = 0.81, F1-score = 0.58\n"
          ]
        },
        {
          "data": {
            "text/plain": [
              "[0.0, 0.5752212389380531]"
            ]
          },
          "execution_count": 81,
          "metadata": {},
          "output_type": "execute_result"
        }
      ],
      "source": [
        "evaluate(model, X, y, prefix=\"train\")"
      ]
    },
    {
      "cell_type": "code",
      "execution_count": null,
      "metadata": {
        "colab": {
          "base_uri": "https://localhost:8080/",
          "height": 283
        },
        "id": "345goaXJZZ3G",
        "outputId": "67e26760-8f9f-4e0f-9e6d-e9c3083de652"
      },
      "outputs": [
        {
          "ename": "AttributeError",
          "evalue": "module 'torch' has no attribute 'sa'",
          "output_type": "error",
          "traceback": [
            "\u001b[0;31m---------------------------------------------------------------------------\u001b[0m",
            "\u001b[0;31mAttributeError\u001b[0m                            Traceback (most recent call last)",
            "\u001b[0;32m<ipython-input-75-1274171d76bc>\u001b[0m in \u001b[0;36m<cell line: 1>\u001b[0;34m()\u001b[0m\n\u001b[0;32m----> 1\u001b[0;31m \u001b[0mtorch\u001b[0m\u001b[0;34m.\u001b[0m\u001b[0msa\u001b[0m\u001b[0;34m\u001b[0m\u001b[0;34m\u001b[0m\u001b[0m\n\u001b[0m",
            "\u001b[0;32m/usr/local/lib/python3.10/dist-packages/torch/__init__.py\u001b[0m in \u001b[0;36m__getattr__\u001b[0;34m(name)\u001b[0m\n\u001b[1;32m   2561\u001b[0m             \u001b[0;32mreturn\u001b[0m \u001b[0mimportlib\u001b[0m\u001b[0;34m.\u001b[0m\u001b[0mimport_module\u001b[0m\u001b[0;34m(\u001b[0m\u001b[0;34mf\".{name}\"\u001b[0m\u001b[0;34m,\u001b[0m \u001b[0m__name__\u001b[0m\u001b[0;34m)\u001b[0m\u001b[0;34m\u001b[0m\u001b[0;34m\u001b[0m\u001b[0m\n\u001b[1;32m   2562\u001b[0m \u001b[0;34m\u001b[0m\u001b[0m\n\u001b[0;32m-> 2563\u001b[0;31m         \u001b[0;32mraise\u001b[0m \u001b[0mAttributeError\u001b[0m\u001b[0;34m(\u001b[0m\u001b[0;34mf\"module '{__name__}' has no attribute '{name}'\"\u001b[0m\u001b[0;34m)\u001b[0m\u001b[0;34m\u001b[0m\u001b[0;34m\u001b[0m\u001b[0m\n\u001b[0m\u001b[1;32m   2564\u001b[0m \u001b[0;34m\u001b[0m\u001b[0m\n\u001b[1;32m   2565\u001b[0m \u001b[0;34m\u001b[0m\u001b[0m\n",
            "\u001b[0;31mAttributeError\u001b[0m: module 'torch' has no attribute 'sa'"
          ]
        }
      ],
      "source": [
        "torch.save(model.backbone.state_dict(), \"./backbone_circlessquares.pt\")\n",
        "for i, m in enumerate(model.m_list):\n",
        "  torch.save(m, f\"./att_{i}.pt\")"
      ]
    },
    {
      "cell_type": "markdown",
      "metadata": {
        "id": "sjzlRDUxySdi"
      },
      "source": [
        "With wd"
      ]
    },
    {
      "cell_type": "code",
      "execution_count": null,
      "metadata": {
        "colab": {
          "base_uri": "https://localhost:8080/",
          "height": 1000
        },
        "id": "pGcVZTAra8FY",
        "outputId": "66a75d83-e355-48a4-807a-e4a94a796a65"
      },
      "outputs": [
        {
          "name": "stdout",
          "output_type": "stream",
          "text": [
            "mean_bce_loss=0.60  mean_reg=0.38\n",
            "Epoch 0, Loss: 0.6033\n",
            "train : Label 0: Accuracy = 0.77, F1-score = 0.00\n",
            "train : Label 1: Accuracy = 0.74, F1-score = 0.00\n",
            "test : Label 0: Accuracy = 0.73, F1-score = 0.00\n",
            "test : Label 1: Accuracy = 0.76, F1-score = 0.00\n",
            "true tensor([[0., 1.],\n",
            "        [0., 0.],\n",
            "        [0., 0.],\n",
            "        [0., 0.],\n",
            "        [0., 0.]], dtype=torch.float64) pred tensor([[0.1837, 0.2262],\n",
            "        [0.1821, 0.2227],\n",
            "        [0.1821, 0.2227],\n",
            "        [0.1821, 0.2227],\n",
            "        [0.1821, 0.2227]], dtype=torch.float64, grad_fn=<CatBackward0>)\n",
            "mean_bce_loss=0.54  mean_reg=0.38\n",
            "Epoch 10, Loss: 0.5353\n",
            "train : Label 0: Accuracy = 0.77, F1-score = 0.00\n",
            "train : Label 1: Accuracy = 0.74, F1-score = 0.00\n",
            "test : Label 0: Accuracy = 0.73, F1-score = 0.00\n",
            "test : Label 1: Accuracy = 0.76, F1-score = 0.00\n",
            "true tensor([[0., 1.],\n",
            "        [0., 0.],\n",
            "        [0., 0.],\n",
            "        [0., 0.],\n",
            "        [0., 0.]], dtype=torch.float64) pred tensor([[0.2120, 0.2348],\n",
            "        [0.1839, 0.1894],\n",
            "        [0.1839, 0.1894],\n",
            "        [0.1839, 0.1894],\n",
            "        [0.1839, 0.1894]], dtype=torch.float64, grad_fn=<CatBackward0>)\n",
            "mean_bce_loss=0.50  mean_reg=0.38\n",
            "Epoch 20, Loss: 0.4980\n",
            "train : Label 0: Accuracy = 0.77, F1-score = 0.00\n",
            "train : Label 1: Accuracy = 0.79, F1-score = 0.41\n",
            "test : Label 0: Accuracy = 0.73, F1-score = 0.00\n",
            "test : Label 1: Accuracy = 0.79, F1-score = 0.40\n",
            "true tensor([[0., 1.],\n",
            "        [0., 0.],\n",
            "        [0., 0.],\n",
            "        [0., 0.],\n",
            "        [0., 0.]], dtype=torch.float64) pred tensor([[0.2804, 0.3476],\n",
            "        [0.1792, 0.1478],\n",
            "        [0.1792, 0.1478],\n",
            "        [0.1792, 0.1478],\n",
            "        [0.1792, 0.1478]], dtype=torch.float64, grad_fn=<CatBackward0>)\n",
            "mean_bce_loss=0.44  mean_reg=0.38\n",
            "Epoch 30, Loss: 0.4426\n",
            "train : Label 0: Accuracy = 0.79, F1-score = 0.33\n",
            "train : Label 1: Accuracy = 0.79, F1-score = 0.60\n",
            "test : Label 0: Accuracy = 0.73, F1-score = 0.25\n",
            "test : Label 1: Accuracy = 0.78, F1-score = 0.59\n",
            "true tensor([[0., 1.],\n",
            "        [0., 0.],\n",
            "        [0., 0.],\n",
            "        [0., 0.],\n",
            "        [0., 0.]], dtype=torch.float64) pred tensor([[0.4633, 0.6221],\n",
            "        [0.1008, 0.0434],\n",
            "        [0.1008, 0.0434],\n",
            "        [0.1008, 0.0434],\n",
            "        [0.1008, 0.0434]], dtype=torch.float64, grad_fn=<CatBackward0>)\n",
            "mean_bce_loss=0.47  mean_reg=0.38\n",
            "Epoch 40, Loss: 0.4709\n",
            "train : Label 0: Accuracy = 0.77, F1-score = 0.00\n",
            "train : Label 1: Accuracy = 0.77, F1-score = 0.25\n",
            "test : Label 0: Accuracy = 0.73, F1-score = 0.00\n",
            "test : Label 1: Accuracy = 0.78, F1-score = 0.27\n",
            "true tensor([[0., 1.],\n",
            "        [0., 0.],\n",
            "        [0., 0.],\n",
            "        [0., 0.],\n",
            "        [0., 0.]], dtype=torch.float64) pred tensor([[0.3034, 0.3741],\n",
            "        [0.1342, 0.1637],\n",
            "        [0.1342, 0.1637],\n",
            "        [0.1342, 0.1637],\n",
            "        [0.1342, 0.1637]], dtype=torch.float64, grad_fn=<CatBackward0>)\n"
          ]
        },
        {
          "ename": "KeyboardInterrupt",
          "evalue": "",
          "output_type": "error",
          "traceback": [
            "\u001b[0;31m---------------------------------------------------------------------------\u001b[0m",
            "\u001b[0;31mKeyboardInterrupt\u001b[0m                         Traceback (most recent call last)",
            "\u001b[0;32m<ipython-input-38-df522dd754e1>\u001b[0m in \u001b[0;36m<cell line: 5>\u001b[0;34m()\u001b[0m\n\u001b[1;32m      8\u001b[0m     \u001b[0;32mfor\u001b[0m \u001b[0mX_batch\u001b[0m\u001b[0;34m,\u001b[0m \u001b[0my_batch\u001b[0m \u001b[0;32min\u001b[0m \u001b[0mdata_loader\u001b[0m\u001b[0;34m:\u001b[0m\u001b[0;34m\u001b[0m\u001b[0;34m\u001b[0m\u001b[0m\n\u001b[1;32m      9\u001b[0m         \u001b[0moptimizer\u001b[0m\u001b[0;34m.\u001b[0m\u001b[0mzero_grad\u001b[0m\u001b[0;34m(\u001b[0m\u001b[0;34m)\u001b[0m\u001b[0;34m\u001b[0m\u001b[0;34m\u001b[0m\u001b[0m\n\u001b[0;32m---> 10\u001b[0;31m         \u001b[0mloss\u001b[0m \u001b[0;34m=\u001b[0m \u001b[0mmodel\u001b[0m\u001b[0;34m.\u001b[0m\u001b[0mtrain_loss\u001b[0m\u001b[0;34m(\u001b[0m\u001b[0mX_batch\u001b[0m\u001b[0;34m,\u001b[0m \u001b[0my_batch\u001b[0m\u001b[0;34m,\u001b[0m \u001b[0mdata_size\u001b[0m\u001b[0;34m,\u001b[0m \u001b[0mverbose\u001b[0m\u001b[0;34m=\u001b[0m\u001b[0mverbose\u001b[0m\u001b[0;34m)\u001b[0m\u001b[0;34m\u001b[0m\u001b[0;34m\u001b[0m\u001b[0m\n\u001b[0m\u001b[1;32m     11\u001b[0m         \u001b[0mloss\u001b[0m\u001b[0;34m.\u001b[0m\u001b[0mbackward\u001b[0m\u001b[0;34m(\u001b[0m\u001b[0;34m)\u001b[0m\u001b[0;34m\u001b[0m\u001b[0;34m\u001b[0m\u001b[0m\n\u001b[1;32m     12\u001b[0m         \u001b[0;31m# for i in model.params:\u001b[0m\u001b[0;34m\u001b[0m\u001b[0;34m\u001b[0m\u001b[0m\n",
            "\u001b[0;32m<ipython-input-7-fab742948768>\u001b[0m in \u001b[0;36mtrain_loss\u001b[0;34m(self, X_batch, y_batch, data_size, verbose)\u001b[0m\n\u001b[1;32m     35\u001b[0m         \u001b[0mdata_size\u001b[0m \u001b[0;34m=\u001b[0m \u001b[0mdata_size\u001b[0m \u001b[0;32mor\u001b[0m \u001b[0mX_batch\u001b[0m\u001b[0;34m.\u001b[0m\u001b[0mshape\u001b[0m\u001b[0;34m[\u001b[0m\u001b[0;36m0\u001b[0m\u001b[0;34m]\u001b[0m\u001b[0;34m\u001b[0m\u001b[0;34m\u001b[0m\u001b[0m\n\u001b[1;32m     36\u001b[0m \u001b[0;34m\u001b[0m\u001b[0m\n\u001b[0;32m---> 37\u001b[0;31m         \u001b[0mpreds\u001b[0m \u001b[0;34m=\u001b[0m \u001b[0mself\u001b[0m\u001b[0;34m.\u001b[0m\u001b[0mpredict\u001b[0m\u001b[0;34m(\u001b[0m\u001b[0mX_batch\u001b[0m\u001b[0;34m)\u001b[0m\u001b[0;34m\u001b[0m\u001b[0;34m\u001b[0m\u001b[0m\n\u001b[0m\u001b[1;32m     38\u001b[0m         \u001b[0;32massert\u001b[0m \u001b[0mpreds\u001b[0m\u001b[0;34m.\u001b[0m\u001b[0mshape\u001b[0m \u001b[0;34m==\u001b[0m \u001b[0my_batch\u001b[0m\u001b[0;34m.\u001b[0m\u001b[0mshape\u001b[0m\u001b[0;34m,\u001b[0m \u001b[0;34mf\"preds.shape={preds.shape} != y_batch.shape={y_batch.shape}\"\u001b[0m\u001b[0;34m\u001b[0m\u001b[0;34m\u001b[0m\u001b[0m\n\u001b[1;32m     39\u001b[0m         \u001b[0mloss\u001b[0m \u001b[0;34m=\u001b[0m \u001b[0mnn\u001b[0m\u001b[0;34m.\u001b[0m\u001b[0mBCELoss\u001b[0m\u001b[0;34m(\u001b[0m\u001b[0mreduction\u001b[0m\u001b[0;34m=\u001b[0m\u001b[0;34m'mean'\u001b[0m\u001b[0;34m)\u001b[0m\u001b[0;34m\u001b[0m\u001b[0;34m\u001b[0m\u001b[0m\n",
            "\u001b[0;32m<ipython-input-7-fab742948768>\u001b[0m in \u001b[0;36mpredict\u001b[0;34m(self, X)\u001b[0m\n\u001b[1;32m     68\u001b[0m             \u001b[0mPredicted\u001b[0m \u001b[0mprobabilities\u001b[0m \u001b[0;32mfor\u001b[0m \u001b[0meach\u001b[0m \u001b[0moutput\u001b[0m\u001b[0;34m.\u001b[0m \u001b[0mShape\u001b[0m \u001b[0;34m(\u001b[0m\u001b[0mn_samples\u001b[0m\u001b[0;34m,\u001b[0m \u001b[0mK\u001b[0m\u001b[0;34m)\u001b[0m\u001b[0;34m.\u001b[0m\u001b[0;34m\u001b[0m\u001b[0;34m\u001b[0m\u001b[0m\n\u001b[1;32m     69\u001b[0m         \"\"\"\n\u001b[0;32m---> 70\u001b[0;31m         \u001b[0mX_processed\u001b[0m \u001b[0;34m=\u001b[0m \u001b[0mself\u001b[0m\u001b[0;34m.\u001b[0m\u001b[0mprocess\u001b[0m\u001b[0;34m(\u001b[0m\u001b[0mX\u001b[0m\u001b[0;34m)\u001b[0m\u001b[0;34m\u001b[0m\u001b[0;34m\u001b[0m\u001b[0m\n\u001b[0m\u001b[1;32m     71\u001b[0m \u001b[0;34m\u001b[0m\u001b[0m\n\u001b[1;32m     72\u001b[0m         \u001b[0mpreds\u001b[0m \u001b[0;34m=\u001b[0m \u001b[0;34m[\u001b[0m\u001b[0;34m]\u001b[0m\u001b[0;34m\u001b[0m\u001b[0;34m\u001b[0m\u001b[0m\n",
            "\u001b[0;32m<ipython-input-5-6d645ea7982f>\u001b[0m in \u001b[0;36mprocess\u001b[0;34m(self, X_batch)\u001b[0m\n\u001b[1;32m     26\u001b[0m     \u001b[0;32mdef\u001b[0m \u001b[0mprocess\u001b[0m\u001b[0;34m(\u001b[0m\u001b[0mself\u001b[0m\u001b[0;34m,\u001b[0m \u001b[0mX_batch\u001b[0m\u001b[0;34m)\u001b[0m\u001b[0;34m:\u001b[0m\u001b[0;34m\u001b[0m\u001b[0;34m\u001b[0m\u001b[0m\n\u001b[1;32m     27\u001b[0m         \u001b[0;32mif\u001b[0m \u001b[0mself\u001b[0m\u001b[0;34m.\u001b[0m\u001b[0mbackbone\u001b[0m \u001b[0;32mis\u001b[0m \u001b[0;32mnot\u001b[0m \u001b[0;32mNone\u001b[0m\u001b[0;34m:\u001b[0m\u001b[0;34m\u001b[0m\u001b[0;34m\u001b[0m\u001b[0m\n\u001b[0;32m---> 28\u001b[0;31m             \u001b[0mX_processed\u001b[0m \u001b[0;34m=\u001b[0m \u001b[0mself\u001b[0m\u001b[0;34m.\u001b[0m\u001b[0mbackbone\u001b[0m\u001b[0;34m(\u001b[0m\u001b[0mX_batch\u001b[0m\u001b[0;34m)\u001b[0m\u001b[0;34m\u001b[0m\u001b[0;34m\u001b[0m\u001b[0m\n\u001b[0m\u001b[1;32m     29\u001b[0m         \u001b[0;32melse\u001b[0m\u001b[0;34m:\u001b[0m\u001b[0;34m\u001b[0m\u001b[0;34m\u001b[0m\u001b[0m\n\u001b[1;32m     30\u001b[0m             \u001b[0mX_processed\u001b[0m \u001b[0;34m=\u001b[0m \u001b[0mX_batch\u001b[0m\u001b[0;34m\u001b[0m\u001b[0;34m\u001b[0m\u001b[0m\n",
            "\u001b[0;32m/usr/local/lib/python3.10/dist-packages/torch/nn/modules/module.py\u001b[0m in \u001b[0;36m_wrapped_call_impl\u001b[0;34m(self, *args, **kwargs)\u001b[0m\n\u001b[1;32m   1734\u001b[0m             \u001b[0;32mreturn\u001b[0m \u001b[0mself\u001b[0m\u001b[0;34m.\u001b[0m\u001b[0m_compiled_call_impl\u001b[0m\u001b[0;34m(\u001b[0m\u001b[0;34m*\u001b[0m\u001b[0margs\u001b[0m\u001b[0;34m,\u001b[0m \u001b[0;34m**\u001b[0m\u001b[0mkwargs\u001b[0m\u001b[0;34m)\u001b[0m  \u001b[0;31m# type: ignore[misc]\u001b[0m\u001b[0;34m\u001b[0m\u001b[0;34m\u001b[0m\u001b[0m\n\u001b[1;32m   1735\u001b[0m         \u001b[0;32melse\u001b[0m\u001b[0;34m:\u001b[0m\u001b[0;34m\u001b[0m\u001b[0;34m\u001b[0m\u001b[0m\n\u001b[0;32m-> 1736\u001b[0;31m             \u001b[0;32mreturn\u001b[0m \u001b[0mself\u001b[0m\u001b[0;34m.\u001b[0m\u001b[0m_call_impl\u001b[0m\u001b[0;34m(\u001b[0m\u001b[0;34m*\u001b[0m\u001b[0margs\u001b[0m\u001b[0;34m,\u001b[0m \u001b[0;34m**\u001b[0m\u001b[0mkwargs\u001b[0m\u001b[0;34m)\u001b[0m\u001b[0;34m\u001b[0m\u001b[0;34m\u001b[0m\u001b[0m\n\u001b[0m\u001b[1;32m   1737\u001b[0m \u001b[0;34m\u001b[0m\u001b[0m\n\u001b[1;32m   1738\u001b[0m     \u001b[0;31m# torchrec tests the code consistency with the following code\u001b[0m\u001b[0;34m\u001b[0m\u001b[0;34m\u001b[0m\u001b[0m\n",
            "\u001b[0;32m/usr/local/lib/python3.10/dist-packages/torch/nn/modules/module.py\u001b[0m in \u001b[0;36m_call_impl\u001b[0;34m(self, *args, **kwargs)\u001b[0m\n\u001b[1;32m   1745\u001b[0m                 \u001b[0;32mor\u001b[0m \u001b[0m_global_backward_pre_hooks\u001b[0m \u001b[0;32mor\u001b[0m \u001b[0m_global_backward_hooks\u001b[0m\u001b[0;34m\u001b[0m\u001b[0;34m\u001b[0m\u001b[0m\n\u001b[1;32m   1746\u001b[0m                 or _global_forward_hooks or _global_forward_pre_hooks):\n\u001b[0;32m-> 1747\u001b[0;31m             \u001b[0;32mreturn\u001b[0m \u001b[0mforward_call\u001b[0m\u001b[0;34m(\u001b[0m\u001b[0;34m*\u001b[0m\u001b[0margs\u001b[0m\u001b[0;34m,\u001b[0m \u001b[0;34m**\u001b[0m\u001b[0mkwargs\u001b[0m\u001b[0;34m)\u001b[0m\u001b[0;34m\u001b[0m\u001b[0;34m\u001b[0m\u001b[0m\n\u001b[0m\u001b[1;32m   1748\u001b[0m \u001b[0;34m\u001b[0m\u001b[0m\n\u001b[1;32m   1749\u001b[0m         \u001b[0mresult\u001b[0m \u001b[0;34m=\u001b[0m \u001b[0;32mNone\u001b[0m\u001b[0;34m\u001b[0m\u001b[0;34m\u001b[0m\u001b[0m\n",
            "\u001b[0;32m<ipython-input-19-bc263ef7c10e>\u001b[0m in \u001b[0;36mforward\u001b[0;34m(self, x)\u001b[0m\n\u001b[1;32m     13\u001b[0m \u001b[0;34m\u001b[0m\u001b[0m\n\u001b[1;32m     14\u001b[0m     \u001b[0;32mdef\u001b[0m \u001b[0mforward\u001b[0m\u001b[0;34m(\u001b[0m\u001b[0mself\u001b[0m\u001b[0;34m,\u001b[0m \u001b[0mx\u001b[0m\u001b[0;34m)\u001b[0m\u001b[0;34m:\u001b[0m\u001b[0;34m\u001b[0m\u001b[0;34m\u001b[0m\u001b[0m\n\u001b[0;32m---> 15\u001b[0;31m         \u001b[0mx\u001b[0m \u001b[0;34m=\u001b[0m \u001b[0mself\u001b[0m\u001b[0;34m.\u001b[0m\u001b[0mavgpool1\u001b[0m\u001b[0;34m(\u001b[0m\u001b[0mnn\u001b[0m\u001b[0;34m.\u001b[0m\u001b[0mfunctional\u001b[0m\u001b[0;34m.\u001b[0m\u001b[0mrelu\u001b[0m\u001b[0;34m(\u001b[0m\u001b[0mself\u001b[0m\u001b[0;34m.\u001b[0m\u001b[0mconv1\u001b[0m\u001b[0;34m(\u001b[0m\u001b[0mx\u001b[0m\u001b[0;34m)\u001b[0m\u001b[0;34m)\u001b[0m\u001b[0;34m)\u001b[0m\u001b[0;34m\u001b[0m\u001b[0;34m\u001b[0m\u001b[0m\n\u001b[0m\u001b[1;32m     16\u001b[0m         \u001b[0mx\u001b[0m \u001b[0;34m=\u001b[0m \u001b[0mself\u001b[0m\u001b[0;34m.\u001b[0m\u001b[0mavgpool2\u001b[0m\u001b[0;34m(\u001b[0m\u001b[0mnn\u001b[0m\u001b[0;34m.\u001b[0m\u001b[0mfunctional\u001b[0m\u001b[0;34m.\u001b[0m\u001b[0mrelu\u001b[0m\u001b[0;34m(\u001b[0m\u001b[0mself\u001b[0m\u001b[0;34m.\u001b[0m\u001b[0mconv2\u001b[0m\u001b[0;34m(\u001b[0m\u001b[0mx\u001b[0m\u001b[0;34m)\u001b[0m\u001b[0;34m)\u001b[0m\u001b[0;34m)\u001b[0m\u001b[0;34m\u001b[0m\u001b[0;34m\u001b[0m\u001b[0m\n\u001b[1;32m     17\u001b[0m         \u001b[0mx\u001b[0m \u001b[0;34m=\u001b[0m \u001b[0mself\u001b[0m\u001b[0;34m.\u001b[0m\u001b[0mavgpool3\u001b[0m\u001b[0;34m(\u001b[0m\u001b[0mnn\u001b[0m\u001b[0;34m.\u001b[0m\u001b[0mfunctional\u001b[0m\u001b[0;34m.\u001b[0m\u001b[0mrelu\u001b[0m\u001b[0;34m(\u001b[0m\u001b[0mself\u001b[0m\u001b[0;34m.\u001b[0m\u001b[0mconv3\u001b[0m\u001b[0;34m(\u001b[0m\u001b[0mx\u001b[0m\u001b[0;34m)\u001b[0m\u001b[0;34m)\u001b[0m\u001b[0;34m)\u001b[0m\u001b[0;34m\u001b[0m\u001b[0;34m\u001b[0m\u001b[0m\n",
            "\u001b[0;32m/usr/local/lib/python3.10/dist-packages/torch/nn/functional.py\u001b[0m in \u001b[0;36mrelu\u001b[0;34m(input, inplace)\u001b[0m\n\u001b[1;32m   1702\u001b[0m         \u001b[0mresult\u001b[0m \u001b[0;34m=\u001b[0m \u001b[0mtorch\u001b[0m\u001b[0;34m.\u001b[0m\u001b[0mrelu_\u001b[0m\u001b[0;34m(\u001b[0m\u001b[0minput\u001b[0m\u001b[0;34m)\u001b[0m\u001b[0;34m\u001b[0m\u001b[0;34m\u001b[0m\u001b[0m\n\u001b[1;32m   1703\u001b[0m     \u001b[0;32melse\u001b[0m\u001b[0;34m:\u001b[0m\u001b[0;34m\u001b[0m\u001b[0;34m\u001b[0m\u001b[0m\n\u001b[0;32m-> 1704\u001b[0;31m         \u001b[0mresult\u001b[0m \u001b[0;34m=\u001b[0m \u001b[0mtorch\u001b[0m\u001b[0;34m.\u001b[0m\u001b[0mrelu\u001b[0m\u001b[0;34m(\u001b[0m\u001b[0minput\u001b[0m\u001b[0;34m)\u001b[0m\u001b[0;34m\u001b[0m\u001b[0;34m\u001b[0m\u001b[0m\n\u001b[0m\u001b[1;32m   1705\u001b[0m     \u001b[0;32mreturn\u001b[0m \u001b[0mresult\u001b[0m\u001b[0;34m\u001b[0m\u001b[0;34m\u001b[0m\u001b[0m\n\u001b[1;32m   1706\u001b[0m \u001b[0;34m\u001b[0m\u001b[0m\n",
            "\u001b[0;31mKeyboardInterrupt\u001b[0m: "
          ]
        }
      ],
      "source": [
        "# Step 4: Train the model\n",
        "n_epochs = 200  # Set to a small value for this example\n",
        "\n",
        "data_size = X.shape[0]\n",
        "for epoch in range(n_epochs):\n",
        "    verbose = (epoch%10==0)\n",
        "\n",
        "    for X_batch, y_batch in data_loader:\n",
        "        optimizer.zero_grad()\n",
        "        loss = model.train_loss(X_batch, y_batch, data_size, verbose=verbose)\n",
        "        loss.backward()\n",
        "        # for i in model.params:\n",
        "        #   print(i.grad)\n",
        "        optimizer.step()\n",
        "\n",
        "    if verbose:\n",
        "        print(f\"Epoch {epoch}, Loss: {loss:.4f}\")\n",
        "        evaluate(model, X, y, prefix=\"train\")\n",
        "        f1_test = evaluate(model, X_test, y_test, prefix=\"test\")\n",
        "        f1_test = sum(f1_test) / len(f1_test)\n",
        "        if f1_test > f1_thres:\n",
        "          f1_thres = f1_test\n",
        "          model_best = copy.deepcopy(model)\n",
        "        n_test_data_pred = 5\n",
        "        preds = model.predict(X_test[0:n_test_data_pred])\n",
        "        print(\"true\", y_test[0:n_test_data_pred], \"pred\", preds)\n"
      ]
    },
    {
      "cell_type": "code",
      "execution_count": null,
      "metadata": {
        "id": "H5YIb52GyO_B"
      },
      "outputs": [],
      "source": []
    },
    {
      "cell_type": "code",
      "execution_count": null,
      "metadata": {
        "id": "Njho0ZhVyOz4"
      },
      "outputs": [],
      "source": []
    },
    {
      "cell_type": "markdown",
      "metadata": {
        "id": "AnEOFDkWyPof"
      },
      "source": [
        "Without wd"
      ]
    },
    {
      "cell_type": "code",
      "execution_count": null,
      "metadata": {
        "colab": {
          "base_uri": "https://localhost:8080/"
        },
        "id": "URHEXJ3NRFeh",
        "outputId": "1fbfc95f-1b07-49bd-c33d-1a89035e376c"
      },
      "outputs": [
        {
          "name": "stdout",
          "output_type": "stream",
          "text": [
            "mean_bce_loss=0.70  mean_reg=0.38\n",
            "Epoch 0, Loss: 0.6991\n",
            "train : Label 0: Accuracy = 0.75, F1-score = 0.00\n",
            "train : Label 1: Accuracy = 0.73, F1-score = 0.00\n",
            "test : Label 0: Accuracy = 0.75, F1-score = 0.00\n",
            "test : Label 1: Accuracy = 0.73, F1-score = 0.00\n",
            "true tensor([[0., 1.],\n",
            "        [0., 0.],\n",
            "        [1., 0.],\n",
            "        [0., 0.],\n",
            "        [0., 1.]], dtype=torch.float64) pred tensor([[0.1916, 0.2827],\n",
            "        [0.1768, 0.2707],\n",
            "        [0.1858, 0.2783],\n",
            "        [0.1768, 0.2707],\n",
            "        [0.1776, 0.2711]], dtype=torch.float64, grad_fn=<CatBackward0>)\n",
            "mean_bce_loss=0.56  mean_reg=0.38\n",
            "Epoch 10, Loss: 0.5632\n",
            "train : Label 0: Accuracy = 0.75, F1-score = 0.00\n",
            "train : Label 1: Accuracy = 0.73, F1-score = 0.00\n",
            "test : Label 0: Accuracy = 0.75, F1-score = 0.00\n",
            "test : Label 1: Accuracy = 0.73, F1-score = 0.00\n",
            "true tensor([[0., 1.],\n",
            "        [0., 0.],\n",
            "        [1., 0.],\n",
            "        [0., 0.],\n",
            "        [0., 1.]], dtype=torch.float64) pred tensor([[0.3183, 0.3413],\n",
            "        [0.2666, 0.2708],\n",
            "        [0.3018, 0.3193],\n",
            "        [0.2666, 0.2708],\n",
            "        [0.2699, 0.2751]], dtype=torch.float64, grad_fn=<CatBackward0>)\n",
            "mean_bce_loss=0.52  mean_reg=0.38\n",
            "Epoch 20, Loss: 0.5201\n",
            "train : Label 0: Accuracy = 0.75, F1-score = 0.00\n",
            "train : Label 1: Accuracy = 0.73, F1-score = 0.00\n",
            "test : Label 0: Accuracy = 0.75, F1-score = 0.00\n",
            "test : Label 1: Accuracy = 0.73, F1-score = 0.00\n",
            "true tensor([[0., 1.],\n",
            "        [0., 0.],\n",
            "        [1., 0.],\n",
            "        [0., 0.],\n",
            "        [0., 1.]], dtype=torch.float64) pred tensor([[0.4049, 0.4499],\n",
            "        [0.1599, 0.1219],\n",
            "        [0.3271, 0.3574],\n",
            "        [0.1599, 0.1219],\n",
            "        [0.1738, 0.1386]], dtype=torch.float64, grad_fn=<CatBackward0>)\n",
            "mean_bce_loss=0.50  mean_reg=0.38\n",
            "Epoch 30, Loss: 0.5017\n",
            "train : Label 0: Accuracy = 0.75, F1-score = 0.00\n",
            "train : Label 1: Accuracy = 0.77, F1-score = 0.31\n",
            "test : Label 0: Accuracy = 0.75, F1-score = 0.00\n",
            "test : Label 1: Accuracy = 0.75, F1-score = 0.25\n",
            "true tensor([[0., 1.],\n",
            "        [0., 0.],\n",
            "        [1., 0.],\n",
            "        [0., 0.],\n",
            "        [0., 1.]], dtype=torch.float64) pred tensor([[0.4757, 0.5856],\n",
            "        [0.1020, 0.0679],\n",
            "        [0.3750, 0.4582],\n",
            "        [0.1020, 0.0679],\n",
            "        [0.1184, 0.0824]], dtype=torch.float64, grad_fn=<CatBackward0>)\n",
            "mean_bce_loss=0.47  mean_reg=0.38\n",
            "Epoch 40, Loss: 0.4709\n",
            "train : Label 0: Accuracy = 0.77, F1-score = 0.32\n",
            "train : Label 1: Accuracy = 0.76, F1-score = 0.50\n",
            "test : Label 0: Accuracy = 0.76, F1-score = 0.29\n",
            "test : Label 1: Accuracy = 0.77, F1-score = 0.51\n",
            "true tensor([[0., 1.],\n",
            "        [0., 0.],\n",
            "        [1., 0.],\n",
            "        [0., 0.],\n",
            "        [0., 1.]], dtype=torch.float64) pred tensor([[0.4521, 0.6935],\n",
            "        [0.1976, 0.0940],\n",
            "        [0.4997, 0.6204],\n",
            "        [0.1976, 0.0940],\n",
            "        [0.2430, 0.1233]], dtype=torch.float64, grad_fn=<CatBackward0>)\n",
            "mean_bce_loss=0.42  mean_reg=0.38\n",
            "Epoch 50, Loss: 0.4200\n",
            "train : Label 0: Accuracy = 0.77, F1-score = 0.39\n",
            "train : Label 1: Accuracy = 0.78, F1-score = 0.58\n",
            "test : Label 0: Accuracy = 0.75, F1-score = 0.29\n",
            "test : Label 1: Accuracy = 0.76, F1-score = 0.51\n",
            "true tensor([[0., 1.],\n",
            "        [0., 0.],\n",
            "        [1., 0.],\n",
            "        [0., 0.],\n",
            "        [0., 1.]], dtype=torch.float64) pred tensor([[0.1911, 0.7084],\n",
            "        [0.0847, 0.0804],\n",
            "        [0.3279, 0.6398],\n",
            "        [0.0847, 0.0804],\n",
            "        [0.1757, 0.1303]], dtype=torch.float64, grad_fn=<CatBackward0>)\n",
            "mean_bce_loss=0.59  mean_reg=0.38\n",
            "Epoch 60, Loss: 0.5877\n",
            "train : Label 0: Accuracy = 0.79, F1-score = 0.57\n",
            "train : Label 1: Accuracy = 0.79, F1-score = 0.60\n",
            "test : Label 0: Accuracy = 0.75, F1-score = 0.45\n",
            "test : Label 1: Accuracy = 0.75, F1-score = 0.51\n",
            "true tensor([[0., 1.],\n",
            "        [0., 0.],\n",
            "        [1., 0.],\n",
            "        [0., 0.],\n",
            "        [0., 1.]], dtype=torch.float64) pred tensor([[0.1931, 0.6431],\n",
            "        [0.3920, 0.3249],\n",
            "        [0.3092, 0.6348],\n",
            "        [0.3920, 0.3249],\n",
            "        [0.4595, 0.3457]], dtype=torch.float64, grad_fn=<CatBackward0>)\n",
            "mean_bce_loss=0.46  mean_reg=0.38\n",
            "Epoch 70, Loss: 0.4613\n",
            "train : Label 0: Accuracy = 0.77, F1-score = 0.35\n",
            "train : Label 1: Accuracy = 0.78, F1-score = 0.55\n",
            "test : Label 0: Accuracy = 0.76, F1-score = 0.28\n",
            "test : Label 1: Accuracy = 0.77, F1-score = 0.51\n",
            "true tensor([[0., 1.],\n",
            "        [0., 0.],\n",
            "        [1., 0.],\n",
            "        [0., 0.],\n",
            "        [0., 1.]], dtype=torch.float64) pred tensor([[0.3172, 0.7438],\n",
            "        [0.1868, 0.1365],\n",
            "        [0.3696, 0.6717],\n",
            "        [0.1868, 0.1365],\n",
            "        [0.2386, 0.1621]], dtype=torch.float64, grad_fn=<CatBackward0>)\n",
            "mean_bce_loss=0.39  mean_reg=0.38\n",
            "Epoch 80, Loss: 0.3896\n",
            "train : Label 0: Accuracy = 0.79, F1-score = 0.54\n",
            "train : Label 1: Accuracy = 0.79, F1-score = 0.46\n",
            "test : Label 0: Accuracy = 0.75, F1-score = 0.45\n",
            "test : Label 1: Accuracy = 0.76, F1-score = 0.37\n",
            "true tensor([[0., 1.],\n",
            "        [0., 0.],\n",
            "        [1., 0.],\n",
            "        [0., 0.],\n",
            "        [0., 1.]], dtype=torch.float64) pred tensor([[0.4928, 0.5029],\n",
            "        [0.0313, 0.0249],\n",
            "        [0.5330, 0.4553],\n",
            "        [0.0313, 0.0249],\n",
            "        [0.0615, 0.0357]], dtype=torch.float64, grad_fn=<CatBackward0>)\n",
            "mean_bce_loss=0.45  mean_reg=0.38\n",
            "Epoch 90, Loss: 0.4515\n",
            "train : Label 0: Accuracy = 0.78, F1-score = 0.45\n",
            "train : Label 1: Accuracy = 0.79, F1-score = 0.47\n",
            "test : Label 0: Accuracy = 0.75, F1-score = 0.38\n",
            "test : Label 1: Accuracy = 0.77, F1-score = 0.38\n",
            "true tensor([[0., 1.],\n",
            "        [0., 0.],\n",
            "        [1., 0.],\n",
            "        [0., 0.],\n",
            "        [0., 1.]], dtype=torch.float64) pred tensor([[0.6852, 0.4853],\n",
            "        [0.0112, 0.0263],\n",
            "        [0.5055, 0.5361],\n",
            "        [0.0112, 0.0263],\n",
            "        [0.0172, 0.0318]], dtype=torch.float64, grad_fn=<CatBackward0>)\n"
          ]
        }
      ],
      "source": [
        "# Step 4: Train the model\n",
        "n_epochs = 100  # Set to a small value for this example\n",
        "\n",
        "data_size = X.shape[0]\n",
        "for epoch in range(n_epochs):\n",
        "    verbose = (epoch%10==0)\n",
        "\n",
        "    for X_batch, y_batch in data_loader:\n",
        "        optimizer.zero_grad()\n",
        "        loss = model.train_loss(X_batch, y_batch, data_size, verbose=verbose)\n",
        "        loss.backward()\n",
        "        # for i in model.params:\n",
        "        #   print(i.grad)\n",
        "        optimizer.step()\n",
        "\n",
        "    if verbose:\n",
        "        print(f\"Epoch {epoch}, Loss: {loss:.4f}\")\n",
        "        evaluate(model, X, y, prefix=\"train\")\n",
        "        f1_test = evaluate(model, X_test, y_test, prefix=\"test\")\n",
        "        f1_test = sum(f1_test) / len(f1_test)\n",
        "        if f1_test > f1_thres:\n",
        "          f1_thres = f1_test\n",
        "          model_best = copy.deepcopy(model)\n",
        "        n_test_data_pred = 5\n",
        "        preds = model.predict(X_test[0:n_test_data_pred])\n",
        "        print(\"true\", y_test[0:n_test_data_pred], \"pred\", preds)\n"
      ]
    },
    {
      "cell_type": "code",
      "execution_count": null,
      "metadata": {
        "colab": {
          "base_uri": "https://localhost:8080/"
        },
        "id": "Y_YfYU95RFgq",
        "outputId": "311e3e46-cd3b-47da-c934-4f31bb660cbc"
      },
      "outputs": [
        {
          "name": "stdout",
          "output_type": "stream",
          "text": [
            "train : Label 0: Accuracy = 0.86, F1-score = 0.66\n",
            "train : Label 1: Accuracy = 0.88, F1-score = 0.76\n",
            "test : Label 0: Accuracy = 0.75, F1-score = 0.43\n",
            "test : Label 1: Accuracy = 0.77, F1-score = 0.57\n"
          ]
        },
        {
          "data": {
            "text/plain": [
              "[0.4291845493562232, 0.5693430656934306]"
            ]
          },
          "execution_count": 70,
          "metadata": {},
          "output_type": "execute_result"
        }
      ],
      "source": [
        "evaluate(model, X, y, prefix=\"train\")\n",
        "evaluate(model, X_test, y_test, prefix=\"test\")"
      ]
    },
    {
      "cell_type": "code",
      "execution_count": null,
      "metadata": {
        "colab": {
          "base_uri": "https://localhost:8080/"
        },
        "id": "s4elb33xHCTv",
        "outputId": "2a343a28-ce99-4211-a0cb-55964bf7e407"
      },
      "outputs": [
        {
          "data": {
            "text/plain": [
              "(tensor([[0.2228, 0.6997],\n",
              "         [0.0229, 0.0300],\n",
              "         [0.0229, 0.0300],\n",
              "         [0.0229, 0.0300],\n",
              "         [0.0229, 0.0300],\n",
              "         [0.0229, 0.0300],\n",
              "         [0.0229, 0.0300],\n",
              "         [0.0229, 0.0300],\n",
              "         [0.0229, 0.0300],\n",
              "         [0.0229, 0.0300],\n",
              "         [0.1942, 0.5489],\n",
              "         [0.0229, 0.0300],\n",
              "         [0.0229, 0.0300],\n",
              "         [0.2821, 0.5432],\n",
              "         [0.0229, 0.0300],\n",
              "         [0.0229, 0.0300],\n",
              "         [0.0229, 0.0300],\n",
              "         [0.0229, 0.0300],\n",
              "         [0.0229, 0.0300],\n",
              "         [0.1917, 0.6382]], dtype=torch.float64, grad_fn=<CatBackward0>),\n",
              " tensor([[0., 1.],\n",
              "         [0., 0.],\n",
              "         [0., 0.],\n",
              "         [0., 0.],\n",
              "         [0., 0.],\n",
              "         [0., 0.],\n",
              "         [0., 0.],\n",
              "         [0., 0.],\n",
              "         [0., 0.],\n",
              "         [0., 0.],\n",
              "         [0., 1.],\n",
              "         [0., 0.],\n",
              "         [0., 0.],\n",
              "         [1., 0.],\n",
              "         [0., 0.],\n",
              "         [0., 0.],\n",
              "         [0., 0.],\n",
              "         [0., 0.],\n",
              "         [0., 0.],\n",
              "         [0., 1.]], dtype=torch.float64))"
            ]
          },
          "execution_count": 73,
          "metadata": {},
          "output_type": "execute_result"
        }
      ],
      "source": [
        "model.predict(X_test[0:20]), y_test[0:20]"
      ]
    },
    {
      "cell_type": "code",
      "execution_count": null,
      "metadata": {
        "id": "f4v6orplt7rs"
      },
      "outputs": [],
      "source": []
    },
    {
      "cell_type": "markdown",
      "metadata": {
        "id": "PwsRGuL2FQiN"
      },
      "source": [
        "### Pointwise"
      ]
    },
    {
      "cell_type": "code",
      "execution_count": null,
      "metadata": {
        "colab": {
          "base_uri": "https://localhost:8080/"
        },
        "id": "92023qncFTEd",
        "outputId": "b7993270-1018-4b36-b277-76d6ab2fc2ce"
      },
      "outputs": [
        {
          "name": "stdout",
          "output_type": "stream",
          "text": [
            "[LLModel] beta=0.0 input_dim=64 output_dim=2 intercept=True\n",
            " : Label 0: Accuracy = 0.72, Precision = 0.00, Recall = 0.00, F1-score = 0.00\n",
            " : Label 1: Accuracy = 0.75, Precision = 0.45, Recall = 0.59, F1-score = 0.51\n"
          ]
        },
        {
          "name": "stderr",
          "output_type": "stream",
          "text": [
            "/usr/local/lib/python3.10/dist-packages/sklearn/metrics/_classification.py:1531: UndefinedMetricWarning: Precision is ill-defined and being set to 0.0 due to no predicted samples. Use `zero_division` parameter to control this behavior.\n",
            "  _warn_prf(average, modifier, f\"{metric.capitalize()} is\", len(result))\n"
          ]
        },
        {
          "data": {
            "text/plain": [
              "[0.0, 0.5093632958801498]"
            ]
          },
          "execution_count": 33,
          "metadata": {},
          "output_type": "execute_result"
        }
      ],
      "source": [
        "p = 64\n",
        "backbone = ConvNet(3, 64).to(torch.double)\n",
        "beta = 0.\n",
        "model = LogisticPointwise(beta=beta,\n",
        "                            p=p,\n",
        "                            K=K,\n",
        "                            backbone=backbone,\n",
        "                            intercept=True,\n",
        "                            )\n",
        "model.backbone.train()\n",
        "evaluate(model, X_test, y_test)"
      ]
    },
    {
      "cell_type": "code",
      "execution_count": null,
      "metadata": {
        "id": "_DmfscsOFulW"
      },
      "outputs": [],
      "source": [
        "model_init = copy.deepcopy(model)\n",
        "f1_thres = 0.55\n",
        "model_best = None\n",
        "optimizer = optim.Adam(model.params, lr=0.001)\n"
      ]
    },
    {
      "cell_type": "code",
      "execution_count": null,
      "metadata": {
        "colab": {
          "background_save": true,
          "base_uri": "https://localhost:8080/"
        },
        "id": "4xNW5He_F2Mk",
        "outputId": "fd58ad9d-7a73-478a-be99-db63c0125598"
      },
      "outputs": [
        {
          "name": "stdout",
          "output_type": "stream",
          "text": [
            "mean_bce_loss=0.69  mean_reg=0.40\n",
            "Epoch 0, Loss: 0.6910\n"
          ]
        },
        {
          "name": "stderr",
          "output_type": "stream",
          "text": [
            "/usr/local/lib/python3.10/dist-packages/sklearn/metrics/_classification.py:1531: UndefinedMetricWarning: Precision is ill-defined and being set to 0.0 due to no predicted samples. Use `zero_division` parameter to control this behavior.\n",
            "  _warn_prf(average, modifier, f\"{metric.capitalize()} is\", len(result))\n",
            "/usr/local/lib/python3.10/dist-packages/sklearn/metrics/_classification.py:1531: UndefinedMetricWarning: Precision is ill-defined and being set to 0.0 due to no predicted samples. Use `zero_division` parameter to control this behavior.\n",
            "  _warn_prf(average, modifier, f\"{metric.capitalize()} is\", len(result))\n"
          ]
        },
        {
          "name": "stdout",
          "output_type": "stream",
          "text": [
            "train : Label 0: Accuracy = 0.74, Precision = 0.00, Recall = 0.00, F1-score = 0.00\n",
            "train : Label 1: Accuracy = 0.74, Precision = 0.00, Recall = 0.00, F1-score = 0.00\n"
          ]
        },
        {
          "name": "stderr",
          "output_type": "stream",
          "text": [
            "/usr/local/lib/python3.10/dist-packages/sklearn/metrics/_classification.py:1531: UndefinedMetricWarning: Precision is ill-defined and being set to 0.0 due to no predicted samples. Use `zero_division` parameter to control this behavior.\n",
            "  _warn_prf(average, modifier, f\"{metric.capitalize()} is\", len(result))\n",
            "/usr/local/lib/python3.10/dist-packages/sklearn/metrics/_classification.py:1531: UndefinedMetricWarning: Precision is ill-defined and being set to 0.0 due to no predicted samples. Use `zero_division` parameter to control this behavior.\n",
            "  _warn_prf(average, modifier, f\"{metric.capitalize()} is\", len(result))\n"
          ]
        },
        {
          "name": "stdout",
          "output_type": "stream",
          "text": [
            "test : Label 0: Accuracy = 0.72, Precision = 0.00, Recall = 0.00, F1-score = 0.00\n",
            "test : Label 1: Accuracy = 0.78, Precision = 0.00, Recall = 0.00, F1-score = 0.00\n",
            "true tensor([[0., 0.],\n",
            "        [0., 0.],\n",
            "        [0., 1.],\n",
            "        [0., 0.],\n",
            "        [1., 0.]], dtype=torch.float64) pred tensor([[0.1775, 0.0239],\n",
            "        [0.1775, 0.0239],\n",
            "        [0.1773, 0.0245],\n",
            "        [0.1775, 0.0239],\n",
            "        [0.1814, 0.0257]], dtype=torch.float64, grad_fn=<CatBackward0>)\n",
            "mean_bce_loss=0.57  mean_reg=0.40\n",
            "Epoch 10, Loss: 0.5739\n"
          ]
        },
        {
          "name": "stderr",
          "output_type": "stream",
          "text": [
            "/usr/local/lib/python3.10/dist-packages/sklearn/metrics/_classification.py:1531: UndefinedMetricWarning: Precision is ill-defined and being set to 0.0 due to no predicted samples. Use `zero_division` parameter to control this behavior.\n",
            "  _warn_prf(average, modifier, f\"{metric.capitalize()} is\", len(result))\n",
            "/usr/local/lib/python3.10/dist-packages/sklearn/metrics/_classification.py:1531: UndefinedMetricWarning: Precision is ill-defined and being set to 0.0 due to no predicted samples. Use `zero_division` parameter to control this behavior.\n",
            "  _warn_prf(average, modifier, f\"{metric.capitalize()} is\", len(result))\n"
          ]
        },
        {
          "name": "stdout",
          "output_type": "stream",
          "text": [
            "train : Label 0: Accuracy = 0.74, Precision = 0.00, Recall = 0.00, F1-score = 0.00\n",
            "train : Label 1: Accuracy = 0.74, Precision = 0.00, Recall = 0.00, F1-score = 0.00\n"
          ]
        },
        {
          "name": "stderr",
          "output_type": "stream",
          "text": [
            "/usr/local/lib/python3.10/dist-packages/sklearn/metrics/_classification.py:1531: UndefinedMetricWarning: Precision is ill-defined and being set to 0.0 due to no predicted samples. Use `zero_division` parameter to control this behavior.\n",
            "  _warn_prf(average, modifier, f\"{metric.capitalize()} is\", len(result))\n",
            "/usr/local/lib/python3.10/dist-packages/sklearn/metrics/_classification.py:1531: UndefinedMetricWarning: Precision is ill-defined and being set to 0.0 due to no predicted samples. Use `zero_division` parameter to control this behavior.\n",
            "  _warn_prf(average, modifier, f\"{metric.capitalize()} is\", len(result))\n"
          ]
        },
        {
          "name": "stdout",
          "output_type": "stream",
          "text": [
            "test : Label 0: Accuracy = 0.72, Precision = 0.00, Recall = 0.00, F1-score = 0.00\n",
            "test : Label 1: Accuracy = 0.78, Precision = 0.00, Recall = 0.00, F1-score = 0.00\n",
            "true tensor([[0., 0.],\n",
            "        [0., 0.],\n",
            "        [0., 1.],\n",
            "        [0., 0.],\n",
            "        [1., 0.]], dtype=torch.float64) pred tensor([[0.2730, 0.3091],\n",
            "        [0.2730, 0.3091],\n",
            "        [0.2724, 0.3108],\n",
            "        [0.2730, 0.3091],\n",
            "        [0.2760, 0.3147]], dtype=torch.float64, grad_fn=<CatBackward0>)\n",
            "mean_bce_loss=0.56  mean_reg=0.40\n",
            "Epoch 20, Loss: 0.5625\n"
          ]
        },
        {
          "name": "stderr",
          "output_type": "stream",
          "text": [
            "/usr/local/lib/python3.10/dist-packages/sklearn/metrics/_classification.py:1531: UndefinedMetricWarning: Precision is ill-defined and being set to 0.0 due to no predicted samples. Use `zero_division` parameter to control this behavior.\n",
            "  _warn_prf(average, modifier, f\"{metric.capitalize()} is\", len(result))\n",
            "/usr/local/lib/python3.10/dist-packages/sklearn/metrics/_classification.py:1531: UndefinedMetricWarning: Precision is ill-defined and being set to 0.0 due to no predicted samples. Use `zero_division` parameter to control this behavior.\n",
            "  _warn_prf(average, modifier, f\"{metric.capitalize()} is\", len(result))\n"
          ]
        },
        {
          "name": "stdout",
          "output_type": "stream",
          "text": [
            "train : Label 0: Accuracy = 0.74, Precision = 0.00, Recall = 0.00, F1-score = 0.00\n",
            "train : Label 1: Accuracy = 0.74, Precision = 0.00, Recall = 0.00, F1-score = 0.00\n"
          ]
        },
        {
          "name": "stderr",
          "output_type": "stream",
          "text": [
            "/usr/local/lib/python3.10/dist-packages/sklearn/metrics/_classification.py:1531: UndefinedMetricWarning: Precision is ill-defined and being set to 0.0 due to no predicted samples. Use `zero_division` parameter to control this behavior.\n",
            "  _warn_prf(average, modifier, f\"{metric.capitalize()} is\", len(result))\n",
            "/usr/local/lib/python3.10/dist-packages/sklearn/metrics/_classification.py:1531: UndefinedMetricWarning: Precision is ill-defined and being set to 0.0 due to no predicted samples. Use `zero_division` parameter to control this behavior.\n",
            "  _warn_prf(average, modifier, f\"{metric.capitalize()} is\", len(result))\n"
          ]
        },
        {
          "name": "stdout",
          "output_type": "stream",
          "text": [
            "test : Label 0: Accuracy = 0.72, Precision = 0.00, Recall = 0.00, F1-score = 0.00\n",
            "test : Label 1: Accuracy = 0.78, Precision = 0.00, Recall = 0.00, F1-score = 0.00\n",
            "true tensor([[0., 0.],\n",
            "        [0., 0.],\n",
            "        [0., 1.],\n",
            "        [0., 0.],\n",
            "        [1., 0.]], dtype=torch.float64) pred tensor([[0.2637, 0.2232],\n",
            "        [0.2637, 0.2232],\n",
            "        [0.2679, 0.2387],\n",
            "        [0.2637, 0.2232],\n",
            "        [0.2837, 0.2803]], dtype=torch.float64, grad_fn=<CatBackward0>)\n",
            "mean_bce_loss=0.55  mean_reg=0.40\n",
            "Epoch 30, Loss: 0.5459\n"
          ]
        },
        {
          "name": "stderr",
          "output_type": "stream",
          "text": [
            "/usr/local/lib/python3.10/dist-packages/sklearn/metrics/_classification.py:1531: UndefinedMetricWarning: Precision is ill-defined and being set to 0.0 due to no predicted samples. Use `zero_division` parameter to control this behavior.\n",
            "  _warn_prf(average, modifier, f\"{metric.capitalize()} is\", len(result))\n",
            "/usr/local/lib/python3.10/dist-packages/sklearn/metrics/_classification.py:1531: UndefinedMetricWarning: Precision is ill-defined and being set to 0.0 due to no predicted samples. Use `zero_division` parameter to control this behavior.\n",
            "  _warn_prf(average, modifier, f\"{metric.capitalize()} is\", len(result))\n"
          ]
        },
        {
          "name": "stdout",
          "output_type": "stream",
          "text": [
            "train : Label 0: Accuracy = 0.74, Precision = 0.00, Recall = 0.00, F1-score = 0.00\n",
            "train : Label 1: Accuracy = 0.74, Precision = 0.00, Recall = 0.00, F1-score = 0.00\n"
          ]
        },
        {
          "name": "stderr",
          "output_type": "stream",
          "text": [
            "/usr/local/lib/python3.10/dist-packages/sklearn/metrics/_classification.py:1531: UndefinedMetricWarning: Precision is ill-defined and being set to 0.0 due to no predicted samples. Use `zero_division` parameter to control this behavior.\n",
            "  _warn_prf(average, modifier, f\"{metric.capitalize()} is\", len(result))\n",
            "/usr/local/lib/python3.10/dist-packages/sklearn/metrics/_classification.py:1531: UndefinedMetricWarning: Precision is ill-defined and being set to 0.0 due to no predicted samples. Use `zero_division` parameter to control this behavior.\n",
            "  _warn_prf(average, modifier, f\"{metric.capitalize()} is\", len(result))\n"
          ]
        },
        {
          "name": "stdout",
          "output_type": "stream",
          "text": [
            "test : Label 0: Accuracy = 0.72, Precision = 0.00, Recall = 0.00, F1-score = 0.00\n",
            "test : Label 1: Accuracy = 0.78, Precision = 0.00, Recall = 0.00, F1-score = 0.00\n",
            "true tensor([[0., 0.],\n",
            "        [0., 0.],\n",
            "        [0., 1.],\n",
            "        [0., 0.],\n",
            "        [1., 0.]], dtype=torch.float64) pred tensor([[0.1865, 0.1065],\n",
            "        [0.1865, 0.1065],\n",
            "        [0.2038, 0.1505],\n",
            "        [0.1865, 0.1065],\n",
            "        [0.2812, 0.3407]], dtype=torch.float64, grad_fn=<CatBackward0>)\n",
            "mean_bce_loss=0.52  mean_reg=0.40\n",
            "Epoch 40, Loss: 0.5207\n"
          ]
        },
        {
          "name": "stderr",
          "output_type": "stream",
          "text": [
            "/usr/local/lib/python3.10/dist-packages/sklearn/metrics/_classification.py:1531: UndefinedMetricWarning: Precision is ill-defined and being set to 0.0 due to no predicted samples. Use `zero_division` parameter to control this behavior.\n",
            "  _warn_prf(average, modifier, f\"{metric.capitalize()} is\", len(result))\n"
          ]
        },
        {
          "name": "stdout",
          "output_type": "stream",
          "text": [
            "train : Label 0: Accuracy = 0.74, Precision = 0.00, Recall = 0.00, F1-score = 0.00\n",
            "train : Label 1: Accuracy = 0.80, Precision = 0.76, Recall = 0.30, F1-score = 0.44\n"
          ]
        },
        {
          "name": "stderr",
          "output_type": "stream",
          "text": [
            "/usr/local/lib/python3.10/dist-packages/sklearn/metrics/_classification.py:1531: UndefinedMetricWarning: Precision is ill-defined and being set to 0.0 due to no predicted samples. Use `zero_division` parameter to control this behavior.\n",
            "  _warn_prf(average, modifier, f\"{metric.capitalize()} is\", len(result))\n"
          ]
        },
        {
          "name": "stdout",
          "output_type": "stream",
          "text": [
            "test : Label 0: Accuracy = 0.72, Precision = 0.00, Recall = 0.00, F1-score = 0.00\n",
            "test : Label 1: Accuracy = 0.79, Precision = 0.59, Recall = 0.17, F1-score = 0.26\n",
            "true tensor([[0., 0.],\n",
            "        [0., 0.],\n",
            "        [0., 1.],\n",
            "        [0., 0.],\n",
            "        [1., 0.]], dtype=torch.float64) pred tensor([[0.1798, 0.0883],\n",
            "        [0.1798, 0.0883],\n",
            "        [0.2166, 0.1710],\n",
            "        [0.1798, 0.0883],\n",
            "        [0.3785, 0.6161]], dtype=torch.float64, grad_fn=<CatBackward0>)\n",
            "mean_bce_loss=0.48  mean_reg=0.40\n",
            "Epoch 50, Loss: 0.4822\n",
            "train : Label 0: Accuracy = 0.75, Precision = 0.55, Recall = 0.30, F1-score = 0.38\n",
            "train : Label 1: Accuracy = 0.79, Precision = 0.65, Recall = 0.38, F1-score = 0.48\n",
            "test : Label 0: Accuracy = 0.72, Precision = 0.49, Recall = 0.22, F1-score = 0.31\n",
            "test : Label 1: Accuracy = 0.79, Precision = 0.53, Recall = 0.24, F1-score = 0.33\n",
            "true tensor([[0., 0.],\n",
            "        [0., 0.],\n",
            "        [0., 1.],\n",
            "        [0., 0.],\n",
            "        [1., 0.]], dtype=torch.float64) pred tensor([[0.1147, 0.0417],\n",
            "        [0.1147, 0.0417],\n",
            "        [0.1983, 0.2104],\n",
            "        [0.1147, 0.0417],\n",
            "        [0.4154, 0.6934]], dtype=torch.float64, grad_fn=<CatBackward0>)\n",
            "mean_bce_loss=0.46  mean_reg=0.40\n",
            "Epoch 60, Loss: 0.4561\n",
            "train : Label 0: Accuracy = 0.76, Precision = 0.59, Recall = 0.36, F1-score = 0.45\n",
            "train : Label 1: Accuracy = 0.79, Precision = 0.60, Recall = 0.50, F1-score = 0.54\n",
            "test : Label 0: Accuracy = 0.73, Precision = 0.55, Recall = 0.29, F1-score = 0.38\n",
            "test : Label 1: Accuracy = 0.80, Precision = 0.56, Recall = 0.46, F1-score = 0.50\n",
            "true tensor([[0., 0.],\n",
            "        [0., 0.],\n",
            "        [0., 1.],\n",
            "        [0., 0.],\n",
            "        [1., 0.]], dtype=torch.float64) pred tensor([[0.1783, 0.1517],\n",
            "        [0.1783, 0.1517],\n",
            "        [0.2685, 0.4983],\n",
            "        [0.1783, 0.1517],\n",
            "        [0.4152, 0.7124]], dtype=torch.float64, grad_fn=<CatBackward0>)\n",
            "mean_bce_loss=0.42  mean_reg=0.40\n",
            "Epoch 70, Loss: 0.4174\n",
            "train : Label 0: Accuracy = 0.76, Precision = 0.62, Recall = 0.25, F1-score = 0.36\n",
            "train : Label 1: Accuracy = 0.81, Precision = 0.67, Recall = 0.50, F1-score = 0.57\n",
            "test : Label 0: Accuracy = 0.73, Precision = 0.61, Recall = 0.16, F1-score = 0.25\n",
            "test : Label 1: Accuracy = 0.81, Precision = 0.60, Recall = 0.46, F1-score = 0.52\n",
            "true tensor([[0., 0.],\n",
            "        [0., 0.],\n",
            "        [0., 1.],\n",
            "        [0., 0.],\n",
            "        [1., 0.]], dtype=torch.float64) pred tensor([[0.1241, 0.0453],\n",
            "        [0.1241, 0.0453],\n",
            "        [0.2889, 0.5273],\n",
            "        [0.1241, 0.0453],\n",
            "        [0.2867, 0.7558]], dtype=torch.float64, grad_fn=<CatBackward0>)\n",
            "mean_bce_loss=0.52  mean_reg=0.40\n",
            "Epoch 80, Loss: 0.5219\n",
            "train : Label 0: Accuracy = 0.75, Precision = 0.53, Recall = 0.50, F1-score = 0.52\n",
            "train : Label 1: Accuracy = 0.82, Precision = 0.76, Recall = 0.41, F1-score = 0.53\n",
            "test : Label 0: Accuracy = 0.73, Precision = 0.51, Recall = 0.38, F1-score = 0.44\n",
            "test : Label 1: Accuracy = 0.80, Precision = 0.59, Recall = 0.32, F1-score = 0.42\n",
            "true tensor([[0., 0.],\n",
            "        [0., 0.],\n",
            "        [0., 1.],\n",
            "        [0., 0.],\n",
            "        [1., 0.]], dtype=torch.float64) pred tensor([[0.0750, 0.0821],\n",
            "        [0.0750, 0.0821],\n",
            "        [0.1531, 0.5546],\n",
            "        [0.0750, 0.0821],\n",
            "        [0.5057, 0.6583]], dtype=torch.float64, grad_fn=<CatBackward0>)\n",
            "mean_bce_loss=0.44  mean_reg=0.40\n",
            "Epoch 90, Loss: 0.4359\n",
            "train : Label 0: Accuracy = 0.74, Precision = 1.00, Recall = 0.02, F1-score = 0.04\n",
            "train : Label 1: Accuracy = 0.82, Precision = 0.73, Recall = 0.45, F1-score = 0.56\n",
            "test : Label 0: Accuracy = 0.72, Precision = 0.00, Recall = 0.00, F1-score = 0.00\n",
            "test : Label 1: Accuracy = 0.80, Precision = 0.58, Recall = 0.37, F1-score = 0.46\n",
            "true tensor([[0., 0.],\n",
            "        [0., 0.],\n",
            "        [0., 1.],\n",
            "        [0., 0.],\n",
            "        [1., 0.]], dtype=torch.float64) pred tensor([[0.0920, 0.0483],\n",
            "        [0.0920, 0.0483],\n",
            "        [0.2286, 0.6007],\n",
            "        [0.0920, 0.0483],\n",
            "        [0.2643, 0.6823]], dtype=torch.float64, grad_fn=<CatBackward0>)\n",
            "mean_bce_loss=0.39  mean_reg=0.40\n",
            "Epoch 100, Loss: 0.3914\n",
            "train : Label 0: Accuracy = 0.78, Precision = 0.69, Recall = 0.31, F1-score = 0.43\n",
            "train : Label 1: Accuracy = 0.82, Precision = 0.71, Recall = 0.52, F1-score = 0.60\n",
            "test : Label 0: Accuracy = 0.75, Precision = 0.65, Recall = 0.22, F1-score = 0.33\n",
            "test : Label 1: Accuracy = 0.79, Precision = 0.53, Recall = 0.43, F1-score = 0.47\n",
            "true tensor([[0., 0.],\n",
            "        [0., 0.],\n",
            "        [0., 1.],\n",
            "        [0., 0.],\n",
            "        [1., 0.]], dtype=torch.float64) pred tensor([[0.0773, 0.0421],\n",
            "        [0.0773, 0.0421],\n",
            "        [0.3444, 0.7006],\n",
            "        [0.0773, 0.0421],\n",
            "        [0.3344, 0.7242]], dtype=torch.float64, grad_fn=<CatBackward0>)\n",
            "mean_bce_loss=0.45  mean_reg=0.40\n",
            "Epoch 110, Loss: 0.4549\n",
            "train : Label 0: Accuracy = 0.80, Precision = 0.62, Recall = 0.58, F1-score = 0.60\n",
            "train : Label 1: Accuracy = 0.82, Precision = 0.83, Recall = 0.38, F1-score = 0.52\n",
            "test : Label 0: Accuracy = 0.75, Precision = 0.57, Recall = 0.40, F1-score = 0.47\n",
            "test : Label 1: Accuracy = 0.80, Precision = 0.60, Recall = 0.27, F1-score = 0.37\n",
            "true tensor([[0., 0.],\n",
            "        [0., 0.],\n",
            "        [0., 1.],\n",
            "        [0., 0.],\n",
            "        [1., 0.]], dtype=torch.float64) pred tensor([[0.0463, 0.0213],\n",
            "        [0.0463, 0.0213],\n",
            "        [0.3417, 0.7118],\n",
            "        [0.0463, 0.0213],\n",
            "        [0.4283, 0.6370]], dtype=torch.float64, grad_fn=<CatBackward0>)\n",
            "mean_bce_loss=0.42  mean_reg=0.40\n",
            "Epoch 120, Loss: 0.4245\n",
            "train : Label 0: Accuracy = 0.78, Precision = 0.66, Recall = 0.37, F1-score = 0.48\n",
            "train : Label 1: Accuracy = 0.81, Precision = 0.68, Recall = 0.51, F1-score = 0.58\n",
            "test : Label 0: Accuracy = 0.74, Precision = 0.58, Recall = 0.29, F1-score = 0.38\n",
            "test : Label 1: Accuracy = 0.79, Precision = 0.54, Recall = 0.42, F1-score = 0.47\n",
            "true tensor([[0., 0.],\n",
            "        [0., 0.],\n",
            "        [0., 1.],\n",
            "        [0., 0.],\n",
            "        [1., 0.]], dtype=torch.float64) pred tensor([[0.1545, 0.0525],\n",
            "        [0.1545, 0.0525],\n",
            "        [0.3378, 0.7260],\n",
            "        [0.1545, 0.0525],\n",
            "        [0.3127, 0.8093]], dtype=torch.float64, grad_fn=<CatBackward0>)\n",
            "mean_bce_loss=0.41  mean_reg=0.40\n",
            "Epoch 130, Loss: 0.4140\n",
            "train : Label 0: Accuracy = 0.77, Precision = 0.58, Recall = 0.55, F1-score = 0.56\n",
            "train : Label 1: Accuracy = 0.81, Precision = 0.83, Recall = 0.31, F1-score = 0.45\n",
            "test : Label 0: Accuracy = 0.74, Precision = 0.54, Recall = 0.41, F1-score = 0.47\n",
            "test : Label 1: Accuracy = 0.80, Precision = 0.62, Recall = 0.27, F1-score = 0.38\n",
            "true tensor([[0., 0.],\n",
            "        [0., 0.],\n",
            "        [0., 1.],\n",
            "        [0., 0.],\n",
            "        [1., 0.]], dtype=torch.float64) pred tensor([[0.0344, 0.0124],\n",
            "        [0.0344, 0.0124],\n",
            "        [0.2791, 0.7554],\n",
            "        [0.0344, 0.0124],\n",
            "        [0.3590, 0.6101]], dtype=torch.float64, grad_fn=<CatBackward0>)\n",
            "mean_bce_loss=0.36  mean_reg=0.40\n",
            "Epoch 140, Loss: 0.3612\n",
            "train : Label 0: Accuracy = 0.82, Precision = 0.65, Recall = 0.67, F1-score = 0.66\n",
            "train : Label 1: Accuracy = 0.84, Precision = 0.76, Recall = 0.54, F1-score = 0.63\n",
            "test : Label 0: Accuracy = 0.78, Precision = 0.61, Recall = 0.58, F1-score = 0.59\n",
            "test : Label 1: Accuracy = 0.80, Precision = 0.55, Recall = 0.41, F1-score = 0.47\n",
            "true tensor([[0., 0.],\n",
            "        [0., 0.],\n",
            "        [0., 1.],\n",
            "        [0., 0.],\n",
            "        [1., 0.]], dtype=torch.float64) pred tensor([[0.0592, 0.0366],\n",
            "        [0.0592, 0.0366],\n",
            "        [0.3458, 0.7722],\n",
            "        [0.0592, 0.0366],\n",
            "        [0.3231, 0.6791]], dtype=torch.float64, grad_fn=<CatBackward0>)\n",
            "mean_bce_loss=0.35  mean_reg=0.40\n",
            "Epoch 150, Loss: 0.3485\n",
            "train : Label 0: Accuracy = 0.83, Precision = 0.72, Recall = 0.59, F1-score = 0.65\n",
            "train : Label 1: Accuracy = 0.84, Precision = 0.73, Recall = 0.62, F1-score = 0.67\n",
            "test : Label 0: Accuracy = 0.78, Precision = 0.63, Recall = 0.54, F1-score = 0.58\n",
            "test : Label 1: Accuracy = 0.79, Precision = 0.54, Recall = 0.43, F1-score = 0.48\n",
            "true tensor([[0., 0.],\n",
            "        [0., 0.],\n",
            "        [0., 1.],\n",
            "        [0., 0.],\n",
            "        [1., 0.]], dtype=torch.float64) pred tensor([[0.0512, 0.0192],\n",
            "        [0.0512, 0.0192],\n",
            "        [0.2747, 0.8337],\n",
            "        [0.0512, 0.0192],\n",
            "        [0.3281, 0.7689]], dtype=torch.float64, grad_fn=<CatBackward0>)\n",
            "mean_bce_loss=0.31  mean_reg=0.40\n",
            "Epoch 160, Loss: 0.3137\n",
            "train : Label 0: Accuracy = 0.84, Precision = 0.73, Recall = 0.62, F1-score = 0.67\n",
            "train : Label 1: Accuracy = 0.85, Precision = 0.70, Recall = 0.73, F1-score = 0.71\n",
            "test : Label 0: Accuracy = 0.76, Precision = 0.60, Recall = 0.44, F1-score = 0.50\n",
            "test : Label 1: Accuracy = 0.79, Precision = 0.52, Recall = 0.57, F1-score = 0.54\n",
            "true tensor([[0., 0.],\n",
            "        [0., 0.],\n",
            "        [0., 1.],\n",
            "        [0., 0.],\n",
            "        [1., 0.]], dtype=torch.float64) pred tensor([[0.0236, 0.0289],\n",
            "        [0.0236, 0.0289],\n",
            "        [0.2585, 0.8124],\n",
            "        [0.0236, 0.0289],\n",
            "        [0.3702, 0.7248]], dtype=torch.float64, grad_fn=<CatBackward0>)\n",
            "mean_bce_loss=0.31  mean_reg=0.40\n",
            "Epoch 170, Loss: 0.3091\n",
            "train : Label 0: Accuracy = 0.83, Precision = 0.63, Recall = 0.88, F1-score = 0.73\n",
            "train : Label 1: Accuracy = 0.85, Precision = 0.80, Recall = 0.57, F1-score = 0.67\n",
            "test : Label 0: Accuracy = 0.79, Precision = 0.61, Recall = 0.70, F1-score = 0.65\n",
            "test : Label 1: Accuracy = 0.81, Precision = 0.59, Recall = 0.41, F1-score = 0.48\n",
            "true tensor([[0., 0.],\n",
            "        [0., 0.],\n",
            "        [0., 1.],\n",
            "        [0., 0.],\n",
            "        [1., 0.]], dtype=torch.float64) pred tensor([[0.0972, 0.0426],\n",
            "        [0.0972, 0.0426],\n",
            "        [0.2351, 0.8350],\n",
            "        [0.0972, 0.0426],\n",
            "        [0.5952, 0.3559]], dtype=torch.float64, grad_fn=<CatBackward0>)\n"
          ]
        }
      ],
      "source": [
        "# Step 4: Train the model\n",
        "n_epochs = 500  # Set to a small value for this example\n",
        "\n",
        "data_size = X.shape[0]\n",
        "for epoch in range(n_epochs):\n",
        "    verbose = (epoch%10==0)\n",
        "\n",
        "    for X_batch, y_batch in data_loader:\n",
        "        optimizer.zero_grad()\n",
        "        loss = model.train_loss(X_batch, y_batch, data_size, verbose=verbose)\n",
        "        loss.backward()\n",
        "        # for i in model.params:\n",
        "        #   print(i.grad)\n",
        "        optimizer.step()\n",
        "\n",
        "    if verbose:\n",
        "        print(f\"Epoch {epoch}, Loss: {loss:.4f}\")\n",
        "        evaluate(model, X, y, prefix=\"train\")\n",
        "        f1_test = evaluate(model, X_test, y_test, prefix=\"test\")\n",
        "        f1_test = sum(f1_test) / len(f1_test)\n",
        "        if f1_test > f1_thres:\n",
        "          f1_thres = f1_test\n",
        "          model_best = copy.deepcopy(model)\n",
        "          torch.save(model_best.backbone.state_dict(), \"./point_backbone_circlessquares.pt\")\n",
        "          for i, m in enumerate(model_best.m_list):\n",
        "            torch.save(m, f\"./point_att_{i}.pt\")\n",
        "        n_test_data_pred = 5\n",
        "        preds = model.predict(X_test[0:n_test_data_pred])\n",
        "        print(\"true\", y_test[0:n_test_data_pred], \"pred\", preds)\n"
      ]
    },
    {
      "cell_type": "markdown",
      "metadata": {
        "id": "TH9OVJCJ4bZ5"
      },
      "source": [
        "### LogisticVI"
      ]
    },
    {
      "cell_type": "code",
      "execution_count": null,
      "metadata": {
        "colab": {
          "base_uri": "https://localhost:8080/"
        },
        "id": "qzUd0amy6WMi",
        "outputId": "3dd09ff0-db80-46b3-d0a4-f68f0787e83c"
      },
      "outputs": [
        {
          "name": "stdout",
          "output_type": "stream",
          "text": [
            "[LLModel] beta=1.0 input_dim=64 output_dim=2 intercept=True\n"
          ]
        }
      ],
      "source": [
        "beta = 1.0\n",
        "model_logisticvi = LogisticVI(beta=beta,\n",
        "                   p=p,\n",
        "                   K=K,\n",
        "                   method=0, # method==0/1 (proposed bound, diagonal/full covariance)\n",
        "                   backbone=backbone,\n",
        "                   l_max=10.0,\n",
        "                   intercept=True,\n",
        "                   )"
      ]
    },
    {
      "cell_type": "code",
      "execution_count": null,
      "metadata": {
        "id": "BPeu8GoB68LW"
      },
      "outputs": [],
      "source": [
        "model_logisticvi_init = copy.deepcopy(model_logisticvi)"
      ]
    },
    {
      "cell_type": "code",
      "execution_count": null,
      "metadata": {
        "colab": {
          "base_uri": "https://localhost:8080/"
        },
        "id": "Sk-jfTJW4a-4",
        "outputId": "73da52f6-01e0-4dd9-9a74-ccef40070ea0"
      },
      "outputs": [
        {
          "name": "stdout",
          "output_type": "stream",
          "text": [
            " : Label 0: Accuracy = 0.72, Precision = 0.00, Recall = 0.00, F1-score = 0.00\n",
            " : Label 1: Accuracy = 0.78, Precision = 0.00, Recall = 0.00, F1-score = 0.00\n"
          ]
        },
        {
          "name": "stderr",
          "output_type": "stream",
          "text": [
            "/usr/local/lib/python3.10/dist-packages/sklearn/metrics/_classification.py:1531: UndefinedMetricWarning: Precision is ill-defined and being set to 0.0 due to no predicted samples. Use `zero_division` parameter to control this behavior.\n",
            "  _warn_prf(average, modifier, f\"{metric.capitalize()} is\", len(result))\n",
            "/usr/local/lib/python3.10/dist-packages/sklearn/metrics/_classification.py:1531: UndefinedMetricWarning: Precision is ill-defined and being set to 0.0 due to no predicted samples. Use `zero_division` parameter to control this behavior.\n",
            "  _warn_prf(average, modifier, f\"{metric.capitalize()} is\", len(result))\n"
          ]
        },
        {
          "data": {
            "text/plain": [
              "ConvNet(\n",
              "  (conv1): Conv2d(3, 64, kernel_size=(3, 3), stride=(1, 1), padding=(1, 1))\n",
              "  (avgpool1): AvgPool2d(kernel_size=2, stride=2, padding=0)\n",
              "  (conv2): Conv2d(64, 64, kernel_size=(3, 3), stride=(1, 1), padding=(1, 1))\n",
              "  (avgpool2): AvgPool2d(kernel_size=2, stride=2, padding=0)\n",
              "  (conv3): Conv2d(64, 64, kernel_size=(3, 3), stride=(1, 1), padding=(1, 1))\n",
              "  (avgpool3): AvgPool2d(kernel_size=2, stride=2, padding=1)\n",
              "  (fc1): Linear(in_features=5184, out_features=64, bias=True)\n",
              ")"
            ]
          },
          "execution_count": 27,
          "metadata": {},
          "output_type": "execute_result"
        }
      ],
      "source": [
        "evaluate(model_logisticvi, X_test, y_test)\n",
        "model_logisticvi.backbone.train()"
      ]
    },
    {
      "cell_type": "code",
      "execution_count": null,
      "metadata": {
        "id": "BVLMLMdx4a7m"
      },
      "outputs": [],
      "source": [
        "# model_logisticvi = copy.deepcopy(model_logisticvi_init)"
      ]
    },
    {
      "cell_type": "code",
      "execution_count": null,
      "metadata": {
        "colab": {
          "base_uri": "https://localhost:8080/"
        },
        "id": "HWpHrPCl6mMz",
        "outputId": "d8588976-7eae-4ae9-846c-3118638061eb"
      },
      "outputs": [
        {
          "name": "stderr",
          "output_type": "stream",
          "text": [
            "/usr/local/lib/python3.10/dist-packages/sklearn/metrics/_classification.py:1531: UndefinedMetricWarning: Precision is ill-defined and being set to 0.0 due to no predicted samples. Use `zero_division` parameter to control this behavior.\n",
            "  _warn_prf(average, modifier, f\"{metric.capitalize()} is\", len(result))\n",
            "/usr/local/lib/python3.10/dist-packages/sklearn/metrics/_classification.py:1531: UndefinedMetricWarning: Precision is ill-defined and being set to 0.0 due to no predicted samples. Use `zero_division` parameter to control this behavior.\n",
            "  _warn_prf(average, modifier, f\"{metric.capitalize()} is\", len(result))\n"
          ]
        },
        {
          "name": "stdout",
          "output_type": "stream",
          "text": [
            "train : Label 0: Accuracy = 0.74, Precision = 0.00, Recall = 0.00, F1-score = 0.00\n",
            "train : Label 1: Accuracy = 0.74, Precision = 0.00, Recall = 0.00, F1-score = 0.00\n",
            "test : Label 0: Accuracy = 0.72, Precision = 0.00, Recall = 0.00, F1-score = 0.00\n",
            "test : Label 1: Accuracy = 0.78, Precision = 0.00, Recall = 0.00, F1-score = 0.00\n"
          ]
        },
        {
          "name": "stderr",
          "output_type": "stream",
          "text": [
            "/usr/local/lib/python3.10/dist-packages/sklearn/metrics/_classification.py:1531: UndefinedMetricWarning: Precision is ill-defined and being set to 0.0 due to no predicted samples. Use `zero_division` parameter to control this behavior.\n",
            "  _warn_prf(average, modifier, f\"{metric.capitalize()} is\", len(result))\n",
            "/usr/local/lib/python3.10/dist-packages/sklearn/metrics/_classification.py:1531: UndefinedMetricWarning: Precision is ill-defined and being set to 0.0 due to no predicted samples. Use `zero_division` parameter to control this behavior.\n",
            "  _warn_prf(average, modifier, f\"{metric.capitalize()} is\", len(result))\n"
          ]
        },
        {
          "data": {
            "text/plain": [
              "[0.0, 0.0]"
            ]
          },
          "execution_count": 28,
          "metadata": {},
          "output_type": "execute_result"
        }
      ],
      "source": [
        "evaluate(model_logisticvi, X, y, prefix=\"train\")\n",
        "evaluate(model_logisticvi, X_test, y_test, prefix=\"test\")"
      ]
    },
    {
      "cell_type": "code",
      "execution_count": null,
      "metadata": {
        "id": "GlugXmCT6o6C"
      },
      "outputs": [],
      "source": [
        "optimizer = optim.Adam(model_logisticvi.params, lr=0.001)"
      ]
    },
    {
      "cell_type": "code",
      "execution_count": null,
      "metadata": {
        "id": "T4edIaU67ENq"
      },
      "outputs": [],
      "source": [
        "f1_thres = 0.55\n",
        "model_best = None"
      ]
    },
    {
      "cell_type": "code",
      "execution_count": null,
      "metadata": {
        "colab": {
          "base_uri": "https://localhost:8080/"
        },
        "id": "AFsuTX_H7HnV",
        "outputId": "2e7cb2a6-43dd-4b18-c8c7-ac1cec798161"
      },
      "outputs": [
        {
          "name": "stdout",
          "output_type": "stream",
          "text": [
            "ELBO=-1.66 mean_log_lik=-1.35 mean_kl_div=0.31\n",
            "Epoch 0, Loss: 1.6606\n"
          ]
        },
        {
          "name": "stderr",
          "output_type": "stream",
          "text": [
            "/usr/local/lib/python3.10/dist-packages/sklearn/metrics/_classification.py:1531: UndefinedMetricWarning: Precision is ill-defined and being set to 0.0 due to no predicted samples. Use `zero_division` parameter to control this behavior.\n",
            "  _warn_prf(average, modifier, f\"{metric.capitalize()} is\", len(result))\n",
            "/usr/local/lib/python3.10/dist-packages/sklearn/metrics/_classification.py:1531: UndefinedMetricWarning: Precision is ill-defined and being set to 0.0 due to no predicted samples. Use `zero_division` parameter to control this behavior.\n",
            "  _warn_prf(average, modifier, f\"{metric.capitalize()} is\", len(result))\n"
          ]
        },
        {
          "name": "stdout",
          "output_type": "stream",
          "text": [
            "train : Label 0: Accuracy = 0.74, Precision = 0.00, Recall = 0.00, F1-score = 0.00\n",
            "train : Label 1: Accuracy = 0.74, Precision = 0.00, Recall = 0.00, F1-score = 0.00\n"
          ]
        },
        {
          "name": "stderr",
          "output_type": "stream",
          "text": [
            "/usr/local/lib/python3.10/dist-packages/sklearn/metrics/_classification.py:1531: UndefinedMetricWarning: Precision is ill-defined and being set to 0.0 due to no predicted samples. Use `zero_division` parameter to control this behavior.\n",
            "  _warn_prf(average, modifier, f\"{metric.capitalize()} is\", len(result))\n",
            "/usr/local/lib/python3.10/dist-packages/sklearn/metrics/_classification.py:1531: UndefinedMetricWarning: Precision is ill-defined and being set to 0.0 due to no predicted samples. Use `zero_division` parameter to control this behavior.\n",
            "  _warn_prf(average, modifier, f\"{metric.capitalize()} is\", len(result))\n"
          ]
        },
        {
          "name": "stdout",
          "output_type": "stream",
          "text": [
            "test : Label 0: Accuracy = 0.72, Precision = 0.00, Recall = 0.00, F1-score = 0.00\n",
            "test : Label 1: Accuracy = 0.78, Precision = 0.00, Recall = 0.00, F1-score = 0.00\n",
            "true tensor([[0., 0.],\n",
            "        [0., 0.],\n",
            "        [0., 1.],\n",
            "        [0., 0.],\n",
            "        [1., 0.]], dtype=torch.float64) pred tensor([[0.0706, 0.0289],\n",
            "        [0.0706, 0.0289],\n",
            "        [0.0716, 0.0298],\n",
            "        [0.0706, 0.0289],\n",
            "        [0.0720, 0.0320]], dtype=torch.float64, grad_fn=<CatBackward0>)\n",
            "ELBO=-1.47 mean_log_lik=-1.17 mean_kl_div=0.30\n",
            "Epoch 10, Loss: 1.4695\n"
          ]
        },
        {
          "name": "stderr",
          "output_type": "stream",
          "text": [
            "/usr/local/lib/python3.10/dist-packages/sklearn/metrics/_classification.py:1531: UndefinedMetricWarning: Precision is ill-defined and being set to 0.0 due to no predicted samples. Use `zero_division` parameter to control this behavior.\n",
            "  _warn_prf(average, modifier, f\"{metric.capitalize()} is\", len(result))\n",
            "/usr/local/lib/python3.10/dist-packages/sklearn/metrics/_classification.py:1531: UndefinedMetricWarning: Precision is ill-defined and being set to 0.0 due to no predicted samples. Use `zero_division` parameter to control this behavior.\n",
            "  _warn_prf(average, modifier, f\"{metric.capitalize()} is\", len(result))\n"
          ]
        },
        {
          "name": "stdout",
          "output_type": "stream",
          "text": [
            "train : Label 0: Accuracy = 0.74, Precision = 0.00, Recall = 0.00, F1-score = 0.00\n",
            "train : Label 1: Accuracy = 0.74, Precision = 0.00, Recall = 0.00, F1-score = 0.00\n"
          ]
        },
        {
          "name": "stderr",
          "output_type": "stream",
          "text": [
            "/usr/local/lib/python3.10/dist-packages/sklearn/metrics/_classification.py:1531: UndefinedMetricWarning: Precision is ill-defined and being set to 0.0 due to no predicted samples. Use `zero_division` parameter to control this behavior.\n",
            "  _warn_prf(average, modifier, f\"{metric.capitalize()} is\", len(result))\n",
            "/usr/local/lib/python3.10/dist-packages/sklearn/metrics/_classification.py:1531: UndefinedMetricWarning: Precision is ill-defined and being set to 0.0 due to no predicted samples. Use `zero_division` parameter to control this behavior.\n",
            "  _warn_prf(average, modifier, f\"{metric.capitalize()} is\", len(result))\n"
          ]
        },
        {
          "name": "stdout",
          "output_type": "stream",
          "text": [
            "test : Label 0: Accuracy = 0.72, Precision = 0.00, Recall = 0.00, F1-score = 0.00\n",
            "test : Label 1: Accuracy = 0.78, Precision = 0.00, Recall = 0.00, F1-score = 0.00\n",
            "true tensor([[0., 0.],\n",
            "        [0., 0.],\n",
            "        [0., 1.],\n",
            "        [0., 0.],\n",
            "        [1., 0.]], dtype=torch.float64) pred tensor([[0.2293, 0.1841],\n",
            "        [0.2293, 0.1841],\n",
            "        [0.2320, 0.1910],\n",
            "        [0.2293, 0.1841],\n",
            "        [0.2406, 0.2142]], dtype=torch.float64, grad_fn=<CatBackward0>)\n",
            "ELBO=-1.42 mean_log_lik=-1.12 mean_kl_div=0.30\n",
            "Epoch 20, Loss: 1.4177\n"
          ]
        },
        {
          "name": "stderr",
          "output_type": "stream",
          "text": [
            "/usr/local/lib/python3.10/dist-packages/sklearn/metrics/_classification.py:1531: UndefinedMetricWarning: Precision is ill-defined and being set to 0.0 due to no predicted samples. Use `zero_division` parameter to control this behavior.\n",
            "  _warn_prf(average, modifier, f\"{metric.capitalize()} is\", len(result))\n",
            "/usr/local/lib/python3.10/dist-packages/sklearn/metrics/_classification.py:1531: UndefinedMetricWarning: Precision is ill-defined and being set to 0.0 due to no predicted samples. Use `zero_division` parameter to control this behavior.\n",
            "  _warn_prf(average, modifier, f\"{metric.capitalize()} is\", len(result))\n"
          ]
        },
        {
          "name": "stdout",
          "output_type": "stream",
          "text": [
            "train : Label 0: Accuracy = 0.74, Precision = 0.00, Recall = 0.00, F1-score = 0.00\n",
            "train : Label 1: Accuracy = 0.74, Precision = 0.00, Recall = 0.00, F1-score = 0.00\n"
          ]
        },
        {
          "name": "stderr",
          "output_type": "stream",
          "text": [
            "/usr/local/lib/python3.10/dist-packages/sklearn/metrics/_classification.py:1531: UndefinedMetricWarning: Precision is ill-defined and being set to 0.0 due to no predicted samples. Use `zero_division` parameter to control this behavior.\n",
            "  _warn_prf(average, modifier, f\"{metric.capitalize()} is\", len(result))\n",
            "/usr/local/lib/python3.10/dist-packages/sklearn/metrics/_classification.py:1531: UndefinedMetricWarning: Precision is ill-defined and being set to 0.0 due to no predicted samples. Use `zero_division` parameter to control this behavior.\n",
            "  _warn_prf(average, modifier, f\"{metric.capitalize()} is\", len(result))\n"
          ]
        },
        {
          "name": "stdout",
          "output_type": "stream",
          "text": [
            "test : Label 0: Accuracy = 0.72, Precision = 0.00, Recall = 0.00, F1-score = 0.00\n",
            "test : Label 1: Accuracy = 0.78, Precision = 0.00, Recall = 0.00, F1-score = 0.00\n",
            "true tensor([[0., 0.],\n",
            "        [0., 0.],\n",
            "        [0., 1.],\n",
            "        [0., 0.],\n",
            "        [1., 0.]], dtype=torch.float64) pred tensor([[0.2557, 0.2294],\n",
            "        [0.2557, 0.2294],\n",
            "        [0.2648, 0.2665],\n",
            "        [0.2557, 0.2294],\n",
            "        [0.3231, 0.3896]], dtype=torch.float64, grad_fn=<CatBackward0>)\n",
            "ELBO=-1.29 mean_log_lik=-0.99 mean_kl_div=0.30\n",
            "Epoch 30, Loss: 1.2860\n",
            "train : Label 0: Accuracy = 0.72, Precision = 0.43, Recall = 0.20, F1-score = 0.27\n",
            "train : Label 1: Accuracy = 0.76, Precision = 0.52, Recall = 0.69, F1-score = 0.59\n",
            "test : Label 0: Accuracy = 0.72, Precision = 0.49, Recall = 0.20, F1-score = 0.29\n",
            "test : Label 1: Accuracy = 0.76, Precision = 0.47, Recall = 0.67, F1-score = 0.55\n",
            "true tensor([[0., 0.],\n",
            "        [0., 0.],\n",
            "        [0., 1.],\n",
            "        [0., 0.],\n",
            "        [1., 0.]], dtype=torch.float64) pred tensor([[0.2259, 0.2356],\n",
            "        [0.2259, 0.2356],\n",
            "        [0.2787, 0.4724],\n",
            "        [0.2259, 0.2356],\n",
            "        [0.4663, 0.7783]], dtype=torch.float64, grad_fn=<CatBackward0>)\n",
            "ELBO=-1.23 mean_log_lik=-0.94 mean_kl_div=0.29\n",
            "Epoch 40, Loss: 1.2292\n",
            "train : Label 0: Accuracy = 0.74, Precision = 0.52, Recall = 0.34, F1-score = 0.41\n",
            "train : Label 1: Accuracy = 0.78, Precision = 0.58, Recall = 0.55, F1-score = 0.57\n",
            "test : Label 0: Accuracy = 0.72, Precision = 0.51, Recall = 0.28, F1-score = 0.36\n",
            "test : Label 1: Accuracy = 0.79, Precision = 0.51, Recall = 0.50, F1-score = 0.51\n",
            "true tensor([[0., 0.],\n",
            "        [0., 0.],\n",
            "        [0., 1.],\n",
            "        [0., 0.],\n",
            "        [1., 0.]], dtype=torch.float64) pred tensor([[0.1389, 0.0772],\n",
            "        [0.1389, 0.0772],\n",
            "        [0.2571, 0.4108],\n",
            "        [0.1389, 0.0772],\n",
            "        [0.4534, 0.7736]], dtype=torch.float64, grad_fn=<CatBackward0>)\n",
            "ELBO=-1.33 mean_log_lik=-1.04 mean_kl_div=0.29\n",
            "Epoch 50, Loss: 1.3325\n",
            "train : Label 0: Accuracy = 0.76, Precision = 0.56, Recall = 0.49, F1-score = 0.52\n",
            "train : Label 1: Accuracy = 0.82, Precision = 0.72, Recall = 0.48, F1-score = 0.57\n",
            "test : Label 0: Accuracy = 0.72, Precision = 0.50, Recall = 0.35, F1-score = 0.42\n",
            "test : Label 1: Accuracy = 0.81, Precision = 0.58, Recall = 0.40, F1-score = 0.47\n",
            "true tensor([[0., 0.],\n",
            "        [0., 0.],\n",
            "        [0., 1.],\n",
            "        [0., 0.],\n",
            "        [1., 0.]], dtype=torch.float64) pred tensor([[0.0962, 0.0614],\n",
            "        [0.0962, 0.0614],\n",
            "        [0.2809, 0.6093],\n",
            "        [0.0962, 0.0614],\n",
            "        [0.4450, 0.6268]], dtype=torch.float64, grad_fn=<CatBackward0>)\n",
            "ELBO=-1.20 mean_log_lik=-0.91 mean_kl_div=0.29\n",
            "Epoch 60, Loss: 1.1983\n"
          ]
        },
        {
          "name": "stderr",
          "output_type": "stream",
          "text": [
            "/usr/local/lib/python3.10/dist-packages/sklearn/metrics/_classification.py:1531: UndefinedMetricWarning: Precision is ill-defined and being set to 0.0 due to no predicted samples. Use `zero_division` parameter to control this behavior.\n",
            "  _warn_prf(average, modifier, f\"{metric.capitalize()} is\", len(result))\n"
          ]
        },
        {
          "name": "stdout",
          "output_type": "stream",
          "text": [
            "train : Label 0: Accuracy = 0.74, Precision = 0.00, Recall = 0.00, F1-score = 0.00\n",
            "train : Label 1: Accuracy = 0.82, Precision = 0.68, Recall = 0.55, F1-score = 0.61\n"
          ]
        },
        {
          "name": "stderr",
          "output_type": "stream",
          "text": [
            "/usr/local/lib/python3.10/dist-packages/sklearn/metrics/_classification.py:1531: UndefinedMetricWarning: Precision is ill-defined and being set to 0.0 due to no predicted samples. Use `zero_division` parameter to control this behavior.\n",
            "  _warn_prf(average, modifier, f\"{metric.capitalize()} is\", len(result))\n"
          ]
        },
        {
          "name": "stdout",
          "output_type": "stream",
          "text": [
            "test : Label 0: Accuracy = 0.72, Precision = 0.00, Recall = 0.00, F1-score = 0.00\n",
            "test : Label 1: Accuracy = 0.80, Precision = 0.54, Recall = 0.48, F1-score = 0.51\n",
            "true tensor([[0., 0.],\n",
            "        [0., 0.],\n",
            "        [0., 1.],\n",
            "        [0., 0.],\n",
            "        [1., 0.]], dtype=torch.float64) pred tensor([[0.1226, 0.1045],\n",
            "        [0.1226, 0.1045],\n",
            "        [0.2461, 0.6363],\n",
            "        [0.1226, 0.1045],\n",
            "        [0.3115, 0.7027]], dtype=torch.float64, grad_fn=<CatBackward0>)\n",
            "ELBO=-1.31 mean_log_lik=-1.03 mean_kl_div=0.28\n",
            "Epoch 70, Loss: 1.3135\n",
            "train : Label 0: Accuracy = 0.81, Precision = 0.69, Recall = 0.54, F1-score = 0.60\n",
            "train : Label 1: Accuracy = 0.82, Precision = 0.86, Recall = 0.34, F1-score = 0.48\n",
            "test : Label 0: Accuracy = 0.72, Precision = 0.51, Recall = 0.33, F1-score = 0.40\n",
            "test : Label 1: Accuracy = 0.81, Precision = 0.72, Recall = 0.23, F1-score = 0.34\n",
            "true tensor([[0., 0.],\n",
            "        [0., 0.],\n",
            "        [0., 1.],\n",
            "        [0., 0.],\n",
            "        [1., 0.]], dtype=torch.float64) pred tensor([[0.0331, 0.0060],\n",
            "        [0.0331, 0.0060],\n",
            "        [0.2300, 0.5977],\n",
            "        [0.0331, 0.0060],\n",
            "        [0.3874, 0.5284]], dtype=torch.float64, grad_fn=<CatBackward0>)\n",
            "ELBO=-1.10 mean_log_lik=-0.82 mean_kl_div=0.28\n",
            "Epoch 80, Loss: 1.0973\n",
            "train : Label 0: Accuracy = 0.81, Precision = 0.69, Recall = 0.50, F1-score = 0.58\n",
            "train : Label 1: Accuracy = 0.83, Precision = 0.71, Recall = 0.57, F1-score = 0.63\n",
            "test : Label 0: Accuracy = 0.76, Precision = 0.63, Recall = 0.39, F1-score = 0.48\n",
            "test : Label 1: Accuracy = 0.81, Precision = 0.58, Recall = 0.47, F1-score = 0.52\n",
            "true tensor([[0., 0.],\n",
            "        [0., 0.],\n",
            "        [0., 1.],\n",
            "        [0., 0.],\n",
            "        [1., 0.]], dtype=torch.float64) pred tensor([[0.0842, 0.0529],\n",
            "        [0.0842, 0.0529],\n",
            "        [0.2723, 0.7241],\n",
            "        [0.0842, 0.0529],\n",
            "        [0.3702, 0.6642]], dtype=torch.float64, grad_fn=<CatBackward0>)\n",
            "ELBO=-1.02 mean_log_lik=-0.74 mean_kl_div=0.28\n",
            "Epoch 90, Loss: 1.0165\n",
            "train : Label 0: Accuracy = 0.83, Precision = 0.71, Recall = 0.58, F1-score = 0.64\n",
            "train : Label 1: Accuracy = 0.84, Precision = 0.74, Recall = 0.56, F1-score = 0.64\n",
            "test : Label 0: Accuracy = 0.76, Precision = 0.61, Recall = 0.45, F1-score = 0.52\n",
            "test : Label 1: Accuracy = 0.80, Precision = 0.56, Recall = 0.43, F1-score = 0.49\n",
            "true tensor([[0., 0.],\n",
            "        [0., 0.],\n",
            "        [0., 1.],\n",
            "        [0., 0.],\n",
            "        [1., 0.]], dtype=torch.float64) pred tensor([[0.0716, 0.0271],\n",
            "        [0.0716, 0.0271],\n",
            "        [0.2668, 0.7339],\n",
            "        [0.0716, 0.0271],\n",
            "        [0.3748, 0.6975]], dtype=torch.float64, grad_fn=<CatBackward0>)\n",
            "ELBO=-0.94 mean_log_lik=-0.66 mean_kl_div=0.27\n",
            "Epoch 100, Loss: 0.9361\n",
            "train : Label 0: Accuracy = 0.83, Precision = 0.72, Recall = 0.60, F1-score = 0.66\n",
            "train : Label 1: Accuracy = 0.84, Precision = 0.71, Recall = 0.66, F1-score = 0.68\n",
            "test : Label 0: Accuracy = 0.78, Precision = 0.63, Recall = 0.50, F1-score = 0.56\n",
            "test : Label 1: Accuracy = 0.79, Precision = 0.53, Recall = 0.48, F1-score = 0.50\n",
            "true tensor([[0., 0.],\n",
            "        [0., 0.],\n",
            "        [0., 1.],\n",
            "        [0., 0.],\n",
            "        [1., 0.]], dtype=torch.float64) pred tensor([[0.0311, 0.0101],\n",
            "        [0.0311, 0.0101],\n",
            "        [0.2920, 0.7749],\n",
            "        [0.0311, 0.0101],\n",
            "        [0.3659, 0.7168]], dtype=torch.float64, grad_fn=<CatBackward0>)\n",
            "ELBO=-0.87 mean_log_lik=-0.60 mean_kl_div=0.27\n",
            "Epoch 110, Loss: 0.8667\n",
            "train : Label 0: Accuracy = 0.86, Precision = 0.73, Recall = 0.73, F1-score = 0.73\n",
            "train : Label 1: Accuracy = 0.87, Precision = 0.78, Recall = 0.66, F1-score = 0.72\n",
            "test : Label 0: Accuracy = 0.78, Precision = 0.62, Recall = 0.54, F1-score = 0.58\n",
            "test : Label 1: Accuracy = 0.81, Precision = 0.58, Recall = 0.46, F1-score = 0.51\n",
            "true tensor([[0., 0.],\n",
            "        [0., 0.],\n",
            "        [0., 1.],\n",
            "        [0., 0.],\n",
            "        [1., 0.]], dtype=torch.float64) pred tensor([[0.0131, 0.0023],\n",
            "        [0.0131, 0.0023],\n",
            "        [0.4072, 0.7628],\n",
            "        [0.0131, 0.0023],\n",
            "        [0.3866, 0.7114]], dtype=torch.float64, grad_fn=<CatBackward0>)\n",
            "ELBO=-0.81 mean_log_lik=-0.54 mean_kl_div=0.27\n",
            "Epoch 120, Loss: 0.8065\n",
            "train : Label 0: Accuracy = 0.88, Precision = 0.77, Recall = 0.75, F1-score = 0.76\n",
            "train : Label 1: Accuracy = 0.87, Precision = 0.75, Recall = 0.74, F1-score = 0.75\n",
            "test : Label 0: Accuracy = 0.77, Precision = 0.61, Recall = 0.52, F1-score = 0.56\n",
            "test : Label 1: Accuracy = 0.79, Precision = 0.52, Recall = 0.50, F1-score = 0.51\n",
            "true tensor([[0., 0.],\n",
            "        [0., 0.],\n",
            "        [0., 1.],\n",
            "        [0., 0.],\n",
            "        [1., 0.]], dtype=torch.float64) pred tensor([[0.0089, 0.0018],\n",
            "        [0.0089, 0.0018],\n",
            "        [0.3214, 0.7725],\n",
            "        [0.0089, 0.0018],\n",
            "        [0.3552, 0.8061]], dtype=torch.float64, grad_fn=<CatBackward0>)\n",
            "ELBO=-0.75 mean_log_lik=-0.49 mean_kl_div=0.26\n",
            "Epoch 130, Loss: 0.7500\n",
            "train : Label 0: Accuracy = 0.89, Precision = 0.79, Recall = 0.82, F1-score = 0.80\n",
            "train : Label 1: Accuracy = 0.89, Precision = 0.81, Recall = 0.76, F1-score = 0.78\n",
            "test : Label 0: Accuracy = 0.77, Precision = 0.61, Recall = 0.54, F1-score = 0.58\n",
            "test : Label 1: Accuracy = 0.79, Precision = 0.53, Recall = 0.48, F1-score = 0.50\n",
            "true tensor([[0., 0.],\n",
            "        [0., 0.],\n",
            "        [0., 1.],\n",
            "        [0., 0.],\n",
            "        [1., 0.]], dtype=torch.float64) pred tensor([[1.9796e-03, 2.4505e-04],\n",
            "        [1.9796e-03, 2.4505e-04],\n",
            "        [3.1923e-01, 7.1547e-01],\n",
            "        [1.9796e-03, 2.4505e-04],\n",
            "        [4.6556e-01, 6.4215e-01]], dtype=torch.float64, grad_fn=<CatBackward0>)\n",
            "ELBO=-0.69 mean_log_lik=-0.43 mean_kl_div=0.26\n",
            "Epoch 140, Loss: 0.6905\n",
            "train : Label 0: Accuracy = 0.91, Precision = 0.82, Recall = 0.86, F1-score = 0.84\n",
            "train : Label 1: Accuracy = 0.92, Precision = 0.87, Recall = 0.81, F1-score = 0.84\n",
            "test : Label 0: Accuracy = 0.78, Precision = 0.62, Recall = 0.57, F1-score = 0.60\n",
            "test : Label 1: Accuracy = 0.79, Precision = 0.53, Recall = 0.52, F1-score = 0.52\n",
            "true tensor([[0., 0.],\n",
            "        [0., 0.],\n",
            "        [0., 1.],\n",
            "        [0., 0.],\n",
            "        [1., 0.]], dtype=torch.float64) pred tensor([[8.6079e-04, 7.2301e-05],\n",
            "        [8.6079e-04, 7.2301e-05],\n",
            "        [2.5252e-01, 7.0967e-01],\n",
            "        [8.6079e-04, 7.2301e-05],\n",
            "        [5.3464e-01, 5.5194e-01]], dtype=torch.float64, grad_fn=<CatBackward0>)\n",
            "ELBO=-0.63 mean_log_lik=-0.37 mean_kl_div=0.26\n",
            "Epoch 150, Loss: 0.6313\n",
            "train : Label 0: Accuracy = 0.94, Precision = 0.86, Recall = 0.91, F1-score = 0.88\n",
            "train : Label 1: Accuracy = 0.94, Precision = 0.92, Recall = 0.83, F1-score = 0.87\n",
            "test : Label 0: Accuracy = 0.78, Precision = 0.63, Recall = 0.56, F1-score = 0.59\n",
            "test : Label 1: Accuracy = 0.79, Precision = 0.53, Recall = 0.50, F1-score = 0.52\n",
            "true tensor([[0., 0.],\n",
            "        [0., 0.],\n",
            "        [0., 1.],\n",
            "        [0., 0.],\n",
            "        [1., 0.]], dtype=torch.float64) pred tensor([[2.7641e-04, 8.7757e-06],\n",
            "        [2.7641e-04, 8.7757e-06],\n",
            "        [2.1705e-01, 6.4041e-01],\n",
            "        [2.7641e-04, 8.7757e-06],\n",
            "        [6.4566e-01, 4.3320e-01]], dtype=torch.float64, grad_fn=<CatBackward0>)\n",
            "ELBO=-0.58 mean_log_lik=-0.32 mean_kl_div=0.26\n",
            "Epoch 160, Loss: 0.5781\n",
            "train : Label 0: Accuracy = 0.94, Precision = 0.87, Recall = 0.92, F1-score = 0.89\n",
            "train : Label 1: Accuracy = 0.95, Precision = 0.93, Recall = 0.88, F1-score = 0.90\n",
            "test : Label 0: Accuracy = 0.79, Precision = 0.64, Recall = 0.55, F1-score = 0.59\n",
            "test : Label 1: Accuracy = 0.78, Precision = 0.51, Recall = 0.55, F1-score = 0.53\n",
            "true tensor([[0., 0.],\n",
            "        [0., 0.],\n",
            "        [0., 1.],\n",
            "        [0., 0.],\n",
            "        [1., 0.]], dtype=torch.float64) pred tensor([[7.7763e-05, 1.5841e-06],\n",
            "        [7.7763e-05, 1.5841e-06],\n",
            "        [1.3863e-01, 7.0503e-01],\n",
            "        [7.7763e-05, 1.5841e-06],\n",
            "        [6.9096e-01, 3.7738e-01]], dtype=torch.float64, grad_fn=<CatBackward0>)\n",
            "ELBO=-0.54 mean_log_lik=-0.28 mean_kl_div=0.25\n",
            "Epoch 170, Loss: 0.5353\n",
            "train : Label 0: Accuracy = 0.95, Precision = 0.88, Recall = 0.93, F1-score = 0.91\n",
            "train : Label 1: Accuracy = 0.96, Precision = 0.93, Recall = 0.90, F1-score = 0.92\n",
            "test : Label 0: Accuracy = 0.79, Precision = 0.64, Recall = 0.54, F1-score = 0.59\n",
            "test : Label 1: Accuracy = 0.79, Precision = 0.53, Recall = 0.55, F1-score = 0.54\n",
            "true tensor([[0., 0.],\n",
            "        [0., 0.],\n",
            "        [0., 1.],\n",
            "        [0., 0.],\n",
            "        [1., 0.]], dtype=torch.float64) pred tensor([[2.4498e-05, 1.9331e-07],\n",
            "        [2.4498e-05, 1.9331e-07],\n",
            "        [1.2309e-01, 7.1729e-01],\n",
            "        [2.4498e-05, 1.9331e-07],\n",
            "        [7.5329e-01, 2.8563e-01]], dtype=torch.float64, grad_fn=<CatBackward0>)\n",
            "ELBO=-0.49 mean_log_lik=-0.23 mean_kl_div=0.25\n",
            "Epoch 180, Loss: 0.4854\n",
            "train : Label 0: Accuracy = 0.95, Precision = 0.90, Recall = 0.93, F1-score = 0.91\n",
            "train : Label 1: Accuracy = 0.97, Precision = 0.94, Recall = 0.95, F1-score = 0.95\n",
            "test : Label 0: Accuracy = 0.79, Precision = 0.66, Recall = 0.56, F1-score = 0.60\n",
            "test : Label 1: Accuracy = 0.79, Precision = 0.51, Recall = 0.57, F1-score = 0.54\n",
            "true tensor([[0., 0.],\n",
            "        [0., 0.],\n",
            "        [0., 1.],\n",
            "        [0., 0.],\n",
            "        [1., 0.]], dtype=torch.float64) pred tensor([[1.3710e-05, 3.3114e-08],\n",
            "        [1.3710e-05, 3.3114e-08],\n",
            "        [8.6597e-02, 7.5750e-01],\n",
            "        [1.3710e-05, 3.3114e-08],\n",
            "        [8.9748e-01, 9.2733e-02]], dtype=torch.float64, grad_fn=<CatBackward0>)\n",
            "ELBO=-0.45 mean_log_lik=-0.20 mean_kl_div=0.25\n",
            "Epoch 190, Loss: 0.4463\n",
            "train : Label 0: Accuracy = 0.96, Precision = 0.89, Recall = 0.96, F1-score = 0.93\n",
            "train : Label 1: Accuracy = 0.98, Precision = 0.97, Recall = 0.95, F1-score = 0.96\n",
            "test : Label 0: Accuracy = 0.80, Precision = 0.65, Recall = 0.59, F1-score = 0.62\n",
            "test : Label 1: Accuracy = 0.80, Precision = 0.55, Recall = 0.57, F1-score = 0.56\n",
            "true tensor([[0., 0.],\n",
            "        [0., 0.],\n",
            "        [0., 1.],\n",
            "        [0., 0.],\n",
            "        [1., 0.]], dtype=torch.float64) pred tensor([[6.0052e-06, 2.6124e-09],\n",
            "        [6.0052e-06, 2.6124e-09],\n",
            "        [4.9757e-02, 8.1059e-01],\n",
            "        [6.0052e-06, 2.6124e-09],\n",
            "        [9.2525e-01, 4.6122e-02]], dtype=torch.float64, grad_fn=<CatBackward0>)\n",
            "ELBO=-0.42 mean_log_lik=-0.17 mean_kl_div=0.25\n",
            "Epoch 200, Loss: 0.4159\n",
            "train : Label 0: Accuracy = 0.97, Precision = 0.93, Recall = 0.96, F1-score = 0.94\n",
            "train : Label 1: Accuracy = 0.99, Precision = 0.97, Recall = 0.98, F1-score = 0.97\n",
            "test : Label 0: Accuracy = 0.79, Precision = 0.65, Recall = 0.56, F1-score = 0.60\n",
            "test : Label 1: Accuracy = 0.80, Precision = 0.54, Recall = 0.61, F1-score = 0.57\n",
            "true tensor([[0., 0.],\n",
            "        [0., 0.],\n",
            "        [0., 1.],\n",
            "        [0., 0.],\n",
            "        [1., 0.]], dtype=torch.float64) pred tensor([[2.9050e-06, 3.2932e-10],\n",
            "        [2.9050e-06, 3.2932e-10],\n",
            "        [3.0119e-02, 8.5463e-01],\n",
            "        [2.9050e-06, 3.2932e-10],\n",
            "        [9.3940e-01, 2.7991e-02]], dtype=torch.float64, grad_fn=<CatBackward0>)\n",
            "ELBO=-0.39 mean_log_lik=-0.15 mean_kl_div=0.24\n",
            "Epoch 210, Loss: 0.3912\n",
            "train : Label 0: Accuracy = 0.96, Precision = 0.91, Recall = 0.95, F1-score = 0.93\n",
            "train : Label 1: Accuracy = 0.99, Precision = 0.97, Recall = 0.98, F1-score = 0.97\n",
            "test : Label 0: Accuracy = 0.79, Precision = 0.65, Recall = 0.58, F1-score = 0.61\n",
            "test : Label 1: Accuracy = 0.81, Precision = 0.56, Recall = 0.62, F1-score = 0.59\n",
            "true tensor([[0., 0.],\n",
            "        [0., 0.],\n",
            "        [0., 1.],\n",
            "        [0., 0.],\n",
            "        [1., 0.]], dtype=torch.float64) pred tensor([[8.2091e-07, 2.5047e-11],\n",
            "        [8.2091e-07, 2.5047e-11],\n",
            "        [2.2088e-02, 8.8931e-01],\n",
            "        [8.2091e-07, 2.5047e-11],\n",
            "        [9.7055e-01, 1.4946e-02]], dtype=torch.float64, grad_fn=<CatBackward0>)\n",
            "ELBO=-0.37 mean_log_lik=-0.13 mean_kl_div=0.24\n",
            "Epoch 220, Loss: 0.3746\n",
            "train : Label 0: Accuracy = 0.97, Precision = 0.93, Recall = 0.96, F1-score = 0.95\n",
            "train : Label 1: Accuracy = 0.99, Precision = 0.98, Recall = 0.97, F1-score = 0.97\n",
            "test : Label 0: Accuracy = 0.80, Precision = 0.65, Recall = 0.59, F1-score = 0.62\n",
            "test : Label 1: Accuracy = 0.81, Precision = 0.56, Recall = 0.61, F1-score = 0.58\n",
            "true tensor([[0., 0.],\n",
            "        [0., 0.],\n",
            "        [0., 1.],\n",
            "        [0., 0.],\n",
            "        [1., 0.]], dtype=torch.float64) pred tensor([[6.7753e-07, 9.7700e-12],\n",
            "        [6.7753e-07, 9.7700e-12],\n",
            "        [1.1892e-02, 9.3295e-01],\n",
            "        [6.7753e-07, 9.7700e-12],\n",
            "        [9.8615e-01, 5.3384e-03]], dtype=torch.float64, grad_fn=<CatBackward0>)\n",
            "ELBO=-0.36 mean_log_lik=-0.12 mean_kl_div=0.24\n",
            "Epoch 230, Loss: 0.3571\n",
            "train : Label 0: Accuracy = 0.97, Precision = 0.93, Recall = 0.97, F1-score = 0.95\n",
            "train : Label 1: Accuracy = 0.99, Precision = 0.98, Recall = 0.98, F1-score = 0.98\n",
            "test : Label 0: Accuracy = 0.80, Precision = 0.66, Recall = 0.59, F1-score = 0.62\n",
            "test : Label 1: Accuracy = 0.81, Precision = 0.58, Recall = 0.59, F1-score = 0.58\n",
            "true tensor([[0., 0.],\n",
            "        [0., 0.],\n",
            "        [0., 1.],\n",
            "        [0., 0.],\n",
            "        [1., 0.]], dtype=torch.float64) pred tensor([[3.3728e-07, 6.8158e-13],\n",
            "        [3.3728e-07, 6.8158e-13],\n",
            "        [1.0497e-02, 9.2076e-01],\n",
            "        [3.3728e-07, 6.8158e-13],\n",
            "        [9.9117e-01, 2.3979e-03]], dtype=torch.float64, grad_fn=<CatBackward0>)\n",
            "ELBO=-0.34 mean_log_lik=-0.11 mean_kl_div=0.24\n",
            "Epoch 240, Loss: 0.3437\n",
            "train : Label 0: Accuracy = 0.97, Precision = 0.93, Recall = 0.97, F1-score = 0.95\n",
            "train : Label 1: Accuracy = 0.99, Precision = 0.98, Recall = 1.00, F1-score = 0.99\n",
            "test : Label 0: Accuracy = 0.81, Precision = 0.66, Recall = 0.62, F1-score = 0.64\n",
            "test : Label 1: Accuracy = 0.82, Precision = 0.59, Recall = 0.60, F1-score = 0.59\n",
            "true tensor([[0., 0.],\n",
            "        [0., 0.],\n",
            "        [0., 1.],\n",
            "        [0., 0.],\n",
            "        [1., 0.]], dtype=torch.float64) pred tensor([[8.3657e-08, 7.5753e-14],\n",
            "        [8.3657e-08, 7.5753e-14],\n",
            "        [7.4804e-03, 9.2698e-01],\n",
            "        [8.3657e-08, 7.5753e-14],\n",
            "        [9.9428e-01, 1.4766e-03]], dtype=torch.float64, grad_fn=<CatBackward0>)\n",
            "ELBO=-0.33 mean_log_lik=-0.10 mean_kl_div=0.23\n",
            "Epoch 250, Loss: 0.3328\n",
            "train : Label 0: Accuracy = 0.98, Precision = 0.94, Recall = 0.98, F1-score = 0.96\n",
            "train : Label 1: Accuracy = 0.99, Precision = 0.98, Recall = 0.98, F1-score = 0.98\n",
            "test : Label 0: Accuracy = 0.80, Precision = 0.66, Recall = 0.61, F1-score = 0.64\n",
            "test : Label 1: Accuracy = 0.82, Precision = 0.59, Recall = 0.60, F1-score = 0.59\n",
            "true tensor([[0., 0.],\n",
            "        [0., 0.],\n",
            "        [0., 1.],\n",
            "        [0., 0.],\n",
            "        [1., 0.]], dtype=torch.float64) pred tensor([[4.3361e-08, 2.5101e-14],\n",
            "        [4.3361e-08, 2.5101e-14],\n",
            "        [7.8002e-03, 9.4307e-01],\n",
            "        [4.3361e-08, 2.5101e-14],\n",
            "        [9.9621e-01, 1.0071e-03]], dtype=torch.float64, grad_fn=<CatBackward0>)\n",
            "ELBO=-0.32 mean_log_lik=-0.09 mean_kl_div=0.23\n",
            "Epoch 260, Loss: 0.3230\n",
            "train : Label 0: Accuracy = 0.98, Precision = 0.95, Recall = 0.98, F1-score = 0.96\n",
            "train : Label 1: Accuracy = 0.99, Precision = 0.98, Recall = 0.99, F1-score = 0.98\n",
            "test : Label 0: Accuracy = 0.80, Precision = 0.65, Recall = 0.60, F1-score = 0.62\n",
            "test : Label 1: Accuracy = 0.83, Precision = 0.61, Recall = 0.63, F1-score = 0.62\n",
            "true tensor([[0., 0.],\n",
            "        [0., 0.],\n",
            "        [0., 1.],\n",
            "        [0., 0.],\n",
            "        [1., 0.]], dtype=torch.float64) pred tensor([[1.3716e-08, 8.5116e-15],\n",
            "        [1.3716e-08, 8.5116e-15],\n",
            "        [4.7866e-03, 9.6117e-01],\n",
            "        [1.3716e-08, 8.5116e-15],\n",
            "        [9.9678e-01, 8.3646e-04]], dtype=torch.float64, grad_fn=<CatBackward0>)\n",
            "ELBO=-0.31 mean_log_lik=-0.08 mean_kl_div=0.23\n",
            "Epoch 270, Loss: 0.3131\n",
            "train : Label 0: Accuracy = 0.98, Precision = 0.93, Recall = 0.98, F1-score = 0.96\n",
            "train : Label 1: Accuracy = 0.99, Precision = 0.98, Recall = 1.00, F1-score = 0.99\n",
            "test : Label 0: Accuracy = 0.80, Precision = 0.66, Recall = 0.59, F1-score = 0.62\n",
            "test : Label 1: Accuracy = 0.82, Precision = 0.58, Recall = 0.62, F1-score = 0.60\n",
            "true tensor([[0., 0.],\n",
            "        [0., 0.],\n",
            "        [0., 1.],\n",
            "        [0., 0.],\n",
            "        [1., 0.]], dtype=torch.float64) pred tensor([[5.8506e-09, 2.1336e-15],\n",
            "        [5.8506e-09, 2.1336e-15],\n",
            "        [2.0537e-03, 9.8120e-01],\n",
            "        [5.8506e-09, 2.1336e-15],\n",
            "        [9.9545e-01, 1.8335e-03]], dtype=torch.float64, grad_fn=<CatBackward0>)\n",
            "ELBO=-0.30 mean_log_lik=-0.08 mean_kl_div=0.23\n",
            "Epoch 280, Loss: 0.3036\n",
            "train : Label 0: Accuracy = 0.97, Precision = 0.92, Recall = 0.98, F1-score = 0.95\n",
            "train : Label 1: Accuracy = 0.99, Precision = 0.98, Recall = 0.99, F1-score = 0.98\n",
            "test : Label 0: Accuracy = 0.80, Precision = 0.66, Recall = 0.61, F1-score = 0.64\n",
            "test : Label 1: Accuracy = 0.82, Precision = 0.58, Recall = 0.61, F1-score = 0.59\n",
            "true tensor([[0., 0.],\n",
            "        [0., 0.],\n",
            "        [0., 1.],\n",
            "        [0., 0.],\n",
            "        [1., 0.]], dtype=torch.float64) pred tensor([[3.3204e-09, 9.4084e-16],\n",
            "        [3.3204e-09, 9.4084e-16],\n",
            "        [2.8650e-03, 9.6991e-01],\n",
            "        [3.3204e-09, 9.4084e-16],\n",
            "        [9.9876e-01, 3.1296e-04]], dtype=torch.float64, grad_fn=<CatBackward0>)\n",
            "ELBO=-0.30 mean_log_lik=-0.07 mean_kl_div=0.22\n",
            "Epoch 290, Loss: 0.2972\n",
            "train : Label 0: Accuracy = 0.98, Precision = 0.93, Recall = 0.98, F1-score = 0.96\n",
            "train : Label 1: Accuracy = 0.99, Precision = 0.98, Recall = 1.00, F1-score = 0.99\n",
            "test : Label 0: Accuracy = 0.80, Precision = 0.66, Recall = 0.59, F1-score = 0.62\n",
            "test : Label 1: Accuracy = 0.82, Precision = 0.59, Recall = 0.63, F1-score = 0.61\n",
            "true tensor([[0., 0.],\n",
            "        [0., 0.],\n",
            "        [0., 1.],\n",
            "        [0., 0.],\n",
            "        [1., 0.]], dtype=torch.float64) pred tensor([[1.8279e-09, 5.3298e-16],\n",
            "        [1.8279e-09, 5.3298e-16],\n",
            "        [1.0910e-03, 9.8836e-01],\n",
            "        [1.8279e-09, 5.3298e-16],\n",
            "        [9.9816e-01, 6.1112e-04]], dtype=torch.float64, grad_fn=<CatBackward0>)\n",
            "ELBO=-0.29 mean_log_lik=-0.07 mean_kl_div=0.22\n",
            "Epoch 300, Loss: 0.2905\n",
            "train : Label 0: Accuracy = 0.97, Precision = 0.93, Recall = 0.98, F1-score = 0.95\n",
            "train : Label 1: Accuracy = 0.99, Precision = 0.98, Recall = 1.00, F1-score = 0.99\n",
            "test : Label 0: Accuracy = 0.81, Precision = 0.67, Recall = 0.63, F1-score = 0.65\n",
            "test : Label 1: Accuracy = 0.82, Precision = 0.58, Recall = 0.64, F1-score = 0.61\n",
            "true tensor([[0., 0.],\n",
            "        [0., 0.],\n",
            "        [0., 1.],\n",
            "        [0., 0.],\n",
            "        [1., 0.]], dtype=torch.float64) pred tensor([[1.0349e-09, 2.1208e-16],\n",
            "        [1.0349e-09, 2.1208e-16],\n",
            "        [1.2089e-03, 9.9016e-01],\n",
            "        [1.0349e-09, 2.1208e-16],\n",
            "        [9.9803e-01, 7.4518e-04]], dtype=torch.float64, grad_fn=<CatBackward0>)\n",
            "ELBO=-0.28 mean_log_lik=-0.07 mean_kl_div=0.22\n",
            "Epoch 310, Loss: 0.2846\n",
            "train : Label 0: Accuracy = 0.97, Precision = 0.93, Recall = 0.98, F1-score = 0.95\n",
            "train : Label 1: Accuracy = 0.99, Precision = 0.98, Recall = 1.00, F1-score = 0.99\n",
            "test : Label 0: Accuracy = 0.81, Precision = 0.67, Recall = 0.63, F1-score = 0.65\n",
            "test : Label 1: Accuracy = 0.81, Precision = 0.57, Recall = 0.61, F1-score = 0.59\n",
            "true tensor([[0., 0.],\n",
            "        [0., 0.],\n",
            "        [0., 1.],\n",
            "        [0., 0.],\n",
            "        [1., 0.]], dtype=torch.float64) pred tensor([[5.5697e-10, 1.2504e-16],\n",
            "        [5.5697e-10, 1.2504e-16],\n",
            "        [9.9435e-04, 9.8953e-01],\n",
            "        [5.5697e-10, 1.2504e-16],\n",
            "        [9.9875e-01, 3.6437e-04]], dtype=torch.float64, grad_fn=<CatBackward0>)\n",
            "ELBO=-0.28 mean_log_lik=-0.06 mean_kl_div=0.22\n",
            "Epoch 320, Loss: 0.2790\n",
            "train : Label 0: Accuracy = 0.98, Precision = 0.94, Recall = 0.98, F1-score = 0.96\n",
            "train : Label 1: Accuracy = 0.99, Precision = 0.98, Recall = 1.00, F1-score = 0.99\n",
            "test : Label 0: Accuracy = 0.81, Precision = 0.67, Recall = 0.61, F1-score = 0.64\n",
            "test : Label 1: Accuracy = 0.82, Precision = 0.58, Recall = 0.61, F1-score = 0.60\n",
            "true tensor([[0., 0.],\n",
            "        [0., 0.],\n",
            "        [0., 1.],\n",
            "        [0., 0.],\n",
            "        [1., 0.]], dtype=torch.float64) pred tensor([[2.6729e-10, 5.1326e-17],\n",
            "        [2.6729e-10, 5.1326e-17],\n",
            "        [4.6159e-04, 9.9636e-01],\n",
            "        [2.6729e-10, 5.1326e-17],\n",
            "        [9.9901e-01, 2.7524e-04]], dtype=torch.float64, grad_fn=<CatBackward0>)\n",
            "ELBO=-0.27 mean_log_lik=-0.06 mean_kl_div=0.21\n",
            "Epoch 330, Loss: 0.2741\n",
            "train : Label 0: Accuracy = 0.97, Precision = 0.93, Recall = 0.98, F1-score = 0.95\n",
            "train : Label 1: Accuracy = 0.99, Precision = 0.98, Recall = 1.00, F1-score = 0.99\n",
            "test : Label 0: Accuracy = 0.81, Precision = 0.67, Recall = 0.62, F1-score = 0.65\n",
            "test : Label 1: Accuracy = 0.81, Precision = 0.57, Recall = 0.62, F1-score = 0.59\n",
            "true tensor([[0., 0.],\n",
            "        [0., 0.],\n",
            "        [0., 1.],\n",
            "        [0., 0.],\n",
            "        [1., 0.]], dtype=torch.float64) pred tensor([[1.3749e-10, 2.9827e-17],\n",
            "        [1.3749e-10, 2.9827e-17],\n",
            "        [5.3318e-04, 9.9412e-01],\n",
            "        [1.3749e-10, 2.9827e-17],\n",
            "        [9.9845e-01, 5.0952e-04]], dtype=torch.float64, grad_fn=<CatBackward0>)\n",
            "ELBO=-0.27 mean_log_lik=-0.06 mean_kl_div=0.21\n",
            "Epoch 340, Loss: 0.2700\n",
            "train : Label 0: Accuracy = 0.97, Precision = 0.93, Recall = 0.98, F1-score = 0.95\n",
            "train : Label 1: Accuracy = 0.99, Precision = 0.98, Recall = 1.00, F1-score = 0.99\n",
            "test : Label 0: Accuracy = 0.81, Precision = 0.67, Recall = 0.62, F1-score = 0.64\n",
            "test : Label 1: Accuracy = 0.82, Precision = 0.58, Recall = 0.62, F1-score = 0.60\n",
            "true tensor([[0., 0.],\n",
            "        [0., 0.],\n",
            "        [0., 1.],\n",
            "        [0., 0.],\n",
            "        [1., 0.]], dtype=torch.float64) pred tensor([[5.2642e-11, 9.3594e-18],\n",
            "        [5.2642e-11, 9.3594e-18],\n",
            "        [3.7076e-04, 9.9475e-01],\n",
            "        [5.2642e-11, 9.3594e-18],\n",
            "        [9.9880e-01, 3.8093e-04]], dtype=torch.float64, grad_fn=<CatBackward0>)\n",
            "ELBO=-0.27 mean_log_lik=-0.06 mean_kl_div=0.21\n",
            "Epoch 350, Loss: 0.2665\n",
            "train : Label 0: Accuracy = 0.97, Precision = 0.93, Recall = 0.98, F1-score = 0.95\n",
            "train : Label 1: Accuracy = 0.99, Precision = 0.98, Recall = 1.00, F1-score = 0.99\n",
            "test : Label 0: Accuracy = 0.81, Precision = 0.67, Recall = 0.61, F1-score = 0.64\n",
            "test : Label 1: Accuracy = 0.81, Precision = 0.57, Recall = 0.62, F1-score = 0.59\n",
            "true tensor([[0., 0.],\n",
            "        [0., 0.],\n",
            "        [0., 1.],\n",
            "        [0., 0.],\n",
            "        [1., 0.]], dtype=torch.float64) pred tensor([[4.4761e-11, 2.2393e-17],\n",
            "        [4.4761e-11, 2.2393e-17],\n",
            "        [1.3909e-04, 9.9793e-01],\n",
            "        [4.4761e-11, 2.2393e-17],\n",
            "        [9.9842e-01, 7.2995e-04]], dtype=torch.float64, grad_fn=<CatBackward0>)\n",
            "ELBO=-0.26 mean_log_lik=-0.06 mean_kl_div=0.21\n",
            "Epoch 360, Loss: 0.2623\n",
            "train : Label 0: Accuracy = 0.97, Precision = 0.93, Recall = 0.98, F1-score = 0.95\n",
            "train : Label 1: Accuracy = 0.99, Precision = 0.98, Recall = 1.00, F1-score = 0.99\n",
            "test : Label 0: Accuracy = 0.81, Precision = 0.67, Recall = 0.61, F1-score = 0.64\n",
            "test : Label 1: Accuracy = 0.82, Precision = 0.58, Recall = 0.63, F1-score = 0.60\n",
            "true tensor([[0., 0.],\n",
            "        [0., 0.],\n",
            "        [0., 1.],\n",
            "        [0., 0.],\n",
            "        [1., 0.]], dtype=torch.float64) pred tensor([[9.7349e-12, 3.5400e-18],\n",
            "        [9.7349e-12, 3.5400e-18],\n",
            "        [4.1298e-04, 9.9628e-01],\n",
            "        [9.7349e-12, 3.5400e-18],\n",
            "        [9.9917e-01, 2.8004e-04]], dtype=torch.float64, grad_fn=<CatBackward0>)\n",
            "ELBO=-0.26 mean_log_lik=-0.05 mean_kl_div=0.20\n",
            "Epoch 370, Loss: 0.2586\n",
            "train : Label 0: Accuracy = 0.97, Precision = 0.93, Recall = 0.98, F1-score = 0.95\n",
            "train : Label 1: Accuracy = 0.99, Precision = 0.98, Recall = 1.00, F1-score = 0.99\n",
            "test : Label 0: Accuracy = 0.81, Precision = 0.68, Recall = 0.62, F1-score = 0.65\n",
            "test : Label 1: Accuracy = 0.83, Precision = 0.60, Recall = 0.63, F1-score = 0.61\n",
            "true tensor([[0., 0.],\n",
            "        [0., 0.],\n",
            "        [0., 1.],\n",
            "        [0., 0.],\n",
            "        [1., 0.]], dtype=torch.float64) pred tensor([[6.3805e-12, 4.1844e-18],\n",
            "        [6.3805e-12, 4.1844e-18],\n",
            "        [1.4992e-04, 9.9893e-01],\n",
            "        [6.3805e-12, 4.1844e-18],\n",
            "        [9.9952e-01, 9.8329e-05]], dtype=torch.float64, grad_fn=<CatBackward0>)\n",
            "ELBO=-0.25 mean_log_lik=-0.05 mean_kl_div=0.20\n",
            "Epoch 380, Loss: 0.2548\n",
            "train : Label 0: Accuracy = 0.97, Precision = 0.93, Recall = 0.98, F1-score = 0.95\n",
            "train : Label 1: Accuracy = 0.99, Precision = 0.98, Recall = 1.00, F1-score = 0.99\n",
            "test : Label 0: Accuracy = 0.81, Precision = 0.67, Recall = 0.63, F1-score = 0.65\n",
            "test : Label 1: Accuracy = 0.82, Precision = 0.59, Recall = 0.61, F1-score = 0.60\n",
            "true tensor([[0., 0.],\n",
            "        [0., 0.],\n",
            "        [0., 1.],\n",
            "        [0., 0.],\n",
            "        [1., 0.]], dtype=torch.float64) pred tensor([[3.9560e-12, 1.4868e-18],\n",
            "        [3.9560e-12, 1.4868e-18],\n",
            "        [5.0714e-04, 9.9290e-01],\n",
            "        [3.9560e-12, 1.4868e-18],\n",
            "        [9.9936e-01, 2.4354e-04]], dtype=torch.float64, grad_fn=<CatBackward0>)\n",
            "ELBO=-0.25 mean_log_lik=-0.05 mean_kl_div=0.20\n",
            "Epoch 390, Loss: 0.2514\n",
            "train : Label 0: Accuracy = 0.97, Precision = 0.93, Recall = 0.98, F1-score = 0.95\n",
            "train : Label 1: Accuracy = 0.99, Precision = 0.98, Recall = 1.00, F1-score = 0.99\n",
            "test : Label 0: Accuracy = 0.81, Precision = 0.68, Recall = 0.63, F1-score = 0.65\n",
            "test : Label 1: Accuracy = 0.82, Precision = 0.59, Recall = 0.62, F1-score = 0.60\n",
            "true tensor([[0., 0.],\n",
            "        [0., 0.],\n",
            "        [0., 1.],\n",
            "        [0., 0.],\n",
            "        [1., 0.]], dtype=torch.float64) pred tensor([[1.6905e-12, 1.5822e-18],\n",
            "        [1.6905e-12, 1.5822e-18],\n",
            "        [2.2512e-04, 9.9660e-01],\n",
            "        [1.6905e-12, 1.5822e-18],\n",
            "        [9.9965e-01, 6.9672e-05]], dtype=torch.float64, grad_fn=<CatBackward0>)\n",
            "ELBO=-0.25 mean_log_lik=-0.05 mean_kl_div=0.20\n",
            "Epoch 400, Loss: 0.2484\n",
            "train : Label 0: Accuracy = 0.97, Precision = 0.93, Recall = 0.98, F1-score = 0.95\n",
            "train : Label 1: Accuracy = 0.99, Precision = 0.98, Recall = 1.00, F1-score = 0.99\n",
            "test : Label 0: Accuracy = 0.81, Precision = 0.68, Recall = 0.61, F1-score = 0.65\n",
            "test : Label 1: Accuracy = 0.82, Precision = 0.58, Recall = 0.64, F1-score = 0.61\n",
            "true tensor([[0., 0.],\n",
            "        [0., 0.],\n",
            "        [0., 1.],\n",
            "        [0., 0.],\n",
            "        [1., 0.]], dtype=torch.float64) pred tensor([[1.6050e-12, 2.0347e-18],\n",
            "        [1.6050e-12, 2.0347e-18],\n",
            "        [6.5205e-05, 9.9919e-01],\n",
            "        [1.6050e-12, 2.0347e-18],\n",
            "        [9.9939e-01, 1.8876e-04]], dtype=torch.float64, grad_fn=<CatBackward0>)\n",
            "ELBO=-0.24 mean_log_lik=-0.05 mean_kl_div=0.19\n",
            "Epoch 410, Loss: 0.2449\n",
            "train : Label 0: Accuracy = 0.97, Precision = 0.93, Recall = 0.98, F1-score = 0.95\n",
            "train : Label 1: Accuracy = 0.99, Precision = 0.98, Recall = 1.00, F1-score = 0.99\n",
            "test : Label 0: Accuracy = 0.81, Precision = 0.68, Recall = 0.61, F1-score = 0.64\n",
            "test : Label 1: Accuracy = 0.82, Precision = 0.59, Recall = 0.64, F1-score = 0.62\n",
            "true tensor([[0., 0.],\n",
            "        [0., 0.],\n",
            "        [0., 1.],\n",
            "        [0., 0.],\n",
            "        [1., 0.]], dtype=torch.float64) pred tensor([[1.1909e-12, 2.2879e-18],\n",
            "        [1.1909e-12, 2.2879e-18],\n",
            "        [5.0912e-05, 9.9948e-01],\n",
            "        [1.1909e-12, 2.2879e-18],\n",
            "        [9.9977e-01, 5.8239e-05]], dtype=torch.float64, grad_fn=<CatBackward0>)\n",
            "ELBO=-0.24 mean_log_lik=-0.05 mean_kl_div=0.19\n",
            "Epoch 420, Loss: 0.2421\n",
            "train : Label 0: Accuracy = 0.97, Precision = 0.93, Recall = 0.98, F1-score = 0.95\n",
            "train : Label 1: Accuracy = 0.99, Precision = 0.98, Recall = 1.00, F1-score = 0.99\n",
            "test : Label 0: Accuracy = 0.81, Precision = 0.68, Recall = 0.62, F1-score = 0.65\n",
            "test : Label 1: Accuracy = 0.83, Precision = 0.60, Recall = 0.63, F1-score = 0.61\n",
            "true tensor([[0., 0.],\n",
            "        [0., 0.],\n",
            "        [0., 1.],\n",
            "        [0., 0.],\n",
            "        [1., 0.]], dtype=torch.float64) pred tensor([[2.3211e-13, 9.3776e-19],\n",
            "        [2.3211e-13, 9.3776e-19],\n",
            "        [3.2909e-04, 9.9807e-01],\n",
            "        [2.3211e-13, 9.3776e-19],\n",
            "        [9.9992e-01, 1.0023e-05]], dtype=torch.float64, grad_fn=<CatBackward0>)\n",
            "ELBO=-0.24 mean_log_lik=-0.05 mean_kl_div=0.19\n",
            "Epoch 430, Loss: 0.2390\n",
            "train : Label 0: Accuracy = 0.98, Precision = 0.93, Recall = 0.98, F1-score = 0.96\n",
            "train : Label 1: Accuracy = 0.99, Precision = 0.98, Recall = 1.00, F1-score = 0.99\n",
            "test : Label 0: Accuracy = 0.82, Precision = 0.69, Recall = 0.64, F1-score = 0.66\n",
            "test : Label 1: Accuracy = 0.82, Precision = 0.59, Recall = 0.63, F1-score = 0.61\n",
            "true tensor([[0., 0.],\n",
            "        [0., 0.],\n",
            "        [0., 1.],\n",
            "        [0., 0.],\n",
            "        [1., 0.]], dtype=torch.float64) pred tensor([[1.6930e-13, 8.3572e-19],\n",
            "        [1.6930e-13, 8.3572e-19],\n",
            "        [4.1286e-04, 9.9224e-01],\n",
            "        [1.6930e-13, 8.3572e-19],\n",
            "        [9.9952e-01, 7.9338e-05]], dtype=torch.float64, grad_fn=<CatBackward0>)\n",
            "ELBO=-0.24 mean_log_lik=-0.05 mean_kl_div=0.19\n",
            "Epoch 440, Loss: 0.2355\n",
            "train : Label 0: Accuracy = 0.97, Precision = 0.93, Recall = 0.98, F1-score = 0.95\n",
            "train : Label 1: Accuracy = 0.99, Precision = 0.98, Recall = 1.00, F1-score = 0.99\n",
            "test : Label 0: Accuracy = 0.81, Precision = 0.68, Recall = 0.64, F1-score = 0.66\n",
            "test : Label 1: Accuracy = 0.83, Precision = 0.61, Recall = 0.64, F1-score = 0.63\n",
            "true tensor([[0., 0.],\n",
            "        [0., 0.],\n",
            "        [0., 1.],\n",
            "        [0., 0.],\n",
            "        [1., 0.]], dtype=torch.float64) pred tensor([[1.0030e-13, 5.9345e-19],\n",
            "        [1.0030e-13, 5.9345e-19],\n",
            "        [9.1317e-05, 9.9826e-01],\n",
            "        [1.0030e-13, 5.9345e-19],\n",
            "        [9.9990e-01, 1.9324e-05]], dtype=torch.float64, grad_fn=<CatBackward0>)\n",
            "ELBO=-0.23 mean_log_lik=-0.05 mean_kl_div=0.18\n",
            "Epoch 450, Loss: 0.2325\n",
            "train : Label 0: Accuracy = 0.99, Precision = 1.00, Recall = 0.98, F1-score = 0.99\n",
            "train : Label 1: Accuracy = 0.99, Precision = 0.98, Recall = 1.00, F1-score = 0.99\n",
            "test : Label 0: Accuracy = 0.82, Precision = 0.69, Recall = 0.64, F1-score = 0.66\n",
            "test : Label 1: Accuracy = 0.82, Precision = 0.58, Recall = 0.62, F1-score = 0.60\n",
            "true tensor([[0., 0.],\n",
            "        [0., 0.],\n",
            "        [0., 1.],\n",
            "        [0., 0.],\n",
            "        [1., 0.]], dtype=torch.float64) pred tensor([[8.0508e-14, 9.1575e-19],\n",
            "        [8.0508e-14, 9.1575e-19],\n",
            "        [7.6582e-05, 9.9889e-01],\n",
            "        [8.0508e-14, 9.1575e-19],\n",
            "        [9.9986e-01, 2.6760e-05]], dtype=torch.float64, grad_fn=<CatBackward0>)\n",
            "ELBO=-0.23 mean_log_lik=-0.05 mean_kl_div=0.18\n",
            "Epoch 460, Loss: 0.2296\n",
            "train : Label 0: Accuracy = 0.98, Precision = 0.96, Recall = 0.98, F1-score = 0.97\n",
            "train : Label 1: Accuracy = 0.99, Precision = 0.98, Recall = 1.00, F1-score = 0.99\n",
            "test : Label 0: Accuracy = 0.82, Precision = 0.69, Recall = 0.65, F1-score = 0.67\n",
            "test : Label 1: Accuracy = 0.82, Precision = 0.59, Recall = 0.64, F1-score = 0.61\n",
            "true tensor([[0., 0.],\n",
            "        [0., 0.],\n",
            "        [0., 1.],\n",
            "        [0., 0.],\n",
            "        [1., 0.]], dtype=torch.float64) pred tensor([[3.5171e-14, 5.1401e-19],\n",
            "        [3.5171e-14, 5.1401e-19],\n",
            "        [4.7704e-05, 9.9945e-01],\n",
            "        [3.5171e-14, 5.1401e-19],\n",
            "        [9.9956e-01, 1.6228e-04]], dtype=torch.float64, grad_fn=<CatBackward0>)\n",
            "ELBO=-0.23 mean_log_lik=-0.05 mean_kl_div=0.18\n",
            "Epoch 470, Loss: 0.2266\n",
            "train : Label 0: Accuracy = 0.99, Precision = 0.98, Recall = 0.98, F1-score = 0.98\n",
            "train : Label 1: Accuracy = 0.99, Precision = 0.98, Recall = 1.00, F1-score = 0.99\n",
            "test : Label 0: Accuracy = 0.82, Precision = 0.69, Recall = 0.64, F1-score = 0.66\n",
            "test : Label 1: Accuracy = 0.83, Precision = 0.60, Recall = 0.63, F1-score = 0.62\n",
            "true tensor([[0., 0.],\n",
            "        [0., 0.],\n",
            "        [0., 1.],\n",
            "        [0., 0.],\n",
            "        [1., 0.]], dtype=torch.float64) pred tensor([[2.4750e-14, 4.2518e-19],\n",
            "        [2.4750e-14, 4.2518e-19],\n",
            "        [2.1140e-05, 9.9971e-01],\n",
            "        [2.4750e-14, 4.2518e-19],\n",
            "        [9.9990e-01, 1.8076e-05]], dtype=torch.float64, grad_fn=<CatBackward0>)\n",
            "ELBO=-0.22 mean_log_lik=-0.05 mean_kl_div=0.18\n",
            "Epoch 480, Loss: 0.2242\n",
            "train : Label 0: Accuracy = 0.99, Precision = 0.98, Recall = 0.98, F1-score = 0.98\n",
            "train : Label 1: Accuracy = 0.99, Precision = 0.98, Recall = 1.00, F1-score = 0.99\n",
            "test : Label 0: Accuracy = 0.81, Precision = 0.68, Recall = 0.63, F1-score = 0.66\n",
            "test : Label 1: Accuracy = 0.82, Precision = 0.59, Recall = 0.61, F1-score = 0.60\n",
            "true tensor([[0., 0.],\n",
            "        [0., 0.],\n",
            "        [0., 1.],\n",
            "        [0., 0.],\n",
            "        [1., 0.]], dtype=torch.float64) pred tensor([[1.5459e-14, 9.4266e-19],\n",
            "        [1.5459e-14, 9.4266e-19],\n",
            "        [2.0210e-05, 9.9976e-01],\n",
            "        [1.5459e-14, 9.4266e-19],\n",
            "        [9.9992e-01, 1.5945e-05]], dtype=torch.float64, grad_fn=<CatBackward0>)\n",
            "ELBO=-0.22 mean_log_lik=-0.05 mean_kl_div=0.17\n",
            "Epoch 490, Loss: 0.2216\n",
            "train : Label 0: Accuracy = 0.98, Precision = 0.93, Recall = 0.98, F1-score = 0.96\n",
            "train : Label 1: Accuracy = 0.99, Precision = 0.98, Recall = 1.00, F1-score = 0.99\n",
            "test : Label 0: Accuracy = 0.81, Precision = 0.68, Recall = 0.63, F1-score = 0.65\n",
            "test : Label 1: Accuracy = 0.82, Precision = 0.59, Recall = 0.63, F1-score = 0.61\n",
            "true tensor([[0., 0.],\n",
            "        [0., 0.],\n",
            "        [0., 1.],\n",
            "        [0., 0.],\n",
            "        [1., 0.]], dtype=torch.float64) pred tensor([[8.1459e-15, 5.7172e-19],\n",
            "        [8.1459e-15, 5.7172e-19],\n",
            "        [6.5291e-05, 9.9686e-01],\n",
            "        [8.1459e-15, 5.7172e-19],\n",
            "        [9.9993e-01, 1.1229e-05]], dtype=torch.float64, grad_fn=<CatBackward0>)\n"
          ]
        }
      ],
      "source": [
        "# Step 4: Train the model\n",
        "n_epochs = 500  # Set to a small value for this example\n",
        "\n",
        "data_size = X.shape[0]\n",
        "for epoch in range(n_epochs):\n",
        "    verbose = (epoch%10==0)\n",
        "\n",
        "    for X_batch, y_batch in data_loader:\n",
        "        optimizer.zero_grad()\n",
        "        loss = model_logisticvi.train_loss(X_batch, y_batch, data_size, verbose=verbose)\n",
        "        loss.backward()\n",
        "        # for i in model_logisticvi.params:\n",
        "        #   print(i.grad)\n",
        "        optimizer.step()\n",
        "\n",
        "    if verbose:\n",
        "        print(f\"Epoch {epoch}, Loss: {loss:.4f}\")\n",
        "        evaluate(model_logisticvi, X, y, prefix=\"train\")\n",
        "        f1_test = evaluate(model_logisticvi, X_test, y_test, prefix=\"test\")\n",
        "        f1_test = sum(f1_test) / len(f1_test)\n",
        "        if f1_test > f1_thres:\n",
        "          f1_thres = f1_test\n",
        "          model_logisticvi_best = copy.deepcopy(model_logisticvi)\n",
        "          torch.save(model_logisticvi_best.backbone.state_dict(), \"./logisticvi_backbone_circlessquares.pt\")\n",
        "          for i, m in enumerate(model_logisticvi_best.m_list):\n",
        "            torch.save(m, f\"./logisticvi_att_{i}.pt\")\n",
        "        n_test_data_pred = 5\n",
        "        preds = model_logisticvi.predict(X_test[0:n_test_data_pred])\n",
        "        print(\"true\", y_test[0:n_test_data_pred], \"pred\", preds)\n"
      ]
    },
    {
      "cell_type": "code",
      "execution_count": null,
      "metadata": {
        "id": "5qTUPmk5l2yn"
      },
      "outputs": [],
      "source": []
    },
    {
      "cell_type": "markdown",
      "metadata": {
        "id": "Q1bHLZDsl3bZ"
      },
      "source": [
        "### Sigmoid"
      ]
    },
    {
      "cell_type": "code",
      "execution_count": null,
      "metadata": {
        "id": "KCcgs-UUl2m0"
      },
      "outputs": [],
      "source": []
    },
    {
      "cell_type": "code",
      "execution_count": null,
      "metadata": {
        "id": "kfSNVm78l2Yk"
      },
      "outputs": [],
      "source": []
    },
    {
      "cell_type": "markdown",
      "metadata": {
        "id": "HdPYcQfaigrg"
      },
      "source": [
        "# [WIP] Real-life dataset"
      ]
    },
    {
      "cell_type": "markdown",
      "metadata": {
        "id": "BMjy-09Vh58B"
      },
      "source": [
        "See datasets @ https://www.uco.es/kdis/mllresources/#Corel16kDesc"
      ]
    },
    {
      "cell_type": "code",
      "execution_count": null,
      "metadata": {
        "id": "Y5ml1m0Sh642"
      },
      "outputs": [],
      "source": [
        "# !pip install torch torchtext nltk\n",
        "# # !pip install --upgrade torch torchtext nltk\n"
      ]
    },
    {
      "cell_type": "code",
      "execution_count": null,
      "metadata": {
        "id": "PoO5jLWFx26j"
      },
      "outputs": [],
      "source": [
        "# import nltk\n",
        "\n",
        "# nltk.download('punkt_tab')"
      ]
    },
    {
      "cell_type": "code",
      "execution_count": null,
      "metadata": {
        "id": "1fKEc_ZfiflV"
      },
      "outputs": [],
      "source": [
        "# import torch\n",
        "# from torch.utils.data import DataLoader, Dataset\n",
        "# from torch.nn.utils.rnn import pad_sequence\n",
        "# from torchtext.vocab import GloVe\n",
        "# from nltk.corpus import reuters\n",
        "# import nltk\n",
        "# nltk.download('reuters')\n",
        "# nltk.download('punkt')\n",
        "\n",
        "# # Load the Reuters dataset\n",
        "# categories = reuters.categories()  # list of all categories (multi-labels)\n",
        "# documents = reuters.fileids()\n",
        "\n",
        "# # Split into train and test sets\n",
        "# train_docs = [doc for doc in documents if doc.startswith(\"train\")]\n",
        "# test_docs = [doc for doc in documents if doc.startswith(\"test\")]\n",
        "\n",
        "# # Tokenize and preprocess documents\n",
        "# def tokenize_and_preprocess(doc_id):\n",
        "#     tokens = nltk.word_tokenize(reuters.raw(doc_id))\n",
        "#     return tokens\n",
        "\n",
        "# train_tokens = [tokenize_and_preprocess(doc_id) for doc_id in train_docs]\n",
        "# test_tokens = [tokenize_and_preprocess(doc_id) for doc_id in test_docs]\n",
        "\n",
        "# # Create multi-labels for documents\n",
        "# def get_labels(doc_id):\n",
        "#     labels = torch.zeros(len(categories))\n",
        "#     for category in reuters.categories(doc_id):\n",
        "#         labels[categories.index(category)] = 1.0\n",
        "#     return labels\n",
        "\n",
        "# train_labels = [get_labels(doc_id) for doc_id in train_docs]\n",
        "# test_labels = [get_labels(doc_id) for doc_id in test_docs]\n",
        "\n",
        "# # Build Vocabulary and Embeddings\n",
        "# glove = GloVe(name='6B', dim=100)\n",
        "# def vectorize(tokens):\n",
        "#     vectors = [glove[token] for token in tokens if token in glove.stoi]\n",
        "#     return torch.stack(vectors) if vectors else torch.empty(0, 100)\n",
        "\n",
        "# train_vectors = [vectorize(tokens) for tokens in train_tokens]\n",
        "# test_vectors = [vectorize(tokens) for tokens in test_tokens]"
      ]
    },
    {
      "cell_type": "code",
      "execution_count": null,
      "metadata": {
        "id": "vNfScqM6in0P"
      },
      "outputs": [],
      "source": []
    }
  ],
  "metadata": {
    "colab": {
      "toc_visible": true,
      "provenance": []
    },
    "kernelspec": {
      "display_name": "Python 3",
      "name": "python3"
    },
    "language_info": {
      "name": "python"
    }
  },
  "nbformat": 4,
  "nbformat_minor": 0
}